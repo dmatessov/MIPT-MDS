{
 "cells": [
  {
   "cell_type": "markdown",
   "metadata": {
    "id": "tJSkS1KoEVAH"
   },
   "source": [
    "### WGAN\n",
    "\n",
    "* Модифицируйте код ячеек ниже и реализуйте [Wasserstein GAN](https://arxiv.org/abs/1701.07875) с клиппингом весов. (10 баллов)\n",
    "\n",
    "* Замените клиппинг весов на [штраф градентов](https://arxiv.org/pdf/1704.00028v3.pdf). (10 баллов)\n",
    "\n",
    "* Добавьте лейблы в WGAN, тем самым решая задачу [условной генерации](https://arxiv.org/pdf/1411.1784.pdf). (30 баллов)\n",
    "\n",
    "Добавьте в этот файл анализ полученных результатов с различными графиками обучения и визуализацию генерации. Сравните как работает клиппинг весов и штраф градиентов и попробуйте пронаблюдать какие недостатки имеет модель GAN."
   ]
  },
  {
   "cell_type": "code",
   "execution_count": 123,
   "metadata": {
    "id": "_PBZhPXoEVAI"
   },
   "outputs": [],
   "source": [
    "import torch\n",
    "import torch.nn as nn\n",
    "import torch.nn.functional as F\n",
    "import torch.optim as optim\n",
    "from torch.utils.data import DataLoader, Dataset\n",
    "\n",
    "import torchvision\n",
    "import matplotlib.pyplot as plt\n",
    "import numpy as np\n",
    "\n",
    "from torch.autograd import Variable"
   ]
  },
  {
   "cell_type": "markdown",
   "metadata": {
    "id": "JA1WUmq7EVAI"
   },
   "source": [
    "### Простой конфиг (для хранения параметров, можете использовать и модифицировать)"
   ]
  },
  {
   "cell_type": "code",
   "execution_count": 124,
   "metadata": {
    "id": "6ZOVySNaEVAJ"
   },
   "outputs": [],
   "source": [
    "class Config:\n",
    "    pass\n",
    "\n",
    "config = Config()\n",
    "config.mnist_path = None\n",
    "config.batch_size = 16\n",
    "config.num_workers = 3\n",
    "config.num_epochs = 10\n",
    "config.noise_size = 50\n",
    "config.print_freq = 500\n",
    "config.num_classes = 10"
   ]
  },
  {
   "cell_type": "markdown",
   "metadata": {
    "id": "H4z2spNOEVAJ"
   },
   "source": [
    "### Создаем dataloader"
   ]
  },
  {
   "cell_type": "code",
   "execution_count": 125,
   "metadata": {
    "id": "rJQdF3-xEVAJ"
   },
   "outputs": [],
   "source": [
    "train = torchvision.datasets.FashionMNIST(\"fashion_mnist\", train=True, transform=torchvision.transforms.ToTensor(), download=True)"
   ]
  },
  {
   "cell_type": "code",
   "execution_count": 126,
   "metadata": {
    "id": "GXozdEFQEVAJ"
   },
   "outputs": [
    {
     "data": {
      "text/plain": [
       "torch.Size([16, 1, 28, 28])"
      ]
     },
     "execution_count": 126,
     "metadata": {},
     "output_type": "execute_result"
    }
   ],
   "source": [
    "image, label = next(iter(dataloader))\n",
    "image.size()"
   ]
  },
  {
   "cell_type": "markdown",
   "metadata": {
    "id": "Ki7mSwhrEVAK"
   },
   "source": [
    "### Создаем модель GAN"
   ]
  },
  {
   "cell_type": "code",
   "execution_count": 127,
   "metadata": {
    "id": "diozgmg4EVAK"
   },
   "outputs": [],
   "source": [
    "# class Generator(nn.Module):\n",
    "#     def __init__(self):\n",
    "#         super(Generator, self).__init__()\n",
    "#         self.model = nn.Sequential(\n",
    "#             nn.Linear(config.noise_size, 200),\n",
    "#             nn.ReLU(inplace=True),\n",
    "#             nn.Linear(200, 28*28),\n",
    "#             nn.Sigmoid())\n",
    "\n",
    "#     def forward(self, x):\n",
    "#         return self.model(x)\n",
    "\n",
    "# class Discriminator(nn.Module):\n",
    "#     def __init__(self):\n",
    "#         super(Discriminator, self).__init__()\n",
    "#         self.model = nn.Sequential(\n",
    "#             nn.Linear(28*28, 200),\n",
    "#             nn.ReLU(inplace=True),\n",
    "#             nn.Linear(200, 50),\n",
    "#             nn.ReLU(inplace=True),\n",
    "#             nn.Linear(50, 1),\n",
    "#             nn.Sigmoid())\n",
    "#     def forward(self, x):\n",
    "#         return self.model(x)\n",
    "\n",
    "\n",
    "class ConditionalGenerator(nn.Module):\n",
    "    def __init__(self, noise_size, num_classes, hidden_size=200):\n",
    "        super(ConditionalGenerator, self).__init__()\n",
    "        self.embedding = nn.Embedding(num_classes, noise_size)\n",
    "        self.model = nn.Sequential(\n",
    "            # nn.Linear(noise_size + num_classes, hidden_size),\n",
    "            nn.Linear(noise_size + noise_size, hidden_size),\n",
    "            nn.ReLU(inplace=True),\n",
    "            nn.Linear(hidden_size, 28*28),\n",
    "            nn.Sigmoid()\n",
    "        )\n",
    "\n",
    "    def forward(self, noise, labels):\n",
    "        embedded_labels = self.embedding(labels)\n",
    "        x = torch.cat([noise, embedded_labels], dim=1)\n",
    "        return self.model(x)\n",
    "\n",
    "class ConditionalDiscriminator(nn.Module):\n",
    "    def __init__(self, num_classes, hidden_size=200):\n",
    "        super(ConditionalDiscriminator, self).__init__()\n",
    "        self.embedding = nn.Embedding(num_classes, 28*28)\n",
    "        self.model = nn.Sequential(\n",
    "            # nn.Linear(28*28 + num_classes, hidden_size),\n",
    "            nn.Linear(28*28 + 28*28, hidden_size), #28*28 - сама картинка + 28*28 - размер embedding\n",
    "            nn.ReLU(inplace=True),\n",
    "            nn.Linear(hidden_size, 50),\n",
    "            nn.ReLU(inplace=True),\n",
    "            nn.Linear(50, 1),\n",
    "            nn.Sigmoid()\n",
    "        )\n",
    "\n",
    "    def forward(self, image, labels):\n",
    "        embedded_labels = self.embedding(labels)\n",
    "        x = torch.cat([image, embedded_labels], dim=1)\n",
    "        return self.model(x)\n",
    "\n"
   ]
  },
  {
   "cell_type": "code",
   "execution_count": 128,
   "metadata": {
    "id": "ZJUbCECuEVAK"
   },
   "outputs": [],
   "source": [
    "# generator = Generator()\n",
    "# discriminator = Discriminator()\n",
    "conditional_generator = ConditionalGenerator(config.noise_size, config.num_classes)\n",
    "conditional_discriminator = ConditionalDiscriminator(config.num_classes)"
   ]
  },
  {
   "cell_type": "markdown",
   "metadata": {
    "id": "jUJaHpFbEVAL"
   },
   "source": [
    "### Оптимизатор и функция потерь"
   ]
  },
  {
   "cell_type": "code",
   "execution_count": 129,
   "metadata": {
    "id": "VltlxWoyEVAL"
   },
   "outputs": [],
   "source": [
    "device = 'cuda' if torch.cuda.is_available() else 'cpu'\n",
    "device = 'cpu'\n",
    "# generator = generator.to(device)\n",
    "# discriminator = discriminator.to(device)\n",
    "conditional_generator = conditional_generator.to(device)\n",
    "conditional_discriminator = conditional_discriminator.to(device)\n",
    "# optim_G = optim.Adam(params=generator.parameters(), lr=0.0001)\n",
    "# optim_D = optim.Adam(params=discriminator.parameters(), lr=0.0001)\n",
    "optim_G = optim.Adam(params=conditional_generator.parameters(), lr=0.0001)\n",
    "optim_D = optim.Adam(params=conditional_discriminator.parameters(), lr=0.0001)\n",
    "\n",
    "criterion = nn.BCELoss()"
   ]
  },
  {
   "cell_type": "markdown",
   "metadata": {
    "id": "CRbESDzYEVAL"
   },
   "source": [
    "### Для оптимизации процесса обучения можно заранее определить переменные и заполнять их значения новыми данными"
   ]
  },
  {
   "cell_type": "code",
   "execution_count": 130,
   "metadata": {
    "id": "vXAHDeLlEVAL"
   },
   "outputs": [],
   "source": [
    "#noise = Variable(torch.cuda.FloatTensor(config.batch_size, config.noise_size, device=device))\n",
    "noise = Variable(torch.FloatTensor(config.batch_size, config.noise_size, device=device))\n",
    "# fixed_noise = Variable(torch.FloatTensor(config.batch_size, config.noise_size, device=device).normal_(0, 1))\n",
    "# label = Variable(torch.cuda.FloatTensor(config.batch_size, device=device))\n",
    "label = Variable(torch.FloatTensor(config.batch_size, device=device))\n",
    "real_label = 1.\n",
    "fake_label = 0."
   ]
  },
  {
   "cell_type": "markdown",
   "metadata": {
    "id": "x3XozpMxEVAL"
   },
   "source": [
    "### GAN обучение"
   ]
  },
  {
   "cell_type": "code",
   "execution_count": 131,
   "metadata": {},
   "outputs": [
    {
     "name": "stdout",
     "output_type": "stream",
     "text": [
      "Epoch:1 Iter: 500 errD_x: 0.66 errD_z: 59.75 errG: 0.69\n",
      "Epoch:1 Iter: 1000 errD_x: 0.70 errD_z: 64.65 errG: 0.71\n",
      "Epoch:1 Iter: 1500 errD_x: 0.69 errD_z: 64.72 errG: 0.70\n",
      "Epoch:1 Iter: 2000 errD_x: 0.69 errD_z: 64.55 errG: 0.70\n",
      "Epoch:1 Iter: 2500 errD_x: 0.69 errD_z: 68.18 errG: 0.70\n",
      "Epoch:1 Iter: 3000 errD_x: 0.67 errD_z: 66.11 errG: 0.68\n",
      "Epoch:1 Iter: 3500 errD_x: 0.68 errD_z: 65.24 errG: 0.69\n",
      "Epoch:2 Iter: 500 errD_x: 0.68 errD_z: 64.87 errG: 0.70\n",
      "Epoch:2 Iter: 1000 errD_x: 0.70 errD_z: 66.79 errG: 0.70\n",
      "Epoch:2 Iter: 1500 errD_x: 0.68 errD_z: 66.62 errG: 0.69\n",
      "Epoch:2 Iter: 2000 errD_x: 0.69 errD_z: 66.22 errG: 0.70\n",
      "Epoch:2 Iter: 2500 errD_x: 0.69 errD_z: 66.43 errG: 0.70\n",
      "Epoch:2 Iter: 3000 errD_x: 0.69 errD_z: 66.68 errG: 0.70\n",
      "Epoch:2 Iter: 3500 errD_x: 0.69 errD_z: 66.72 errG: 0.70\n",
      "Epoch:3 Iter: 500 errD_x: 0.68 errD_z: 66.01 errG: 0.69\n",
      "Epoch:3 Iter: 1000 errD_x: 0.69 errD_z: 67.26 errG: 0.70\n",
      "Epoch:3 Iter: 1500 errD_x: 0.68 errD_z: 66.38 errG: 0.69\n",
      "Epoch:3 Iter: 2000 errD_x: 0.69 errD_z: 68.54 errG: 0.70\n",
      "Epoch:3 Iter: 2500 errD_x: 0.68 errD_z: 67.24 errG: 0.69\n",
      "Epoch:3 Iter: 3000 errD_x: 0.69 errD_z: 66.97 errG: 0.70\n",
      "Epoch:3 Iter: 3500 errD_x: 0.68 errD_z: 67.34 errG: 0.68\n",
      "Epoch:4 Iter: 500 errD_x: 0.70 errD_z: 68.36 errG: 0.70\n",
      "Epoch:4 Iter: 1000 errD_x: 0.67 errD_z: 68.52 errG: 0.68\n",
      "Epoch:4 Iter: 1500 errD_x: 0.70 errD_z: 66.20 errG: 0.69\n",
      "Epoch:4 Iter: 2000 errD_x: 0.70 errD_z: 66.82 errG: 0.70\n",
      "Epoch:4 Iter: 2500 errD_x: 0.71 errD_z: 69.58 errG: 0.71\n",
      "Epoch:4 Iter: 3000 errD_x: 0.71 errD_z: 67.31 errG: 0.71\n",
      "Epoch:4 Iter: 3500 errD_x: 0.68 errD_z: 67.49 errG: 0.69\n",
      "Epoch:5 Iter: 500 errD_x: 0.67 errD_z: 68.71 errG: 0.67\n",
      "Epoch:5 Iter: 1000 errD_x: 0.70 errD_z: 66.81 errG: 0.71\n",
      "Epoch:5 Iter: 1500 errD_x: 0.70 errD_z: 65.33 errG: 0.71\n",
      "Epoch:5 Iter: 2000 errD_x: 0.68 errD_z: 67.35 errG: 0.68\n",
      "Epoch:5 Iter: 2500 errD_x: 0.71 errD_z: 67.57 errG: 0.71\n",
      "Epoch:5 Iter: 3000 errD_x: 0.69 errD_z: 68.54 errG: 0.69\n",
      "Epoch:5 Iter: 3500 errD_x: 0.68 errD_z: 68.44 errG: 0.69\n",
      "Epoch:6 Iter: 500 errD_x: 0.68 errD_z: 67.79 errG: 0.69\n",
      "Epoch:6 Iter: 1000 errD_x: 0.69 errD_z: 67.61 errG: 0.69\n",
      "Epoch:6 Iter: 1500 errD_x: 0.69 errD_z: 68.14 errG: 0.69\n",
      "Epoch:6 Iter: 2000 errD_x: 0.69 errD_z: 67.43 errG: 0.70\n",
      "Epoch:6 Iter: 2500 errD_x: 0.70 errD_z: 67.45 errG: 0.70\n",
      "Epoch:6 Iter: 3000 errD_x: 0.69 errD_z: 68.11 errG: 0.69\n",
      "Epoch:6 Iter: 3500 errD_x: 0.70 errD_z: 67.99 errG: 0.70\n",
      "Epoch:7 Iter: 500 errD_x: 0.70 errD_z: 68.41 errG: 0.70\n",
      "Epoch:7 Iter: 1000 errD_x: 0.69 errD_z: 67.14 errG: 0.69\n",
      "Epoch:7 Iter: 1500 errD_x: 0.69 errD_z: 68.24 errG: 0.70\n",
      "Epoch:7 Iter: 2000 errD_x: 0.69 errD_z: 67.96 errG: 0.70\n",
      "Epoch:7 Iter: 2500 errD_x: 0.69 errD_z: 69.41 errG: 0.69\n",
      "Epoch:7 Iter: 3000 errD_x: 0.70 errD_z: 68.98 errG: 0.70\n",
      "Epoch:7 Iter: 3500 errD_x: 0.70 errD_z: 69.29 errG: 0.70\n",
      "Epoch:8 Iter: 500 errD_x: 0.69 errD_z: 69.17 errG: 0.69\n",
      "Epoch:8 Iter: 1000 errD_x: 0.69 errD_z: 69.11 errG: 0.69\n",
      "Epoch:8 Iter: 1500 errD_x: 0.69 errD_z: 68.18 errG: 0.68\n",
      "Epoch:8 Iter: 2000 errD_x: 0.70 errD_z: 69.53 errG: 0.70\n",
      "Epoch:8 Iter: 2500 errD_x: 0.70 errD_z: 69.11 errG: 0.70\n",
      "Epoch:8 Iter: 3000 errD_x: 0.70 errD_z: 68.60 errG: 0.70\n",
      "Epoch:8 Iter: 3500 errD_x: 0.68 errD_z: 68.82 errG: 0.69\n",
      "Epoch:9 Iter: 500 errD_x: 0.70 errD_z: 69.27 errG: 0.70\n",
      "Epoch:9 Iter: 1000 errD_x: 0.69 errD_z: 68.89 errG: 0.69\n",
      "Epoch:9 Iter: 1500 errD_x: 0.68 errD_z: 69.46 errG: 0.68\n",
      "Epoch:9 Iter: 2000 errD_x: 0.70 errD_z: 69.18 errG: 0.70\n",
      "Epoch:9 Iter: 2500 errD_x: 0.69 errD_z: 69.65 errG: 0.69\n",
      "Epoch:9 Iter: 3000 errD_x: 0.70 errD_z: 67.93 errG: 0.70\n",
      "Epoch:9 Iter: 3500 errD_x: 0.68 errD_z: 68.71 errG: 0.68\n",
      "Epoch:10 Iter: 500 errD_x: 0.71 errD_z: 69.47 errG: 0.71\n",
      "Epoch:10 Iter: 1000 errD_x: 0.69 errD_z: 68.80 errG: 0.69\n",
      "Epoch:10 Iter: 1500 errD_x: 0.68 errD_z: 68.40 errG: 0.69\n",
      "Epoch:10 Iter: 2000 errD_x: 0.70 errD_z: 69.31 errG: 0.70\n",
      "Epoch:10 Iter: 2500 errD_x: 0.69 errD_z: 69.24 errG: 0.69\n",
      "Epoch:10 Iter: 3000 errD_x: 0.70 errD_z: 68.82 errG: 0.70\n",
      "Epoch:10 Iter: 3500 errD_x: 0.68 errD_z: 69.37 errG: 0.69\n"
     ]
    }
   ],
   "source": [
    "ERRD_x = np.zeros(config.num_epochs)\n",
    "ERRD_z = np.zeros(config.num_epochs)\n",
    "ERRG = np.zeros(config.num_epochs)\n",
    "N = len(dataloader)\n",
    "\n",
    "# Клипинг весов после каждого обновления параметров\n",
    "clip_value = 0.01\n",
    "\n",
    "# Штраф градиентов\n",
    "lambda_gp = 10  # Коэффициент штрафа градиентов\n",
    "\n",
    "for epoch in range(config.num_epochs):\n",
    "    for iteration, (images, labels) in enumerate(dataloader):\n",
    "        #######\n",
    "        # Discriminator stage: maximize log(D(x)) + log(1 - D(G(z)))\n",
    "        #######\n",
    "        conditional_discriminator.zero_grad()\n",
    "\n",
    "        # real\n",
    "        label_real = torch.full((images.size(0),), real_label, device=device)\n",
    "        input_data = images.view(images.shape[0], -1)\n",
    "        output_real = conditional_discriminator(input_data, labels).view(-1)\n",
    "        errD_x = criterion(output_real, label_real)\n",
    "        ERRD_x[epoch] += errD_x.item()\n",
    "        errD_x.backward()\n",
    "\n",
    "        # fake\n",
    "        noise = torch.randn(images.size(0), config.noise_size, device=device)\n",
    "        fake = conditional_generator(noise, labels)\n",
    "        label_fake = torch.full((images.size(0),), fake_label, device=device)\n",
    "        output_fake = conditional_discriminator(fake.detach(), labels).view(-1)\n",
    "        errD_z = criterion(output_fake, label_fake)\n",
    "        ERRD_z[epoch] += errD_z.item()\n",
    "        errD_z.backward()\n",
    "\n",
    "        # Gradient penalty\n",
    "        gradient_penalty = 0\n",
    "        for p in conditional_discriminator.parameters():\n",
    "            gradient_penalty += (p.grad.norm(2) - 1) ** 2\n",
    "        errD_z += lambda_gp * gradient_penalty\n",
    "\n",
    "        optim_D.step()\n",
    "\n",
    "        # Clip discriminator weights (optional)\n",
    "        for p in conditional_discriminator.parameters():\n",
    "            p.data.clamp_(-clip_value, clip_value)\n",
    "\n",
    "        # Generator stage\n",
    "        conditional_generator.zero_grad()\n",
    "        label_real = torch.full((images.size(0),), real_label, device=device)\n",
    "        output_fake = conditional_discriminator(fake, labels).view(-1)\n",
    "        errG = criterion(output_fake, label_real)\n",
    "        ERRG[epoch] += errG.item()\n",
    "        errG.backward()\n",
    "\n",
    "        optim_G.step()\n",
    "\n",
    "        if (iteration + 1) % config.print_freq == 0:\n",
    "            print('Epoch:{} Iter: {} errD_x: {:.2f} errD_z: {:.2f} errG: {:.2f}'.format(epoch + 1,\n",
    "                                                                                        iteration + 1,\n",
    "                                                                                        errD_x.item(),\n",
    "                                                                                        errD_z.item(),\n",
    "                                                                                        errG.item()))\n",
    "\n"
   ]
  },
  {
   "cell_type": "code",
   "execution_count": 133,
   "metadata": {
    "id": "Mx7WhHRTEVAL"
   },
   "outputs": [
    {
     "data": {
      "image/png": "[encoded data removed]",
      "text/plain": [
       "<Figure size 600x700 with 16 Axes>"
      ]
     },
     "metadata": {},
     "output_type": "display_data"
    }
   ],
   "source": [
    "noise.data.normal_(0, 1)\n",
    "labels = torch.full((16,), 2, device=device)\n",
    "fake = conditional_generator(noise, labels)\n",
    "\n",
    "plt.figure(figsize=(6, 7))\n",
    "for i in range(16):\n",
    "    plt.subplot(4, 4, i + 1)\n",
    "    # tensor_cpu = fake[i].detach().cpu()\n",
    "    plt.imshow(fake[i].detach().numpy().reshape(28, 28), cmap=plt.cm.Greys_r)\n",
    "    # plt.imshow(tensor_cpu.numpy().reshape(28, 28), cmap=plt.cm.Greys_r)\n",
    "    plt.axis('off')"
   ]
  }
 ],
 "metadata": {
  "anaconda-cloud": {},
  "colab": {
   "provenance": []
  },
  "kernelspec": {
   "display_name": "Python 3 (ipykernel)",
   "language": "python",
   "name": "python3"
  },
  "language_info": {
   "codemirror_mode": {
    "name": "ipython",
    "version": 3
   },
   "file_extension": ".py",
   "mimetype": "text/x-python",
   "name": "python",
   "nbconvert_exporter": "python",
   "pygments_lexer": "ipython3",
   "version": "3.10.12"
  }
 },
 "nbformat": 4,
 "nbformat_minor": 4
}
