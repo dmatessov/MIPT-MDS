{
 "cells": [
  {
   "cell_type": "code",
   "execution_count": 1,
   "metadata": {},
   "outputs": [],
   "source": [
    "import torch\n",
    "import torchtext\n",
    "from torch.utils.data import DataLoader\n",
    "\n",
    "train_data, test_data = torchtext.datasets.AG_NEWS()"
   ]
  },
  {
   "cell_type": "code",
   "execution_count": 2,
   "metadata": {},
   "outputs": [],
   "source": [
    "\n",
    "from torchtext.data import get_tokenizer\n",
    "from torchtext.vocab import build_vocab_from_iterator\n",
    "\n",
    "TOKENIZER = get_tokenizer('basic_english')\n",
    "\n",
    "def build_vocabulary(datasets):\n",
    "    for dataset in datasets:\n",
    "        for _, text in dataset:\n",
    "            yield (TOKENIZER(text))\n",
    "\n",
    "vocab = build_vocab_from_iterator(build_vocabulary([train_data, test_data]), min_freq=1, specials=['<unk>'])\n",
    "vocab.set_default_index(vocab['<unk>'])\n"
   ]
  },
  {
   "cell_type": "code",
   "execution_count": 3,
   "metadata": {},
   "outputs": [
    {
     "name": "stdout",
     "output_type": "stream",
     "text": [
      "[122, 4003, 11, 287, 6, 0] ['some', 'text', 'for', 'test', 'of', 'tokenezation']\n"
     ]
    }
   ],
   "source": [
    "tokens = TOKENIZER('some text for test of tokenezation')\n",
    "indexes = vocab(tokens)\n",
    "print(indexes, tokens)"
   ]
  },
  {
   "cell_type": "code",
   "execution_count": 5,
   "metadata": {},
   "outputs": [],
   "source": [
    "from torchtext.data.functional import to_map_style_dataset\n",
    "import torch\n",
    "from torch.utils.data import DataLoader\n",
    "\n",
    "MAX_WORDS = 50\n",
    "\n",
    "def vectorize_batch(batch):\n",
    "    X, Y = list(zip(*batch))\n",
    "    X = [vocab(TOKENIZER(text) for text in X)]\n",
    "    X = [tokens ([0]*(MAX_WORDS-len(tokens))) if len(tokens)<MAX_WORDS else tokens[:MAX_WORDS] for tokens in X]\n",
    "    return torch.tensor(X, dtype=torch.int32, device='cpu'), torch.tensor(Y, device='cpu') - 1\n",
    "\n",
    "train_data, test_data = to_map_style_dataset(train_data), to_map_style_dataset(test_data)\n",
    "train_loader = DataLoader(train_data, batch_size=64, collate_fn=vectorize_batch, shuffle=True)\n",
    "test_loader = DataLoader(test_data, batch_size=256, collate_fn=vectorize_batch)"
   ]
  },
  {
   "cell_type": "code",
   "execution_count": null,
   "metadata": {},
   "outputs": [],
   "source": [
    "from torch import nn\n",
    "from torch.nn import functional as F\n",
    "import gensim.downloader\n",
    "\n",
    "embed_dim = 300\n",
    "hedden_dim = 70\n",
    "n_layers = 1\n",
    "\n",
    "class RNNClassifier(nn.Module):\n",
    "    def init_embed(self):\n",
    "        model = gensim.downloader.load('glove-wiki-gigaword-300')\n",
    "        weights = torch.FloatTensor(model.vectors)\n",
    "        self.embedding_layer = nn.Embedding.from_pretrained(weights)\n",
    "\n",
    "    def __init__(self):\n",
    "        super(RNNClassifier, self).__init__()\n",
    "        self.rnn = nn.RNN(input_size=embed_dim, hidden_size=hedden_dim, num_layers=n_layers, batch_first=True)\n",
    "        # здесь лучше взять LSTM или GRU ячейки\n",
    "        self.lienar = nn.Linear(hedden_dim, 4) #4 - количество классов\n",
    "        self.init_embed()\n",
    "\n",
    "    def forward(self, X_batch):\n",
    "        emb = self.embedding_layer\n",
    "        output, (hedden, _) = self.rnn(emb)\n",
    "        return self.lienar(output[:,-1])"
   ]
  },
  {
   "cell_type": "code",
   "execution_count": null,
   "metadata": {},
   "outputs": [],
   "source": [
    "for epoch in range():\n",
    "    for batch in x_train:\n",
    "        preds = model(batch)\n",
    "        loss = (T, preds)\n",
    "        loss.backwards()\n",
    "        optimizer.step()\n",
    "        optimizer.zero_grad()"
   ]
  }
 ],
 "metadata": {
  "kernelspec": {
   "display_name": "Python 3",
   "language": "python",
   "name": "python3"
  },
  "language_info": {
   "codemirror_mode": {
    "name": "ipython",
    "version": 3
   },
   "file_extension": ".py",
   "mimetype": "text/x-python",
   "name": "python",
   "nbconvert_exporter": "python",
   "pygments_lexer": "ipython3",
   "version": "3.10.11"
  },
  "orig_nbformat": 4
 },
 "nbformat": 4,
 "nbformat_minor": 2
}
