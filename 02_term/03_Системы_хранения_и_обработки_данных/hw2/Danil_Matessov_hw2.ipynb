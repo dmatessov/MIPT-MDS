{
 "cells": [
  {
   "cell_type": "code",
   "execution_count": 1,
   "metadata": {},
   "outputs": [],
   "source": [
    "import pandas as pd\n",
    "import sqlite3"
   ]
  },
  {
   "cell_type": "markdown",
   "metadata": {},
   "source": [
    "Условия\n",
    "Дан csv-файл с транзакциями с 2023–01-01 до 2023-04-20. Необходимо в Jupyter-ноутбуке выполнить следующие пункты, используя SQLite:\n",
    "\n",
    "### Шаг 1\n",
    "(Балл - 0.2) Необходимо скачать CSV-файл — «final_transactions.csv», создать таблицу transaction_bd со всеми полями, загрузить данные из файла в таблицу и оставить таблицу со структурой:\n",
    "\n",
    "(0, 'TX_DATETIME', 'NUMERIC', 0, None, 0) - время транзакций\n",
    "\n",
    "(1, 'CUSTOMER_ID', 'INTEGER', 0, None, 0) - клиент\n",
    "\n",
    "(2, 'TX_AMOUNT', 'REAL', 0, None, 0) - сумма транзакций\n",
    "\n",
    "Комментарий: Можно оставить все 5 полей, но запросы будут выполняться чуть дольше."
   ]
  },
  {
   "cell_type": "code",
   "execution_count": 2,
   "metadata": {},
   "outputs": [],
   "source": [
    "df = pd.read_csv('./final_transactions.csv')"
   ]
  },
  {
   "cell_type": "code",
   "execution_count": 3,
   "metadata": {},
   "outputs": [
    {
     "name": "stdout",
     "output_type": "stream",
     "text": [
      "<class 'pandas.core.frame.DataFrame'>\n",
      "RangeIndex: 1048575 entries, 0 to 1048574\n",
      "Data columns (total 5 columns):\n",
      " #   Column          Non-Null Count    Dtype  \n",
      "---  ------          --------------    -----  \n",
      " 0   TRANSACTION_ID  1048575 non-null  int64  \n",
      " 1   TX_DATETIME     1048575 non-null  object \n",
      " 2   CUSTOMER_ID     1048575 non-null  int64  \n",
      " 3   TERMINAL_ID     1048575 non-null  int64  \n",
      " 4   TX_AMOUNT       1048575 non-null  float64\n",
      "dtypes: float64(1), int64(3), object(1)\n",
      "memory usage: 40.0+ MB\n"
     ]
    }
   ],
   "source": [
    "df.info()"
   ]
  },
  {
   "cell_type": "code",
   "execution_count": 4,
   "metadata": {},
   "outputs": [
    {
     "data": {
      "text/html": [
       "<div>\n",
       "<style scoped>\n",
       "    .dataframe tbody tr th:only-of-type {\n",
       "        vertical-align: middle;\n",
       "    }\n",
       "\n",
       "    .dataframe tbody tr th {\n",
       "        vertical-align: top;\n",
       "    }\n",
       "\n",
       "    .dataframe thead th {\n",
       "        text-align: right;\n",
       "    }\n",
       "</style>\n",
       "<table border=\"1\" class=\"dataframe\">\n",
       "  <thead>\n",
       "    <tr style=\"text-align: right;\">\n",
       "      <th></th>\n",
       "      <th>TRANSACTION_ID</th>\n",
       "      <th>TX_DATETIME</th>\n",
       "      <th>CUSTOMER_ID</th>\n",
       "      <th>TERMINAL_ID</th>\n",
       "      <th>TX_AMOUNT</th>\n",
       "    </tr>\n",
       "  </thead>\n",
       "  <tbody>\n",
       "    <tr>\n",
       "      <th>0</th>\n",
       "      <td>0</td>\n",
       "      <td>2023-01-01 00:00:31</td>\n",
       "      <td>596</td>\n",
       "      <td>3156</td>\n",
       "      <td>533.07</td>\n",
       "    </tr>\n",
       "    <tr>\n",
       "      <th>1</th>\n",
       "      <td>1</td>\n",
       "      <td>2023-01-01 00:02:10</td>\n",
       "      <td>4961</td>\n",
       "      <td>3412</td>\n",
       "      <td>808.56</td>\n",
       "    </tr>\n",
       "    <tr>\n",
       "      <th>2</th>\n",
       "      <td>2</td>\n",
       "      <td>2023-01-01 00:07:56</td>\n",
       "      <td>2</td>\n",
       "      <td>1365</td>\n",
       "      <td>1442.94</td>\n",
       "    </tr>\n",
       "    <tr>\n",
       "      <th>3</th>\n",
       "      <td>3</td>\n",
       "      <td>2023-01-01 00:09:29</td>\n",
       "      <td>4128</td>\n",
       "      <td>8737</td>\n",
       "      <td>620.65</td>\n",
       "    </tr>\n",
       "    <tr>\n",
       "      <th>4</th>\n",
       "      <td>4</td>\n",
       "      <td>2023-01-01 00:10:34</td>\n",
       "      <td>927</td>\n",
       "      <td>9906</td>\n",
       "      <td>490.66</td>\n",
       "    </tr>\n",
       "  </tbody>\n",
       "</table>\n",
       "</div>"
      ],
      "text/plain": [
       "   TRANSACTION_ID          TX_DATETIME  CUSTOMER_ID  TERMINAL_ID  TX_AMOUNT\n",
       "0               0  2023-01-01 00:00:31          596         3156     533.07\n",
       "1               1  2023-01-01 00:02:10         4961         3412     808.56\n",
       "2               2  2023-01-01 00:07:56            2         1365    1442.94\n",
       "3               3  2023-01-01 00:09:29         4128         8737     620.65\n",
       "4               4  2023-01-01 00:10:34          927         9906     490.66"
      ]
     },
     "execution_count": 4,
     "metadata": {},
     "output_type": "execute_result"
    }
   ],
   "source": [
    "df.head()"
   ]
  },
  {
   "cell_type": "code",
   "execution_count": 5,
   "metadata": {},
   "outputs": [],
   "source": [
    "con = sqlite3.connect(\"./transaction_bd.db\")\n",
    "sql_drop = \"DROP TABLE IF EXISTS final_transactions;\"\n",
    "sql_create = \"\"\"\n",
    "CREATE TABLE final_transactions ( \n",
    "    TRANSACTION_ID INTEGER PRIMARY KEY, \n",
    "    TX_DATETIME    NUMERIC NOT NULL, \n",
    "    CUSTOMER_ID    INTEGER NOT NULL, \n",
    "    TERMINAL_ID    INTEGER NOT NULL, \n",
    "    TX_AMOUNT      REAL    NOT NULL\n",
    ");\"\"\"\n",
    "cur = con.cursor()\n",
    "cur.execute(sql_drop)\n",
    "cur.execute(sql_create)\n",
    "con.commit()"
   ]
  },
  {
   "cell_type": "code",
   "execution_count": 6,
   "metadata": {},
   "outputs": [],
   "source": [
    "sql_insert = \"\"\"INSERT INTO final_transactions (\n",
    "                                   TRANSACTION_ID,\n",
    "                                   TX_DATETIME,\n",
    "                                   CUSTOMER_ID,\n",
    "                                   TERMINAL_ID,\n",
    "                                   TX_AMOUNT\n",
    "                               )\n",
    "                               VALUES (\n",
    "                                   ?,\n",
    "                                   ?,\n",
    "                                   ?,\n",
    "                                   ?,\n",
    "                                   ?\n",
    "                               );\"\"\"\n",
    "\n",
    "con.executemany(sql_insert, df.values.tolist())\n",
    "con.commit()"
   ]
  },
  {
   "cell_type": "markdown",
   "metadata": {},
   "source": [
    "### Шаг 2\n",
    "\n",
    "(Балл - 0.1 за каждый пункт) Написать следующие запросы к таблице transaction_bd:"
   ]
  },
  {
   "cell_type": "code",
   "execution_count": 7,
   "metadata": {},
   "outputs": [
    {
     "name": "stdout",
     "output_type": "stream",
     "text": [
      "   CUSTOMER_ID\n",
      "0          389\n",
      "1         2249\n",
      "2         2891\n",
      "3         3116\n",
      "4         4163\n"
     ]
    }
   ],
   "source": [
    "# A. Вывести всех клиентов, у которых сумма транзакций больше 700000 за весь период (сортируя клиентов по возрастанию);\n",
    "sql_query_a = \"\"\"\n",
    "SELECT\n",
    "    CUSTOMER_ID\n",
    "    --,SUM(TX_AMOUNT) as SUM_TOTAL\n",
    "FROM final_transactions\n",
    "GROUP BY CUSTOMER_ID \n",
    "HAVING SUM(TX_AMOUNT) > 700000\n",
    "ORDER BY CUSTOMER_ID\"\"\"\n",
    "\n",
    "table_a = pd.read_sql(sql_query_a, con)\n",
    "print(table_a)"
   ]
  },
  {
   "cell_type": "code",
   "execution_count": 8,
   "metadata": {},
   "outputs": [
    {
     "name": "stdout",
     "output_type": "stream",
     "text": [
      "   CUSTOMER_ID\n",
      "0         1918\n",
      "1         3406\n",
      "2         3833\n",
      "3         4252\n"
     ]
    }
   ],
   "source": [
    "# B. Вывести всех клиентов, у которых сумма транзакций больше 200000 за период 01.01.2023 - 13.01.2023 (сортируя клиентов по возрастанию);\n",
    "sql_query_b = \"\"\"\n",
    "SELECT\n",
    "    CUSTOMER_ID\n",
    "    --,SUM(TX_AMOUNT) as SUM_TOTAL\n",
    "FROM final_transactions\n",
    "WHERE TX_DATETIME between '2023-01-01' and '2023-01-13'\n",
    "GROUP BY CUSTOMER_ID \n",
    "HAVING SUM(TX_AMOUNT) > 200000\n",
    "ORDER BY CUSTOMER_ID\"\"\"\n",
    "table_b = pd.read_sql(sql_query_b, con)\n",
    "print(table_b)"
   ]
  },
  {
   "cell_type": "code",
   "execution_count": 9,
   "metadata": {},
   "outputs": [
    {
     "name": "stdout",
     "output_type": "stream",
     "text": [
      "   CUSTOMER_ID\n",
      "0         4231\n",
      "1         4539\n",
      "2         4661\n"
     ]
    }
   ],
   "source": [
    "# C. Вывести тех клиентов, у которых id начинается с 4 и количество транзакций за весь период более 444;\n",
    "sql_query_c = \"\"\"\n",
    "SELECT \n",
    "\tCUSTOMER_ID\n",
    "\t--,COUNT(TRANSACTION_ID) as TR_COUNT\n",
    "FROM final_transactions\n",
    "WHERE SUBSTRING(CUSTOMER_ID,1,1) = '4'\n",
    "GROUP BY CUSTOMER_ID\n",
    "HAVING COUNT(TRANSACTION_ID) > 444;\"\"\"\n",
    "table_c = pd.read_sql(sql_query_c, con)\n",
    "print(table_c)"
   ]
  },
  {
   "cell_type": "code",
   "execution_count": 10,
   "metadata": {},
   "outputs": [
    {
     "name": "stdout",
     "output_type": "stream",
     "text": [
      "      CUSTOMER_ID        PROFIT_LEVEL\n",
      "0               0  высокая доходность\n",
      "1               1  высокая доходность\n",
      "2               2  высокая доходность\n",
      "3               3   низкая доходность\n",
      "4               4  высокая доходность\n",
      "...           ...                 ...\n",
      "4981         4995  высокая доходность\n",
      "4982         4996  средняя доходность\n",
      "4983         4997  высокая доходность\n",
      "4984         4998  высокая доходность\n",
      "4985         4999  высокая доходность\n",
      "\n",
      "[4986 rows x 2 columns]\n"
     ]
    }
   ],
   "source": [
    "# D. Создать флаг доходности клиентов по логике:\n",
    "   # 1. Если сумма транзакций не более 50000, тогда вывести 'низкая доходность';\n",
    "   # 2. Если сумма транзакций больше 50000 и не более 10000 тогда вывести 'средняя доходность';\n",
    "   # 3. Если сумма транзакций больше 100000 тогда вывести 'высокая доходность'.\n",
    "\n",
    "sql_query_d = \"\"\"\n",
    "SELECT\n",
    "\tCUSTOMER_ID,\n",
    "\tcase\n",
    "\t\twhen not sum(TX_AMOUNT) > 5000 then 'низкая доходность'\n",
    "\t\twhen sum(TX_AMOUNT) > 5000 and not sum(TX_AMOUNT) > 100000 then 'средняя доходность'\n",
    "\t\twhen sum(TX_AMOUNT) > 100000 then 'высокая доходность'\n",
    "\tend PROFIT_LEVEL\n",
    "FROM final_transactions\n",
    "group by CUSTOMER_ID;\"\"\"\n",
    "table_d = pd.read_sql(sql_query_d, con)\n",
    "print(table_d)"
   ]
  },
  {
   "cell_type": "code",
   "execution_count": 11,
   "metadata": {},
   "outputs": [
    {
     "name": "stdout",
     "output_type": "stream",
     "text": [
      "         PROFIT_LEVEL  COUNT(CUSTOMER_ID)\n",
      "0  высокая доходность                2167\n",
      "1   низкая доходность                 299\n",
      "2  средняя доходность                2520\n"
     ]
    }
   ],
   "source": [
    "# E. Посмотреть количество клиентов с каждым видом доходности (из пункта 2.d);\n",
    "sql_query_e = \"\"\"\n",
    "SELECT\n",
    "\tPROFIT_LEVEL,\n",
    "\tCOUNT(CUSTOMER_ID)\n",
    "FROM\n",
    "(SELECT\n",
    "\tCUSTOMER_ID,\n",
    "\tcase\n",
    "\t\twhen not sum(TX_AMOUNT) > 5000 then 'низкая доходность'\n",
    "\t\twhen sum(TX_AMOUNT) > 5000 and not sum(TX_AMOUNT) > 100000 then 'средняя доходность'\n",
    "\t\twhen sum(TX_AMOUNT) > 100000 then 'высокая доходность'\n",
    "\tend PROFIT_LEVEL\n",
    "FROM final_transactions\n",
    "group by CUSTOMER_ID)\n",
    "GROUP BY PROFIT_LEVEL;\"\"\"\n",
    "table_e = pd.read_sql(sql_query_e, con)\n",
    "print(table_e)"
   ]
  },
  {
   "cell_type": "code",
   "execution_count": 12,
   "metadata": {},
   "outputs": [
    {
     "name": "stdout",
     "output_type": "stream",
     "text": [
      "        TX_DATE  SUM(TX_AMOUNT)\n",
      "0    2023-01-01      4827656.26\n",
      "1    2023-01-02      4862551.41\n",
      "2    2023-01-03      5058973.71\n",
      "3    2023-01-04      4938142.47\n",
      "4    2023-01-05      5002954.23\n",
      "..          ...             ...\n",
      "105  2023-04-16      5299386.81\n",
      "106  2023-04-17      5100973.31\n",
      "107  2023-04-18      5233557.39\n",
      "108  2023-04-19      5194846.44\n",
      "109  2023-04-20      1795235.72\n",
      "\n",
      "[110 rows x 2 columns]\n"
     ]
    }
   ],
   "source": [
    "# F. Вывести сумму транзакций за каждый день (сортируя дни по возрастанию).\n",
    "\n",
    "sql_query_f = \"\"\"\n",
    "SELECT\n",
    "\tDATE(TX_DATETIME) AS TX_DATE,\n",
    "\tSUM(TX_AMOUNT)\n",
    "FROM final_transactions\n",
    "GROUP BY DATE(TX_DATETIME)\n",
    "ORDER BY DATE(TX_DATETIME);\"\"\"\n",
    "table_f = pd.read_sql(sql_query_f, con)\n",
    "print(table_f)"
   ]
  },
  {
   "cell_type": "markdown",
   "metadata": {},
   "source": [
    "### Шаг 3\n",
    "\n",
    "(Балл - 0.2) Подготовить дашборд с помощью Dash по пункту 2.f, включив туда графики bar и histogram; вставить в конце ноутбука скрин графиков из дашборда."
   ]
  },
  {
   "cell_type": "code",
   "execution_count": null,
   "metadata": {},
   "outputs": [],
   "source": [
    "from dash import Dash, html, dcc\n",
    "import plotly.express as px\n",
    "\n",
    "# Initialize the app\n",
    "app = Dash()\n",
    "\n",
    "# App layout\n",
    "app.layout = html.Div([\n",
    "    html.Div(children='(Балл - 0.2) Подготовить дашборд с помощью Dash по пункту 2.f, включив туда графики bar и histogram; вставить в конце ноутбука скрин графиков из дашборда.'),\n",
    "    dcc.Graph(figure=px.bar(df, x='TX_DATE', y='SUM_TX_AMOUNT')),\n",
    "    dcc.Graph(figure=px.histogram(df, x='TX_DATE', y='SUM_TX_AMOUNT', histfunc='sum'))\n",
    "])\n",
    "\n",
    "# Run the app\n",
    "app.run_server(debug=True)"
   ]
  },
  {
   "attachments": {
    "Screenshot.png": {
     "image/png": "[encoded data removed]"
    }
   },
   "cell_type": "markdown",
   "metadata": {},
   "source": [
    "![Screenshot.png](attachment:Screenshot.png)"
   ]
  },
  {
   "cell_type": "code",
   "execution_count": null,
   "metadata": {},
   "outputs": [],
   "source": []
  }
 ],
 "metadata": {
  "kernelspec": {
   "display_name": "Python 3 (ipykernel)",
   "language": "python",
   "name": "python3"
  },
  "language_info": {
   "codemirror_mode": {
    "name": "ipython",
    "version": 3
   },
   "file_extension": ".py",
   "mimetype": "text/x-python",
   "name": "python",
   "nbconvert_exporter": "python",
   "pygments_lexer": "ipython3",
   "version": "3.10.6"
  }
 },
 "nbformat": 4,
 "nbformat_minor": 2
}
