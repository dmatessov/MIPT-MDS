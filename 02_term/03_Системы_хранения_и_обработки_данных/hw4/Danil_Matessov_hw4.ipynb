{
 "cells": [
  {
   "cell_type": "code",
   "execution_count": 2,
   "metadata": {},
   "outputs": [],
   "source": [
    "import pandas as pd\n",
    "import sqlite3"
   ]
  },
  {
   "attachments": {},
   "cell_type": "markdown",
   "metadata": {},
   "source": [
    "### Шаг 1\n",
    "\n",
    "(Балл - 2) Необходимо скачать CSV-файл - «transactions_for_dz2.csv», создать таблицу transaction_bd со всеми полями, загрузить данные из файла в таблицу и оставить таблицу со структурой:\n",
    "\n",
    "(0, 'TRANSACTION_ID', 'INTEGER', 0, None, 0) - id транзакции\n",
    "(1, 'TX_DATETIME', 'NUMERIC', 0, None, 0) - дата транзакции\n",
    "(2, 'CUSTOMER_ID', 'INTEGER', 0, None, 0) - id клиента\n",
    "(3, 'TERMINAL_ID', 'INTEGER', 0, None, 0) - id терминала\n",
    "(4, 'TX_AMOUNT', 'REAL', 0, None, 0) - сумма транзакции\n",
    "\n",
    "Также необходимо скачать второй CSV-файл - «client_info.csv», создать таблицу customer_bd со всеми полями, загрузить данные из файла в таблицу и получить таблицу со структурой:\n",
    "\n",
    "(0, 'CLIENT_ID', 'INTEGER', 0, None, 0) - id клиента\n",
    "(1, 'START_DT', 'NUMERIC', 0, None, 0) - дата начало записи о клиенте\n",
    "(2, 'END_DT', 'NUMERIC', 0, None, 0) - дата закрытия записи о клиенте\n",
    "(3, 'CLIENT_NAME', 'TEXT', 0, None, 0) - название клиента\n",
    "(4, 'YEAR_BIRTH', 'TEXT', 0, None, 0) - дата рождение клиента\n",
    "\n",
    "Примечание для следующих шагов: сумма транзакций не может быть null-ом, это всегда число."
   ]
  },
  {
   "cell_type": "code",
   "execution_count": 3,
   "metadata": {},
   "outputs": [],
   "source": [
    "transaction_df = pd.read_csv('./transactions_for_dz2.csv')\n",
    "customer_df = pd.read_csv('./client_info.csv', sep=';')"
   ]
  },
  {
   "cell_type": "code",
   "execution_count": 4,
   "metadata": {},
   "outputs": [
    {
     "name": "stdout",
     "output_type": "stream",
     "text": [
      "<class 'pandas.core.frame.DataFrame'>\n",
      "RangeIndex: 1048575 entries, 0 to 1048574\n",
      "Data columns (total 5 columns):\n",
      " #   Column          Non-Null Count    Dtype  \n",
      "---  ------          --------------    -----  \n",
      " 0   TRANSACTION_ID  1048575 non-null  int64  \n",
      " 1   TX_DATETIME     1048575 non-null  object \n",
      " 2   CUSTOMER_ID     1048575 non-null  int64  \n",
      " 3   TERMINAL_ID     1048575 non-null  int64  \n",
      " 4   TX_AMOUNT       1048575 non-null  float64\n",
      "dtypes: float64(1), int64(3), object(1)\n",
      "memory usage: 40.0+ MB\n"
     ]
    }
   ],
   "source": [
    "transaction_df.info()"
   ]
  },
  {
   "cell_type": "code",
   "execution_count": 5,
   "metadata": {},
   "outputs": [
    {
     "name": "stdout",
     "output_type": "stream",
     "text": [
      "<class 'pandas.core.frame.DataFrame'>\n",
      "RangeIndex: 4988 entries, 0 to 4987\n",
      "Data columns (total 5 columns):\n",
      " #   Column       Non-Null Count  Dtype \n",
      "---  ------       --------------  ----- \n",
      " 0   START_DT     4988 non-null   object\n",
      " 1   END_DT       4988 non-null   object\n",
      " 2   CLIENT_NAME  4988 non-null   object\n",
      " 3   YEAR_BIRTH   4988 non-null   int64 \n",
      " 4   CLIENT_ID    4988 non-null   int64 \n",
      "dtypes: int64(2), object(3)\n",
      "memory usage: 195.0+ KB\n"
     ]
    }
   ],
   "source": [
    "customer_df.info()"
   ]
  },
  {
   "cell_type": "code",
   "execution_count": 8,
   "metadata": {},
   "outputs": [],
   "source": [
    "#Создание таблиц\n",
    "con = sqlite3.connect(\"./hw4.db\")\n",
    "sql_drop_transaction_bd = \"DROP TABLE IF EXISTS transaction_bd;\"\n",
    "sql_drop_customer_bd = \"DROP TABLE IF EXISTS customer_bd;\"\n",
    "sql_create_transaction_bd = \"\"\"\n",
    "CREATE TABLE transaction_bd (\n",
    "    TRANSACTION_ID INTEGER NOT NULL\n",
    "                           PRIMARY KEY,\n",
    "    TX_DATETIME    NUMERIC NOT NULL,\n",
    "    CUSTOMER_ID    INTEGER NOT NULL,\n",
    "    TERMINAL_ID    INTEGER NOT NULL,\n",
    "    TX_AMOUNT   REAL    NOT NULL\n",
    ");\n",
    "\"\"\"\n",
    "sql_create_customer_bd = \"\"\"\n",
    "CREATE TABLE customer_bd (\n",
    "    CLIENT_ID   INTEGER PRIMARY KEY\n",
    "                        NOT NULL,\n",
    "    START_DT    NUMERIC NOT NULL,\n",
    "    END_DT      NUMERIC,\n",
    "    CLIENT_NAME TEXT,\n",
    "    YEAR_BIRTH  NUMERIC\n",
    ");\n",
    "\"\"\"\n",
    "cur = con.cursor()\n",
    "cur.execute(sql_drop_transaction_bd)\n",
    "cur.execute(sql_create_transaction_bd)\n",
    "cur.execute(sql_drop_customer_bd)\n",
    "cur.execute(sql_create_customer_bd)\n",
    "con.commit()"
   ]
  },
  {
   "cell_type": "code",
   "execution_count": 9,
   "metadata": {},
   "outputs": [],
   "source": [
    "#Заполнение данными\n",
    "sql_insert_transaction_bd = \"\"\"\n",
    "INSERT INTO transaction_bd (\n",
    "                               TRANSACTION_ID,\n",
    "                               TX_DATETIME,\n",
    "                               CUSTOMER_ID,\n",
    "                               TERMINAL_ID,\n",
    "                               TX_AMOUNT\n",
    "                           )\n",
    "                           VALUES (\n",
    "                               ?,\n",
    "                               ?,\n",
    "                               ?,\n",
    "                               ?,\n",
    "                               ?\n",
    "                           );\n",
    "\"\"\"\n",
    "sql_insert_customer_bd = \"\"\"\n",
    "INSERT INTO customer_bd (\n",
    "                            START_DT,\n",
    "                            END_DT,\n",
    "                            CLIENT_NAME,\n",
    "                            YEAR_BIRTH,\n",
    "                            CLIENT_ID\n",
    "                        )\n",
    "                        VALUES (\n",
    "                            ?,\n",
    "                            ?,\n",
    "                            ?,\n",
    "                            ?,\n",
    "                            ?\n",
    "                        );\n",
    "\n",
    "\"\"\"\n",
    "con.executemany(sql_insert_transaction_bd, transaction_df.values.tolist())\n",
    "con.executemany(sql_insert_customer_bd, customer_df.values.tolist())\n",
    "con.commit()\n"
   ]
  },
  {
   "attachments": {},
   "cell_type": "markdown",
   "metadata": {},
   "source": [
    "### Шаг 2\n",
    "\n",
    "(Балл - 1 за каждый пункт) Написать скрипты:"
   ]
  },
  {
   "cell_type": "code",
   "execution_count": 11,
   "metadata": {},
   "outputs": [
    {
     "name": "stdout",
     "output_type": "stream",
     "text": [
      "    CUSTOMER_ID\n",
      "0            24\n",
      "1           480\n",
      "2           639\n",
      "3           707\n",
      "4           812\n",
      "5           896\n",
      "6          1129\n",
      "7          1299\n",
      "8          1334\n",
      "9          1459\n",
      "10         1637\n",
      "11         1923\n",
      "12         2061\n",
      "13         2093\n",
      "14         2105\n",
      "15         2201\n",
      "16         2284\n",
      "17         2307\n",
      "18         2368\n",
      "19         2374\n",
      "20         3216\n",
      "21         3352\n",
      "22         3403\n",
      "23         3418\n",
      "24         3478\n",
      "25         3608\n",
      "26         3645\n",
      "27         3990\n",
      "28         4224\n",
      "29         4388\n",
      "30         4562\n",
      "31         4618\n",
      "32         4650\n",
      "33         4875\n"
     ]
    }
   ],
   "source": [
    "# a. Вывести список всех клиентов, у которых между двумя ближайшими транзакциями\n",
    "# был перерыв больше 35 дней хотя бы один раз \n",
    "# (клиент должен быть действующим, то есть дата закрытия записи о клиенте \n",
    "# не должна быть меньше дня относительно которого мы считаемся). \n",
    "# За дефолтную дату для выборки действующих клиентов брать ‘2023-05-01’\n",
    "sql_query_a = \"\"\"\n",
    "with transction_interval as (\n",
    "SELECT \n",
    "    tr.CUSTOMER_ID,\n",
    "    JULIANDAY(tr.TX_DATETIME) - \n",
    "    JULIANDAY(LAG(tr.TX_DATETIME,1) OVER(PARTITION BY tr.CUSTOMER_ID ORDER BY tr.TX_DATETIME)) AS 'TX_INTERVAL'\n",
    "FROM transaction_bd as tr\n",
    "    join customer_bd as cus on cus.CLIENT_ID = tr.CUSTOMER_ID\n",
    "WHERE cus.END_DT >= '2023-05-01')\n",
    "\n",
    "SELECT distinct CUSTOMER_ID\n",
    "FROM transction_interval\n",
    "WHERE TX_INTERVAL > 35\n",
    "\"\"\"\n",
    "table_a = pd.read_sql(sql_query_a, con)\n",
    "print(table_a)"
   ]
  },
  {
   "cell_type": "code",
   "execution_count": 12,
   "metadata": {},
   "outputs": [
    {
     "name": "stdout",
     "output_type": "stream",
     "text": [
      "   CUSTOMER_ID  MAX_AMOUNT  MIN_AMOUNT\n",
      "0         3013    77212.50        1.46\n",
      "1         3494    53213.00       85.76\n",
      "2         4253    51937.25       37.95\n"
     ]
    }
   ],
   "source": [
    "# b. Вывести список клиентов, у которых максимальная сумма транзакции\n",
    "# (имеется ввиду максимальное значение TX_AMOUNT) больше 50000.\n",
    "# В ответе должен быть \n",
    "#   id клиента,\n",
    "#   максимальное значение суммы транзакций,\n",
    "#   минимальное значение суммы транзакций \n",
    "#(клиент должен быть действующим, то есть дата закрытия записи о клиенте не должна быть меньше дня относительно которого мы считаемся)\n",
    "# За дефолтную дату для выборки действующих клиентов брать ‘2023-05-01’\n",
    "sql_query_b = \"\"\"\n",
    "SELECT tr.CUSTOMER_ID,\n",
    "       MAX(tr.TX_AMOUNT) AS MAX_AMOUNT,\n",
    "       MIN(tr.TX_AMOUNT) AS MIN_AMOUNT\n",
    "FROM transaction_bd as tr\n",
    "    join customer_bd as cus on cus.CLIENT_ID = tr.CUSTOMER_ID\n",
    "WHERE cus.END_DT >= '2023-05-01'\n",
    "GROUP BY tr.CUSTOMER_ID\n",
    "HAVING MAX(tr.TX_AMOUNT) > 50000;\n",
    "\"\"\"\n",
    "table_b = pd.read_sql(sql_query_b, con)\n",
    "print(table_b)\n",
    "\n"
   ]
  },
  {
   "cell_type": "code",
   "execution_count": 14,
   "metadata": {},
   "outputs": [
    {
     "name": "stdout",
     "output_type": "stream",
     "text": [
      "   CUSTOMER_ID\n",
      "0         4997\n",
      "1         4993\n",
      "2         4990\n",
      "3         4987\n",
      "4         4983\n",
      "5         4982\n",
      "6         4978\n",
      "7         4976\n",
      "8         4973\n",
      "9         4972\n"
     ]
    }
   ],
   "source": [
    "# c. Вывести топ-10 клиентов (сортируя их по убыванию id),\n",
    "# у которых сумма дневных транзакций больше суммы вечерних транзакций\n",
    "# Условимся, что дневными считаются транзакции, которые были \n",
    "# произведены до 12 часов, а вечерними - после 12 часов включительно.\n",
    "# (клиент должен быть действующим, то есть дата закрытия записи о клиенте \n",
    "# не должна быть меньше дня относительно которого мы считаемся).\n",
    "# За дефолтную дату для выборки действующих клиентов брать ‘2023-05-01’\n",
    "sql_query_c = \"\"\"\n",
    "SELECT CUSTOMER_ID\n",
    "  FROM (\n",
    "           SELECT CUSTOMER_ID,\n",
    "                  LAG(SUM_TX_AMOUNT, 1) OVER (PARTITION BY CUSTOMER_ID ORDER BY DAY_PART) - SUM_TX_AMOUNT AS DIFF\n",
    "             FROM (\n",
    "                      SELECT CUSTOMER_ID,\n",
    "                             CASE WHEN CAST (strftime(\"%H\", TX_DATETIME) AS INTEGER) < 12 THEN \"AM\" ELSE \"PM\" END AS DAY_PART,\n",
    "                             SUM(TX_AMOUNT) AS SUM_TX_AMOUNT\n",
    "                        FROM transaction_bd AS tr\n",
    "                             JOIN\n",
    "                             customer_bd AS cus ON cus.CLIENT_ID = tr.CUSTOMER_ID\n",
    "                       WHERE cus.END_DT >= '2023-05-01'\n",
    "                       GROUP BY CUSTOMER_ID,\n",
    "                                CASE WHEN CAST (strftime(\"%H\", TX_DATETIME) AS INTEGER) < 12 THEN \"AM\" ELSE \"PM\" END\n",
    "                  )\n",
    "       )\n",
    " WHERE DIFF > 0\n",
    " ORDER BY CUSTOMER_ID DESC\n",
    " LIMIT 10;\n",
    "\"\"\"\n",
    "table_c = pd.read_sql(sql_query_c, con)\n",
    "print(table_c)"
   ]
  },
  {
   "cell_type": "code",
   "execution_count": 17,
   "metadata": {},
   "outputs": [
    {
     "name": "stdout",
     "output_type": "stream",
     "text": [
      "      CUSTOMER_ID     TX_DATE  MAX_SUM_TX_AMOUNT\n",
      "0               0  2023-02-01            4084.94\n",
      "1               1  2023-01-28           19318.16\n",
      "2               2  2023-04-14            6190.41\n",
      "3               5  2023-03-17            4906.86\n",
      "4               6  2023-04-12            1504.53\n",
      "...           ...         ...                ...\n",
      "3731         4991  2023-01-09            3030.25\n",
      "3732         4992  2023-03-01            2733.89\n",
      "3733         4993  2023-02-21            2953.64\n",
      "3734         4996  2023-01-25             784.33\n",
      "3735         4997  2023-02-04            3733.15\n",
      "\n",
      "[3736 rows x 3 columns]\n"
     ]
    }
   ],
   "source": [
    "# d. Найти для каждого клиента день, когда у него была максимальная сумма транзакции, \n",
    "# то есть вывести клиента, дату транзакции, сумму транзакции (клиент должен быть действующим,\n",
    "# то есть дата закрытия записи о клиенте не должна быть меньше дня относительно которого мы считаемся).\n",
    "# За дефолтную дату для выборки действующих клиентов брать ‘2023-05-01’ \n",
    "sql_query_d = \"\"\"\n",
    "SELECT CUSTOMER_ID,\n",
    "       TX_DATE,\n",
    "       MAX(SUM_TX_AMOUNT) AS MAX_SUM_TX_AMOUNT\n",
    "  FROM (\n",
    "           SELECT tr.CUSTOMER_ID,\n",
    "                  date(tr.TX_DATETIME) AS TX_DATE,\n",
    "                  SUM(tr.TX_AMOUNT) AS SUM_TX_AMOUNT\n",
    "             FROM transaction_bd AS tr\n",
    "                  JOIN\n",
    "                  customer_bd AS cus ON cus.CLIENT_ID = tr.CUSTOMER_ID\n",
    "            WHERE cus.END_DT >= '2023-05-01'\n",
    "            GROUP BY tr.CUSTOMER_ID,\n",
    "                     date(tr.TX_DATETIME) \n",
    "       )\n",
    " GROUP BY CUSTOMER_ID;\n",
    "\"\"\"\n",
    "table_d = pd.read_sql(sql_query_d, con)\n",
    "print(table_d)"
   ]
  },
  {
   "cell_type": "code",
   "execution_count": 21,
   "metadata": {},
   "outputs": [
    {
     "name": "stdout",
     "output_type": "stream",
     "text": [
      "        TX_DATE  SUM_TX_AMOUNT  Cume_Dist\n",
      "0    2023-01-01     4827656.26   0.009091\n",
      "1    2023-01-02     4862551.41   0.018182\n",
      "2    2023-01-03     5058973.71   0.027273\n",
      "3    2023-01-04     4938142.47   0.036364\n",
      "4    2023-01-05     5002954.23   0.045455\n",
      "..          ...            ...        ...\n",
      "105  2023-04-16     5299386.81   0.963636\n",
      "106  2023-04-17     5100973.31   0.972727\n",
      "107  2023-04-18     5233557.39   0.981818\n",
      "108  2023-04-19     5194846.44   0.990909\n",
      "109  2023-04-20     1795235.72   1.000000\n",
      "\n",
      "[110 rows x 3 columns]\n"
     ]
    }
   ],
   "source": [
    "# e. Вычислить интегральное распределение суммы транзакций для каждого дня за весь период,\n",
    "# то есть вывести дату транзакции,\n",
    "# сумму транзакции и\n",
    "# интегральное распределение по сумме (не учитываем что клиент может быть недействующим)\n",
    "sql_query_e = \"\"\"\n",
    "SELECT TX_DATE,\n",
    "       SUM_TX_AMOUNT,\n",
    "       CUME_DIST() OVER (ORDER BY TX_DATE) AS Cume_Dist\n",
    "  FROM (\n",
    "           SELECT DATE(TX_DATETIME) AS TX_DATE,\n",
    "                  SUM(TX_AMOUNT) AS SUM_TX_AMOUNT\n",
    "             FROM transaction_bd\n",
    "            GROUP BY DATE(TX_DATETIME) \n",
    "       );\n",
    "\"\"\"\n",
    "table_e = pd.read_sql(sql_query_e, con)\n",
    "print(table_e)\n",
    "\n"
   ]
  }
 ],
 "metadata": {
  "kernelspec": {
   "display_name": "Python 3",
   "language": "python",
   "name": "python3"
  },
  "language_info": {
   "codemirror_mode": {
    "name": "ipython",
    "version": 3
   },
   "file_extension": ".py",
   "mimetype": "text/x-python",
   "name": "python",
   "nbconvert_exporter": "python",
   "pygments_lexer": "ipython3",
   "version": "3.10.6"
  },
  "orig_nbformat": 4
 },
 "nbformat": 4,
 "nbformat_minor": 2
}
