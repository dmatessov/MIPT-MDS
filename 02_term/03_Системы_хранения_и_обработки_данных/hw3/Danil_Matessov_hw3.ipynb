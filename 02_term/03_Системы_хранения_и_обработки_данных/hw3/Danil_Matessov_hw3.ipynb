{
 "cells": [
  {
   "cell_type": "code",
   "execution_count": 1,
   "metadata": {},
   "outputs": [],
   "source": [
    "import pandas as pd\n",
    "import sqlite3"
   ]
  },
  {
   "attachments": {},
   "cell_type": "markdown",
   "metadata": {},
   "source": [
    "### Шаг 1\n",
    "\n",
    "(Балл - 2) Необходимо скачать CSV-файл - «transactions_for_dz2.csv», создать таблицу transaction_bd со всеми полями, загрузить данные из файла в таблицу и оставить таблицу со структурой:\n",
    "\n",
    "(0, 'TRANSACTION_ID', 'INTEGER', 0, None, 0) - id транзакции\n",
    "(1, 'TX_DATETIME', 'NUMERIC', 0, None, 0) - дата транзакции\n",
    "(2, 'CUSTOMER_ID', 'INTEGER', 0, None, 0) - id клиента\n",
    "(3, 'TERMINAL_ID', 'INTEGER', 0, None, 0) - id терминала\n",
    "(4, 'TX_AMOUNT', 'REAL', 0, None, 0) - сумма транзакции\n",
    "\n",
    "Также необходимо скачать второй CSV-файл - «client_info.csv», создать таблицу customer_bd со всеми полями, загрузить данные из файла в таблицу и получить таблицу со структурой:\n",
    "\n",
    "(0, 'CLIENT_ID', 'INTEGER', 0, None, 0) - id клиента\n",
    "(1, 'START_DT', 'NUMERIC', 0, None, 0) - дата начало записи о клиенте\n",
    "(2, 'END_DT', 'NUMERIC', 0, None, 0) - дата закрытия записи о клиенте\n",
    "(3, 'CLIENT_NAME', 'TEXT', 0, None, 0) - название клиента\n",
    "(4, 'YEAR_BIRTH', 'TEXT', 0, None, 0) - дата рождение клиента\n",
    "\n",
    "Примечание для следующих шагов: сумма транзакций не может быть null-ом, это всегда число."
   ]
  },
  {
   "cell_type": "code",
   "execution_count": 2,
   "metadata": {},
   "outputs": [],
   "source": [
    "transaction_df = pd.read_csv('./transactions_for_dz2.csv')\n",
    "customer_df = pd.read_csv('./client_info.csv', sep=';')"
   ]
  },
  {
   "cell_type": "code",
   "execution_count": 3,
   "metadata": {},
   "outputs": [
    {
     "name": "stdout",
     "output_type": "stream",
     "text": [
      "<class 'pandas.core.frame.DataFrame'>\n",
      "RangeIndex: 1048575 entries, 0 to 1048574\n",
      "Data columns (total 5 columns):\n",
      " #   Column          Non-Null Count    Dtype  \n",
      "---  ------          --------------    -----  \n",
      " 0   TRANSACTION_ID  1048575 non-null  int64  \n",
      " 1   TX_DATETIME     1048575 non-null  object \n",
      " 2   CUSTOMER_ID     1048575 non-null  int64  \n",
      " 3   TERMINAL_ID     1048575 non-null  int64  \n",
      " 4   TX_AMOUNT       1048575 non-null  float64\n",
      "dtypes: float64(1), int64(3), object(1)\n",
      "memory usage: 40.0+ MB\n"
     ]
    }
   ],
   "source": [
    "transaction_df.info()"
   ]
  },
  {
   "cell_type": "code",
   "execution_count": 4,
   "metadata": {},
   "outputs": [
    {
     "name": "stdout",
     "output_type": "stream",
     "text": [
      "<class 'pandas.core.frame.DataFrame'>\n",
      "RangeIndex: 4988 entries, 0 to 4987\n",
      "Data columns (total 5 columns):\n",
      " #   Column       Non-Null Count  Dtype \n",
      "---  ------       --------------  ----- \n",
      " 0   START_DT     4988 non-null   object\n",
      " 1   END_DT       4988 non-null   object\n",
      " 2   CLIENT_NAME  4988 non-null   object\n",
      " 3   YEAR_BIRTH   4988 non-null   int64 \n",
      " 4   CLIENT_ID    4988 non-null   int64 \n",
      "dtypes: int64(2), object(3)\n",
      "memory usage: 195.0+ KB\n"
     ]
    }
   ],
   "source": [
    "customer_df.info()"
   ]
  },
  {
   "cell_type": "code",
   "execution_count": 5,
   "metadata": {},
   "outputs": [],
   "source": [
    "#Создание таблиц\n",
    "con = sqlite3.connect(\"./hw3.db\")\n",
    "sql_drop_transaction_bd = \"DROP TABLE IF EXISTS transaction_bd;\"\n",
    "sql_drop_customer_bd = \"DROP TABLE IF EXISTS customer_bd;\"\n",
    "sql_create_transaction_bd = \"\"\"\n",
    "CREATE TABLE transaction_bd (\n",
    "    TRANSACTION_ID INTEGER NOT NULL\n",
    "                           PRIMARY KEY,\n",
    "    TX_DATETIME    NUMERIC NOT NULL,\n",
    "    CUSTOMER_ID    INTEGER NOT NULL,\n",
    "    TERMINAL_ID    INTEGER NOT NULL,\n",
    "    TX_AMOUNT   REAL    NOT NULL\n",
    ");\n",
    "\"\"\"\n",
    "sql_create_customer_bd = \"\"\"\n",
    "CREATE TABLE customer_bd (\n",
    "    CLIENT_ID   INTEGER PRIMARY KEY\n",
    "                        NOT NULL,\n",
    "    START_DT    NUMERIC NOT NULL,\n",
    "    END_DT      NUMERIC,\n",
    "    CLIENT_NAME TEXT,\n",
    "    YEAR_BIRTH  NUMERIC\n",
    ");\n",
    "\"\"\"\n",
    "cur = con.cursor()\n",
    "cur.execute(sql_drop_transaction_bd)\n",
    "cur.execute(sql_create_transaction_bd)\n",
    "cur.execute(sql_drop_customer_bd)\n",
    "cur.execute(sql_create_customer_bd)\n",
    "con.commit()"
   ]
  },
  {
   "cell_type": "code",
   "execution_count": 6,
   "metadata": {},
   "outputs": [],
   "source": [
    "#Заполнение данными\n",
    "sql_insert_transaction_bd = \"\"\"\n",
    "INSERT INTO transaction_bd (\n",
    "                               TRANSACTION_ID,\n",
    "                               TX_DATETIME,\n",
    "                               CUSTOMER_ID,\n",
    "                               TERMINAL_ID,\n",
    "                               TX_AMOUNT\n",
    "                           )\n",
    "                           VALUES (\n",
    "                               ?,\n",
    "                               ?,\n",
    "                               ?,\n",
    "                               ?,\n",
    "                               ?\n",
    "                           );\n",
    "\"\"\"\n",
    "sql_insert_customer_bd = \"\"\"\n",
    "INSERT INTO customer_bd (\n",
    "                            START_DT,\n",
    "                            END_DT,\n",
    "                            CLIENT_NAME,\n",
    "                            YEAR_BIRTH,\n",
    "                            CLIENT_ID\n",
    "                        )\n",
    "                        VALUES (\n",
    "                            ?,\n",
    "                            ?,\n",
    "                            ?,\n",
    "                            ?,\n",
    "                            ?\n",
    "                        );\n",
    "\n",
    "\"\"\"\n",
    "con.executemany(sql_insert_transaction_bd, transaction_df.values.tolist())\n",
    "con.executemany(sql_insert_customer_bd, customer_df.values.tolist())\n",
    "con.commit()\n"
   ]
  },
  {
   "attachments": {},
   "cell_type": "markdown",
   "metadata": {},
   "source": [
    "### Шаг 2\n",
    "\n",
    "(Балл - 1 за каждый пункт) Написать скрипты:"
   ]
  },
  {
   "cell_type": "code",
   "execution_count": 7,
   "metadata": {},
   "outputs": [
    {
     "name": "stdout",
     "output_type": "stream",
     "text": [
      "  CLIENT_NAME  MAX(SUM_TX_AMOUNT)\n",
      "0       Kylee           786115.87\n"
     ]
    }
   ],
   "source": [
    "# a. Найти имя клиента/клиентов с максимальной суммой транзакций за весь период\n",
    "# (клиент должен быть действующим, то есть дата закрытия записи о клиенте\n",
    "# не должна быть меньше дня относительно которого мы считаемся).\n",
    "# За дефолтную дату для выборки действующих клиентов брать ‘2023-05-01’\n",
    "sql_query_a = \"\"\"\n",
    "SELECT \n",
    "    CLIENT_NAME,\n",
    "    MAX(SUM_TX_AMOUNT)\n",
    "FROM\n",
    "(\n",
    "SELECT \n",
    "    tr.CUSTOMER_ID,\n",
    "    cus.CLIENT_NAME,\n",
    "    SUM(tr.TX_AMOUNT) as SUM_TX_AMOUNT\n",
    "FROM transaction_bd as tr\n",
    "    join customer_bd as cus on cus.CLIENT_ID = tr.CUSTOMER_ID\n",
    "WHERE cus.END_DT >= '2023-05-01'\n",
    "GROUP BY tr.CUSTOMER_ID, cus.CLIENT_NAME\n",
    ")\n",
    "\"\"\"\n",
    "table_a = pd.read_sql(sql_query_a, con)\n",
    "print(table_a)"
   ]
  },
  {
   "cell_type": "code",
   "execution_count": 8,
   "metadata": {},
   "outputs": [
    {
     "name": "stdout",
     "output_type": "stream",
     "text": [
      "  CLIENT_NAME  MIN(SUM_TX_AMOUNT)\n",
      "0        Kloe               30.48\n"
     ]
    }
   ],
   "source": [
    "# b. Найти имя клиента/клиентов с минимальной суммой транзакций за весь период\n",
    "# (клиент должен быть действующим, то есть дата закрытия записи о клиенте\n",
    "# не должна быть меньше дня относительно которого мы считаемся).\n",
    "# За дефолтную дату для выборки действующих клиентов брать ‘2023-05-01’\n",
    "sql_query_b = \"\"\"\n",
    "SELECT \n",
    "    CLIENT_NAME,\n",
    "    MIN(SUM_TX_AMOUNT)\n",
    "FROM\n",
    "(\n",
    "SELECT \n",
    "    tr.CUSTOMER_ID,\n",
    "    cus.CLIENT_NAME,\n",
    "    SUM(tr.TX_AMOUNT) as SUM_TX_AMOUNT\n",
    "FROM transaction_bd as tr\n",
    "    join customer_bd as cus on cus.CLIENT_ID = tr.CUSTOMER_ID\n",
    "WHERE cus.END_DT >= '2023-05-01'\n",
    "GROUP BY tr.CUSTOMER_ID, cus.CLIENT_NAME\n",
    ")\n",
    "\"\"\"\n",
    "table_b = pd.read_sql(sql_query_b, con)\n",
    "print(table_b)\n",
    "\n"
   ]
  },
  {
   "cell_type": "code",
   "execution_count": 9,
   "metadata": {},
   "outputs": [
    {
     "name": "stdout",
     "output_type": "stream",
     "text": [
      "   CUSTOMER_ID  SUM_TX_AMOUNT\n",
      "0         1112       35273.16\n",
      "1         1113      230646.39\n",
      "2         1114      113183.47\n",
      "3         1115       38690.76\n",
      "4         1116      196387.92\n",
      "5         1117       52751.58\n",
      "6         1118      401049.14\n",
      "7         1119      223525.69\n"
     ]
    }
   ],
   "source": [
    "# c. Найти сумму транзакций относительно даты 2023-04-01 для клиентов, у которых id начинается с 111\n",
    "# (клиент должен быть действующим, то есть дата закрытия записи о клиенте не должна быть меньше\n",
    "# дня относительно которого мы считаемся). Транзакции учитываются только после завершении дня.\n",
    "# За дефолтную дату для выборки действующих клиентов брать ‘2023-05-01’\n",
    "sql_query_c = \"\"\"\n",
    "SELECT \n",
    "       CUSTOMER_ID,\n",
    "       SUM(TX_AMOUNT) AS SUM_TX_AMOUNT\n",
    "FROM transaction_bd\n",
    "WHERE\n",
    "    TX_DATETIME < '2023-04-02'\n",
    "    and CUSTOMER_ID in\n",
    "    (\n",
    "    SELECT CLIENT_ID\n",
    "    FROM customer_bd\n",
    "    WHERE substr(CLIENT_ID,0,4) = '111'\n",
    "        and END_DT >= '2023-05-01'\n",
    "    )  \n",
    "GROUP BY CUSTOMER_ID\n",
    "\"\"\"\n",
    "table_c = pd.read_sql(sql_query_c, con)\n",
    "print(table_c)"
   ]
  },
  {
   "cell_type": "code",
   "execution_count": 11,
   "metadata": {},
   "outputs": [
    {
     "name": "stdout",
     "output_type": "stream",
     "text": [
      "    YEAR_BIRTH  SUM_TX_AMOUNT\n",
      "0         2000    86327196.30\n",
      "1         1999     1041506.56\n",
      "2         1998      601675.01\n",
      "3         1997     8479942.93\n",
      "4         1996     1483252.51\n",
      "5         1995     6321199.64\n",
      "6         1994     6244280.80\n",
      "7         1993     5732058.13\n",
      "8         1992     5251433.30\n",
      "9         1991     7141073.57\n",
      "10        1990     6617599.94\n",
      "11        1989     6303724.26\n",
      "12        1988     7471929.98\n",
      "13        1987     6629354.18\n",
      "14        1986     5026130.51\n",
      "15        1985     6742343.15\n",
      "16        1984     7277775.24\n",
      "17        1983      339072.02\n",
      "18        1982    13709527.61\n",
      "19        1981     5321969.97\n",
      "20        1980     9232299.44\n",
      "21        1979     5679293.41\n",
      "22        1978     4994142.38\n",
      "23        1977    10338469.52\n",
      "24        1976    11666129.24\n",
      "25        1975     6553700.61\n",
      "26        1974    10173952.36\n",
      "27        1973    10875457.40\n",
      "28        1972    10649250.40\n",
      "29        1971     7283031.89\n",
      "30        1970    10012763.38\n",
      "31        1969     6179549.55\n",
      "32        1968     4071246.60\n",
      "33        1967     5794269.84\n",
      "34        1966     6082267.04\n",
      "35        1965     7134138.73\n",
      "36        1964     5290189.68\n",
      "37        1963     3226323.43\n",
      "38        1962     5265542.39\n",
      "39        1961     6148675.12\n",
      "40        1960     7246807.75\n",
      "41        1959     4687553.83\n",
      "42        1956     7040369.40\n",
      "43        1955     8447784.07\n",
      "44        1954     8012532.48\n",
      "45        1953     5232320.37\n",
      "46        1952     7365438.34\n",
      "47        1951     7790146.76\n",
      "48        1950     4231090.15\n",
      "49        1949     3751344.00\n",
      "50        1948     1199585.40\n",
      "51        1947     2063515.39\n",
      "52        1946     1780709.10\n",
      "53        1945      257970.83\n"
     ]
    }
   ],
   "source": [
    "# d. Найти сумму транзакций относительно года рождения клиентов \n",
    "# (клиент должен быть действующим, то есть дата закрытия записи о клиенте\n",
    "# не должна быть меньше дня относительно которого мы считаемся).\n",
    "# Сортировать по убыванию года рождения.\n",
    "sql_query_d = \"\"\"\n",
    "SELECT \n",
    "    cus.YEAR_BIRTH,\n",
    "    round(SUM(tr.TX_AMOUNT),2) as SUM_TX_AMOUNT\n",
    "FROM transaction_bd as tr\n",
    "    join customer_bd as cus on cus.CLIENT_ID = tr.CUSTOMER_ID\n",
    "WHERE cus.END_DT >= '2023-05-01'\n",
    "GROUP BY cus.YEAR_BIRTH\n",
    "ORDER BY cus.YEAR_BIRTH DESC\"\"\"\n",
    "table_d = pd.read_sql(sql_query_d, con)\n",
    "print(table_d)"
   ]
  },
  {
   "cell_type": "code",
   "execution_count": 12,
   "metadata": {},
   "outputs": [
    {
     "name": "stdout",
     "output_type": "stream",
     "text": [
      "      CUSTOMER_ID  CNT_TRANSACTION_ID\n",
      "0               0                 201\n",
      "1               1                 382\n",
      "2               2                 202\n",
      "3               5                 342\n",
      "4               6                 427\n",
      "...           ...                 ...\n",
      "3731         4991                 155\n",
      "3732         4992                 357\n",
      "3733         4993                 196\n",
      "3734         4996                 263\n",
      "3735         4997                 230\n",
      "\n",
      "[3736 rows x 2 columns]\n"
     ]
    }
   ],
   "source": [
    "# e. Найти количество транзакций для каждого клиента (клиент должен быть действующим, \n",
    "# то есть дата закрытия записи о клиенте не должна быть меньше дня относительно которого мы считаемся).\n",
    "# Сортировать по убыванию количества транзакций.\n",
    "sql_query_e = \"\"\"\n",
    "SELECT tr.CUSTOMER_ID,\n",
    "       COUNT(tr.TRANSACTION_ID) AS CNT_TRANSACTION_ID\n",
    "  FROM transaction_bd AS tr\n",
    "       JOIN\n",
    "       customer_bd AS cus ON cus.CLIENT_ID = tr.CUSTOMER_ID\n",
    " WHERE cus.END_DT >= '2023-05-01'\n",
    " GROUP BY tr.CUSTOMER_ID;\"\"\"\n",
    "table_e = pd.read_sql(sql_query_e, con)\n",
    "print(table_e)"
   ]
  },
  {
   "attachments": {},
   "cell_type": "markdown",
   "metadata": {},
   "source": [
    "### Шаг 3\n",
    "\n",
    "(Балл - 3) Найти сумму транзакций за каждый месяц (январь, февраль, март, апрель) для всех клиентов (клиент должен быть действующим, то есть дата закрытия записи о клиенте не должна быть меньше дня относительно которого мы считаемся)."
   ]
  },
  {
   "cell_type": "code",
   "execution_count": 16,
   "metadata": {},
   "outputs": [
    {
     "name": "stdout",
     "output_type": "stream",
     "text": [
      "     MONTH  SUM_TX_AMOUNT\n",
      "0   январь   1.159199e+08\n",
      "1  ферваль   1.062295e+08\n",
      "2     март   1.150534e+08\n",
      "3   апрель   7.261812e+07\n"
     ]
    }
   ],
   "source": [
    "sql_query_step3 = \"\"\"\n",
    "SELECT \n",
    "    CASE \n",
    "        WHEN STRFTIME('%m', tr.TX_DATETIME) = '01' THEN 'январь'\n",
    "        WHEN STRFTIME('%m', tr.TX_DATETIME) = '02' THEN 'ферваль'\n",
    "        WHEN STRFTIME('%m', tr.TX_DATETIME) = '03' THEN 'март'\n",
    "        WHEN STRFTIME('%m', tr.TX_DATETIME) = '04' THEN 'апрель'\n",
    "        ELSE 'ой' END AS MONTH,\n",
    "       SUM(tr.TX_AMOUNT) AS SUM_TX_AMOUNT\n",
    "  FROM transaction_bd AS tr\n",
    "       JOIN\n",
    "       customer_bd AS cus ON cus.CLIENT_ID = tr.CUSTOMER_ID\n",
    " WHERE cus.END_DT >= '2023-05-01'\n",
    " GROUP BY STRFTIME('%m', tr.TX_DATETIME);\"\"\"\n",
    "table_step3 = pd.read_sql(sql_query_step3, con)\n",
    "print(table_step3)"
   ]
  }
 ],
 "metadata": {
  "kernelspec": {
   "display_name": "Python 3",
   "language": "python",
   "name": "python3"
  },
  "language_info": {
   "codemirror_mode": {
    "name": "ipython",
    "version": 3
   },
   "file_extension": ".py",
   "mimetype": "text/x-python",
   "name": "python",
   "nbconvert_exporter": "python",
   "pygments_lexer": "ipython3",
   "version": "3.10.6"
  },
  "orig_nbformat": 4
 },
 "nbformat": 4,
 "nbformat_minor": 2
}
