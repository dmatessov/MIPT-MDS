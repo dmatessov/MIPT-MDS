{
 "cells": [
  {
   "cell_type": "code",
   "execution_count": 1,
   "metadata": {},
   "outputs": [
    {
     "name": "stdout",
     "output_type": "stream",
     "text": [
      "3.10.6 (main, Aug 10 2022, 11:40:04) [GCC 11.3.0]\n"
     ]
    }
   ],
   "source": [
    "#1. установить или обновить Python 3 до последней версии;\n",
    "import sys\n",
    "print(sys.version)"
   ]
  },
  {
   "cell_type": "code",
   "execution_count": 2,
   "metadata": {},
   "outputs": [
    {
     "name": "stdout",
     "output_type": "stream",
     "text": [
      "pip 22.0.2 from /usr/lib/python3/dist-packages/pip (python 3.10)\n"
     ]
    }
   ],
   "source": [
    "#2. *установить или обновить pip (опционально, для тех, кто не использует Anaconda);\n",
    "!pip -V"
   ]
  },
  {
   "cell_type": "code",
   "execution_count": 5,
   "metadata": {},
   "outputs": [
    {
     "name": "stdout",
     "output_type": "stream",
     "text": [
      "Selected Jupyter core packages...\n",
      "IPython          : 7.31.1\n",
      "ipykernel        : 6.7.0\n",
      "ipywidgets       : 6.0.0\n",
      "jupyter_client   : 7.1.2\n",
      "jupyter_core     : 4.9.1\n",
      "jupyter_server   : not installed\n",
      "jupyterlab       : not installed\n",
      "nbclient         : 0.5.6\n",
      "nbconvert        : 6.4.0\n",
      "nbformat         : 5.1.3\n",
      "notebook         : 6.4.8\n",
      "qtconsole        : not installed\n",
      "traitlets        : 5.1.1\n"
     ]
    }
   ],
   "source": [
    "#3. установить локально Jupyter Notebook или Anaconda;\n",
    "!jupyter --version"
   ]
  },
  {
   "cell_type": "code",
   "execution_count": 23,
   "metadata": {},
   "outputs": [
    {
     "name": "stdout",
     "output_type": "stream",
     "text": [
      "numpy version = 1.21.5\n",
      "pandas version = 1.3.5\n",
      "sklearn version = 0.24.0\n",
      "matplotlib version = 3.5.1\n",
      "seaborn version = 0.11.2\n",
      "scipy version = 1.8.0\n",
      "torch version = 1.8.0a0\n",
      "tqdm version = 4.57.0\n"
     ]
    }
   ],
   "source": [
    "#4. установить библиотеки numpy, pandas, sklearn, matplotlib, seaborn, scipy, torch, tqdm\n",
    "\n",
    "import numpy as np\n",
    "import pandas as pd\n",
    "import sklearn as skl\n",
    "import matplotlib as mpl\n",
    "import seaborn as sb\n",
    "import scipy as sp\n",
    "import torch as tr\n",
    "import tqdm\n",
    "\n",
    "\n",
    "print('numpy version =', np.version.version)\n",
    "print('pandas version =', pd.__version__)\n",
    "print('sklearn version =', skl.__version__)\n",
    "print('matplotlib version =', mpl._version.version)\n",
    "print('seaborn version =', sb.__version__)\n",
    "print('scipy version =', sp.__version__)\n",
    "print('torch version =', tr.version.__version__)\n",
    "print('tqdm version =', tqdm.__version__)"
   ]
  }
 ],
 "metadata": {
  "kernelspec": {
   "display_name": "Python 3.8.10 64-bit",
   "language": "python",
   "name": "python3"
  },
  "language_info": {
   "codemirror_mode": {
    "name": "ipython",
    "version": 3
   },
   "file_extension": ".py",
   "mimetype": "text/x-python",
   "name": "python",
   "nbconvert_exporter": "python",
   "pygments_lexer": "ipython3",
   "version": "3.10.6"
  },
  "orig_nbformat": 4,
  "vscode": {
   "interpreter": {
    "hash": "916dbcbb3f70747c44a77c7bcd40155683ae19c65e1c03b4aa3499c5328201f1"
   }
  }
 },
 "nbformat": 4,
 "nbformat_minor": 2
}
