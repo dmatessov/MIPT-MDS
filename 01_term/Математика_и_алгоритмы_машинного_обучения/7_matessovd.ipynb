{
 "cells": [
  {
   "cell_type": "markdown",
   "metadata": {},
   "source": [
    "## Контрольная работа\n",
    "\n",
    "Задача: Необходимо построить прогнозную модель, которая сможет определить, перестанет ли клиент банка пользоваться кредитной картой."
   ]
  },
  {
   "cell_type": "code",
   "execution_count": 1,
   "metadata": {},
   "outputs": [],
   "source": [
    "import pandas as pd"
   ]
  },
  {
   "cell_type": "code",
   "execution_count": 2,
   "metadata": {},
   "outputs": [],
   "source": [
    "train_df = pd.read_csv('./data/hw7/train.csv'\n",
    "#, index_col='CLIENTNUM'\n",
    ")\n",
    "validation_df = pd.read_csv('./data/hw7/validation.csv'\n",
    "#, index_col='CLIENTNUM'\n",
    ")"
   ]
  },
  {
   "cell_type": "code",
   "execution_count": 3,
   "metadata": {},
   "outputs": [
    {
     "data": {
      "text/html": [
       "<div>\n",
       "<style scoped>\n",
       "    .dataframe tbody tr th:only-of-type {\n",
       "        vertical-align: middle;\n",
       "    }\n",
       "\n",
       "    .dataframe tbody tr th {\n",
       "        vertical-align: top;\n",
       "    }\n",
       "\n",
       "    .dataframe thead th {\n",
       "        text-align: right;\n",
       "    }\n",
       "</style>\n",
       "<table border=\"1\" class=\"dataframe\">\n",
       "  <thead>\n",
       "    <tr style=\"text-align: right;\">\n",
       "      <th></th>\n",
       "      <th>CLIENTNUM</th>\n",
       "      <th>Customer_Age</th>\n",
       "      <th>Gender</th>\n",
       "      <th>Dependent_count</th>\n",
       "      <th>Education_Level</th>\n",
       "      <th>Marital_Status</th>\n",
       "      <th>Income_Category</th>\n",
       "      <th>Card_Category</th>\n",
       "      <th>Months_on_book</th>\n",
       "      <th>Total_Relationship_Count</th>\n",
       "      <th>...</th>\n",
       "      <th>Contacts_Count_12_mon</th>\n",
       "      <th>Credit_Limit</th>\n",
       "      <th>Total_Revolving_Bal</th>\n",
       "      <th>Avg_Open_To_Buy</th>\n",
       "      <th>Total_Amt_Chng_Q4_Q1</th>\n",
       "      <th>Total_Trans_Amt</th>\n",
       "      <th>Total_Trans_Ct</th>\n",
       "      <th>Total_Ct_Chng_Q4_Q1</th>\n",
       "      <th>Avg_Utilization_Ratio</th>\n",
       "      <th>Attrition_Flag</th>\n",
       "    </tr>\n",
       "  </thead>\n",
       "  <tbody>\n",
       "    <tr>\n",
       "      <th>0</th>\n",
       "      <td>715630983</td>\n",
       "      <td>31</td>\n",
       "      <td>F</td>\n",
       "      <td>0</td>\n",
       "      <td>Graduate</td>\n",
       "      <td>Single</td>\n",
       "      <td>Less than $40K</td>\n",
       "      <td>Blue</td>\n",
       "      <td>21</td>\n",
       "      <td>4</td>\n",
       "      <td>...</td>\n",
       "      <td>3</td>\n",
       "      <td>4598.0</td>\n",
       "      <td>0</td>\n",
       "      <td>4598.0</td>\n",
       "      <td>0.439</td>\n",
       "      <td>6317</td>\n",
       "      <td>77</td>\n",
       "      <td>0.833</td>\n",
       "      <td>0.000</td>\n",
       "      <td>Attrited Customer</td>\n",
       "    </tr>\n",
       "    <tr>\n",
       "      <th>1</th>\n",
       "      <td>713643858</td>\n",
       "      <td>53</td>\n",
       "      <td>F</td>\n",
       "      <td>1</td>\n",
       "      <td>College</td>\n",
       "      <td>Married</td>\n",
       "      <td>$40K - $60K</td>\n",
       "      <td>Blue</td>\n",
       "      <td>43</td>\n",
       "      <td>4</td>\n",
       "      <td>...</td>\n",
       "      <td>2</td>\n",
       "      <td>1525.0</td>\n",
       "      <td>1411</td>\n",
       "      <td>114.0</td>\n",
       "      <td>0.660</td>\n",
       "      <td>1911</td>\n",
       "      <td>47</td>\n",
       "      <td>0.958</td>\n",
       "      <td>0.925</td>\n",
       "      <td>Existing Customer</td>\n",
       "    </tr>\n",
       "    <tr>\n",
       "      <th>2</th>\n",
       "      <td>708334158</td>\n",
       "      <td>46</td>\n",
       "      <td>F</td>\n",
       "      <td>3</td>\n",
       "      <td>Graduate</td>\n",
       "      <td>Divorced</td>\n",
       "      <td>Less than $40K</td>\n",
       "      <td>Blue</td>\n",
       "      <td>34</td>\n",
       "      <td>4</td>\n",
       "      <td>...</td>\n",
       "      <td>4</td>\n",
       "      <td>9863.0</td>\n",
       "      <td>686</td>\n",
       "      <td>9177.0</td>\n",
       "      <td>0.581</td>\n",
       "      <td>3068</td>\n",
       "      <td>58</td>\n",
       "      <td>0.933</td>\n",
       "      <td>0.070</td>\n",
       "      <td>Existing Customer</td>\n",
       "    </tr>\n",
       "    <tr>\n",
       "      <th>3</th>\n",
       "      <td>711033408</td>\n",
       "      <td>50</td>\n",
       "      <td>F</td>\n",
       "      <td>2</td>\n",
       "      <td>High School</td>\n",
       "      <td>Married</td>\n",
       "      <td>Less than $40K</td>\n",
       "      <td>Blue</td>\n",
       "      <td>36</td>\n",
       "      <td>5</td>\n",
       "      <td>...</td>\n",
       "      <td>2</td>\n",
       "      <td>9355.0</td>\n",
       "      <td>1626</td>\n",
       "      <td>7729.0</td>\n",
       "      <td>0.701</td>\n",
       "      <td>1230</td>\n",
       "      <td>28</td>\n",
       "      <td>0.867</td>\n",
       "      <td>0.174</td>\n",
       "      <td>Existing Customer</td>\n",
       "    </tr>\n",
       "    <tr>\n",
       "      <th>4</th>\n",
       "      <td>711368283</td>\n",
       "      <td>39</td>\n",
       "      <td>M</td>\n",
       "      <td>2</td>\n",
       "      <td>Unknown</td>\n",
       "      <td>Married</td>\n",
       "      <td>$80K - $120K</td>\n",
       "      <td>Blue</td>\n",
       "      <td>27</td>\n",
       "      <td>3</td>\n",
       "      <td>...</td>\n",
       "      <td>2</td>\n",
       "      <td>34516.0</td>\n",
       "      <td>1629</td>\n",
       "      <td>32887.0</td>\n",
       "      <td>1.078</td>\n",
       "      <td>3448</td>\n",
       "      <td>53</td>\n",
       "      <td>1.038</td>\n",
       "      <td>0.047</td>\n",
       "      <td>Existing Customer</td>\n",
       "    </tr>\n",
       "  </tbody>\n",
       "</table>\n",
       "<p>5 rows × 21 columns</p>\n",
       "</div>"
      ],
      "text/plain": [
       "   CLIENTNUM  Customer_Age Gender  Dependent_count Education_Level  \\\n",
       "0  715630983            31      F                0        Graduate   \n",
       "1  713643858            53      F                1         College   \n",
       "2  708334158            46      F                3        Graduate   \n",
       "3  711033408            50      F                2     High School   \n",
       "4  711368283            39      M                2         Unknown   \n",
       "\n",
       "  Marital_Status Income_Category Card_Category  Months_on_book  \\\n",
       "0         Single  Less than $40K          Blue              21   \n",
       "1        Married     $40K - $60K          Blue              43   \n",
       "2       Divorced  Less than $40K          Blue              34   \n",
       "3        Married  Less than $40K          Blue              36   \n",
       "4        Married    $80K - $120K          Blue              27   \n",
       "\n",
       "   Total_Relationship_Count  ...  Contacts_Count_12_mon  Credit_Limit  \\\n",
       "0                         4  ...                      3        4598.0   \n",
       "1                         4  ...                      2        1525.0   \n",
       "2                         4  ...                      4        9863.0   \n",
       "3                         5  ...                      2        9355.0   \n",
       "4                         3  ...                      2       34516.0   \n",
       "\n",
       "   Total_Revolving_Bal  Avg_Open_To_Buy  Total_Amt_Chng_Q4_Q1  \\\n",
       "0                    0           4598.0                 0.439   \n",
       "1                 1411            114.0                 0.660   \n",
       "2                  686           9177.0                 0.581   \n",
       "3                 1626           7729.0                 0.701   \n",
       "4                 1629          32887.0                 1.078   \n",
       "\n",
       "   Total_Trans_Amt  Total_Trans_Ct  Total_Ct_Chng_Q4_Q1  \\\n",
       "0             6317              77                0.833   \n",
       "1             1911              47                0.958   \n",
       "2             3068              58                0.933   \n",
       "3             1230              28                0.867   \n",
       "4             3448              53                1.038   \n",
       "\n",
       "   Avg_Utilization_Ratio     Attrition_Flag  \n",
       "0                  0.000  Attrited Customer  \n",
       "1                  0.925  Existing Customer  \n",
       "2                  0.070  Existing Customer  \n",
       "3                  0.174  Existing Customer  \n",
       "4                  0.047  Existing Customer  \n",
       "\n",
       "[5 rows x 21 columns]"
      ]
     },
     "execution_count": 3,
     "metadata": {},
     "output_type": "execute_result"
    }
   ],
   "source": [
    "train_df.head()"
   ]
  },
  {
   "cell_type": "code",
   "execution_count": 4,
   "metadata": {},
   "outputs": [
    {
     "name": "stdout",
     "output_type": "stream",
     "text": [
      "<class 'pandas.core.frame.DataFrame'>\n",
      "RangeIndex: 7595 entries, 0 to 7594\n",
      "Data columns (total 21 columns):\n",
      " #   Column                    Non-Null Count  Dtype  \n",
      "---  ------                    --------------  -----  \n",
      " 0   CLIENTNUM                 7595 non-null   int64  \n",
      " 1   Customer_Age              7595 non-null   int64  \n",
      " 2   Gender                    7595 non-null   object \n",
      " 3   Dependent_count           7595 non-null   int64  \n",
      " 4   Education_Level           7595 non-null   object \n",
      " 5   Marital_Status            7595 non-null   object \n",
      " 6   Income_Category           7595 non-null   object \n",
      " 7   Card_Category             7595 non-null   object \n",
      " 8   Months_on_book            7595 non-null   int64  \n",
      " 9   Total_Relationship_Count  7595 non-null   int64  \n",
      " 10  Months_Inactive_12_mon    7595 non-null   int64  \n",
      " 11  Contacts_Count_12_mon     7595 non-null   int64  \n",
      " 12  Credit_Limit              7595 non-null   float64\n",
      " 13  Total_Revolving_Bal       7595 non-null   int64  \n",
      " 14  Avg_Open_To_Buy           7595 non-null   float64\n",
      " 15  Total_Amt_Chng_Q4_Q1      7595 non-null   float64\n",
      " 16  Total_Trans_Amt           7595 non-null   int64  \n",
      " 17  Total_Trans_Ct            7595 non-null   int64  \n",
      " 18  Total_Ct_Chng_Q4_Q1       7595 non-null   float64\n",
      " 19  Avg_Utilization_Ratio     7595 non-null   float64\n",
      " 20  Attrition_Flag            7595 non-null   object \n",
      "dtypes: float64(5), int64(10), object(6)\n",
      "memory usage: 1.2+ MB\n"
     ]
    }
   ],
   "source": [
    "train_df.info()"
   ]
  },
  {
   "cell_type": "code",
   "execution_count": 5,
   "metadata": {},
   "outputs": [
    {
     "name": "stdout",
     "output_type": "stream",
     "text": [
      "<class 'pandas.core.frame.DataFrame'>\n",
      "RangeIndex: 2532 entries, 0 to 2531\n",
      "Data columns (total 20 columns):\n",
      " #   Column                    Non-Null Count  Dtype  \n",
      "---  ------                    --------------  -----  \n",
      " 0   CLIENTNUM                 2532 non-null   int64  \n",
      " 1   Customer_Age              2532 non-null   int64  \n",
      " 2   Gender                    2532 non-null   object \n",
      " 3   Dependent_count           2532 non-null   int64  \n",
      " 4   Education_Level           2532 non-null   object \n",
      " 5   Marital_Status            2532 non-null   object \n",
      " 6   Income_Category           2532 non-null   object \n",
      " 7   Card_Category             2532 non-null   object \n",
      " 8   Months_on_book            2532 non-null   int64  \n",
      " 9   Total_Relationship_Count  2532 non-null   int64  \n",
      " 10  Months_Inactive_12_mon    2532 non-null   int64  \n",
      " 11  Contacts_Count_12_mon     2532 non-null   int64  \n",
      " 12  Credit_Limit              2532 non-null   float64\n",
      " 13  Total_Revolving_Bal       2532 non-null   int64  \n",
      " 14  Avg_Open_To_Buy           2532 non-null   float64\n",
      " 15  Total_Amt_Chng_Q4_Q1      2532 non-null   float64\n",
      " 16  Total_Trans_Amt           2532 non-null   int64  \n",
      " 17  Total_Trans_Ct            2532 non-null   int64  \n",
      " 18  Total_Ct_Chng_Q4_Q1       2532 non-null   float64\n",
      " 19  Avg_Utilization_Ratio     2532 non-null   float64\n",
      "dtypes: float64(5), int64(10), object(5)\n",
      "memory usage: 395.8+ KB\n"
     ]
    }
   ],
   "source": [
    "validation_df.info()"
   ]
  },
  {
   "cell_type": "markdown",
   "metadata": {},
   "source": [
    "Пропусков данных нет, поэтому приступим к преобразованию строковых данных в числовые"
   ]
  },
  {
   "cell_type": "code",
   "execution_count": 6,
   "metadata": {},
   "outputs": [
    {
     "data": {
      "text/plain": [
       "F    4010\n",
       "M    3585\n",
       "Name: Gender, dtype: int64"
      ]
     },
     "execution_count": 6,
     "metadata": {},
     "output_type": "execute_result"
    }
   ],
   "source": [
    "# Gender\n",
    "train_df['Gender'].value_counts()"
   ]
  },
  {
   "cell_type": "code",
   "execution_count": 7,
   "metadata": {},
   "outputs": [],
   "source": [
    "def gen(Gender):\n",
    "    if Gender == 'M':\n",
    "        return 1\n",
    "    elif Gender == 'F':\n",
    "        return 0\n",
    "    else: return None\n",
    "\n",
    "train_df['Gender'] = train_df['Gender'].apply(gen)\n",
    "validation_df['Gender'] = validation_df['Gender'].apply(gen)"
   ]
  },
  {
   "cell_type": "code",
   "execution_count": 8,
   "metadata": {},
   "outputs": [
    {
     "data": {
      "text/plain": [
       "Graduate         2322\n",
       "High School      1518\n",
       "Unknown          1169\n",
       "Uneducated       1126\n",
       "College           752\n",
       "Post-Graduate     373\n",
       "Doctorate         335\n",
       "Name: Education_Level, dtype: int64"
      ]
     },
     "execution_count": 8,
     "metadata": {},
     "output_type": "execute_result"
    }
   ],
   "source": [
    "# Education_Level\n",
    "train_df['Education_Level'].value_counts()"
   ]
  },
  {
   "cell_type": "code",
   "execution_count": 9,
   "metadata": {},
   "outputs": [
    {
     "data": {
      "text/plain": [
       "Graduate         806\n",
       "High School      495\n",
       "Uneducated       361\n",
       "Unknown          350\n",
       "College          261\n",
       "Post-Graduate    143\n",
       "Doctorate        116\n",
       "Name: Education_Level, dtype: int64"
      ]
     },
     "execution_count": 9,
     "metadata": {},
     "output_type": "execute_result"
    }
   ],
   "source": [
    "validation_df['Education_Level'].value_counts()"
   ]
  },
  {
   "cell_type": "code",
   "execution_count": 10,
   "metadata": {},
   "outputs": [],
   "source": [
    "ed_levels = {'Uneducated':0, 'Unknown':1, 'High School':2, 'College':3, 'Graduate':4, 'Post-Graduate':5, 'Doctorate':6}\n",
    "def ed(Education_Level):\n",
    "    return ed_levels.get(Education_Level)\n",
    "\n",
    "train_df['Education_Level'] = train_df['Education_Level'].apply(ed)\n",
    "validation_df['Education_Level'] = validation_df['Education_Level'].apply(ed)"
   ]
  },
  {
   "cell_type": "code",
   "execution_count": 11,
   "metadata": {},
   "outputs": [
    {
     "data": {
      "text/plain": [
       "Married     3480\n",
       "Single      2987\n",
       "Divorced     574\n",
       "Unknown      554\n",
       "Name: Marital_Status, dtype: int64"
      ]
     },
     "execution_count": 11,
     "metadata": {},
     "output_type": "execute_result"
    }
   ],
   "source": [
    "# Marital_Status\n",
    "train_df['Marital_Status'].value_counts()"
   ]
  },
  {
   "cell_type": "code",
   "execution_count": 12,
   "metadata": {},
   "outputs": [],
   "source": [
    "mar_ststus = {'Single':0, 'Married':1, 'Divorced':2, 'Unknown':3}\n",
    "def mar(Marital_Status):\n",
    "    return mar_ststus.get(Marital_Status)\n",
    "train_df['Marital_Status'] = train_df['Marital_Status'].apply(mar)\n",
    "validation_df['Marital_Status'] = validation_df['Marital_Status'].apply(mar)"
   ]
  },
  {
   "cell_type": "code",
   "execution_count": 13,
   "metadata": {},
   "outputs": [],
   "source": [
    "#Income_Category\n",
    "income_cat = {'Unknown':0, 'Less than $40K':1, '$40K - $60K':2, '$60K - $80K':3, '$80K - $120K':4, '$120K +':5}\n",
    "def inc(Income_Category):\n",
    "    return income_cat.get(Income_Category)\n",
    "\n",
    "train_df['Income_Category'] = train_df['Income_Category'].apply(inc)\n",
    "validation_df['Income_Category'] = validation_df['Income_Category'].apply(inc)"
   ]
  },
  {
   "cell_type": "code",
   "execution_count": 14,
   "metadata": {},
   "outputs": [
    {
     "data": {
      "text/plain": [
       "Blue        7065\n",
       "Silver       423\n",
       "Gold          91\n",
       "Platinum      16\n",
       "Name: Card_Category, dtype: int64"
      ]
     },
     "execution_count": 14,
     "metadata": {},
     "output_type": "execute_result"
    }
   ],
   "source": [
    "# Card_Category\n",
    "train_df['Card_Category'].value_counts()"
   ]
  },
  {
   "cell_type": "code",
   "execution_count": 15,
   "metadata": {},
   "outputs": [],
   "source": [
    "card_cat = {'Blue':0, 'Silver':1, 'Gold':2, 'Platinum':3}\n",
    "def card(Card_Category):\n",
    "    return card_cat.get(Card_Category)\n",
    "train_df['Card_Category'] = train_df['Card_Category'].apply(card)\n",
    "validation_df['Card_Category'] = validation_df['Card_Category'].apply(card)"
   ]
  },
  {
   "cell_type": "code",
   "execution_count": 16,
   "metadata": {},
   "outputs": [
    {
     "data": {
      "text/plain": [
       "Existing Customer    6375\n",
       "Attrited Customer    1220\n",
       "Name: Attrition_Flag, dtype: int64"
      ]
     },
     "execution_count": 16,
     "metadata": {},
     "output_type": "execute_result"
    }
   ],
   "source": [
    "# Attrition_Flag\n",
    "train_df['Attrition_Flag'].value_counts()"
   ]
  },
  {
   "cell_type": "code",
   "execution_count": 17,
   "metadata": {},
   "outputs": [],
   "source": [
    "attr_flag = {'Existing Customer':0, 'Attrited Customer':1}\n",
    "def attr(Attrition_Flag):\n",
    "    return attr_flag.get(Attrition_Flag)\n",
    "train_df['Attrition_Flag'] = train_df['Attrition_Flag'].apply(attr)"
   ]
  },
  {
   "cell_type": "code",
   "execution_count": 18,
   "metadata": {},
   "outputs": [
    {
     "data": {
      "text/plain": [
       "<AxesSubplot:>"
      ]
     },
     "execution_count": 18,
     "metadata": {},
     "output_type": "execute_result"
    },
    {
     "data": {
      "image/png": "[encoded data removed]",
      "text/plain": [
       "<Figure size 720x720 with 2 Axes>"
      ]
     },
     "metadata": {
      "needs_background": "light"
     },
     "output_type": "display_data"
    }
   ],
   "source": [
    "#теперь проверим взаимную корреляцию\n",
    "import seaborn as sns\n",
    "import matplotlib.pyplot as plt\n",
    "plt.figure(figsize = (10,10))\n",
    "sns.heatmap(train_df.corr()[train_df.corr() > 0.8], annot=True)\n"
   ]
  },
  {
   "cell_type": "markdown",
   "metadata": {},
   "source": [
    "как видим есть 2 пары коррелированных между собой столбцов\n",
    "1) Avg_Open_To_Buy - Credit_Limit\n",
    "2) Total_Trans_Amt - Total_Trans_Ct"
   ]
  },
  {
   "cell_type": "code",
   "execution_count": 19,
   "metadata": {},
   "outputs": [],
   "source": [
    "# удалим коррелированные столбцы\n",
    "train_df.drop(['Avg_Open_To_Buy', 'Total_Trans_Ct'], axis = 1, inplace=True) \n",
    "validation_df.drop(['Avg_Open_To_Buy', 'Total_Trans_Ct'], axis = 1, inplace=True) "
   ]
  },
  {
   "cell_type": "markdown",
   "metadata": {},
   "source": [
    "Обучение модели"
   ]
  },
  {
   "cell_type": "code",
   "execution_count": 20,
   "metadata": {},
   "outputs": [],
   "source": [
    "from sklearn.tree import DecisionTreeClassifier\n",
    "from sklearn.metrics import f1_score\n",
    "from sklearn.pipeline import make_pipeline\n",
    "from sklearn.preprocessing import StandardScaler"
   ]
  },
  {
   "cell_type": "code",
   "execution_count": 21,
   "metadata": {},
   "outputs": [],
   "source": [
    "X = train_df.drop(['CLIENTNUM','Attrition_Flag'], axis=1).to_numpy()\n",
    "y = train_df['Attrition_Flag'].to_numpy()"
   ]
  },
  {
   "cell_type": "code",
   "execution_count": 22,
   "metadata": {},
   "outputs": [],
   "source": [
    "# scl = StandardScaler()\n",
    "# X = scl.fit_transform(X)"
   ]
  },
  {
   "cell_type": "code",
   "execution_count": 23,
   "metadata": {},
   "outputs": [],
   "source": [
    "from sklearn.model_selection import train_test_split\n",
    "X_train, X_test, y_train, y_test = train_test_split(X, y, random_state=13)"
   ]
  },
  {
   "cell_type": "code",
   "execution_count": 24,
   "metadata": {},
   "outputs": [
    {
     "name": "stderr",
     "output_type": "stream",
     "text": [
      "/home/danil/.local/lib/python3.10/site-packages/pkg_resources/__init__.py:123: PkgResourcesDeprecationWarning: 1.16.0-unknown is an invalid version and will not be supported in a future release\n",
      "  warnings.warn(\n",
      "/home/danil/.local/lib/python3.10/site-packages/pkg_resources/__init__.py:123: PkgResourcesDeprecationWarning: 1.1build1 is an invalid version and will not be supported in a future release\n",
      "  warnings.warn(\n",
      "/home/danil/.local/lib/python3.10/site-packages/pkg_resources/__init__.py:123: PkgResourcesDeprecationWarning: 0.1.43ubuntu1 is an invalid version and will not be supported in a future release\n",
      "  warnings.warn(\n"
     ]
    },
    {
     "name": "stdout",
     "output_type": "stream",
     "text": [
      "[13:45:01] WARNING: ./src/learner.cc:1115: Starting in XGBoost 1.3.0, the default evaluation metric used with the objective 'binary:logistic' was changed from 'error' to 'logloss'. Explicitly set eval_metric if you'd like to restore the old behavior.\n",
      "0.8571428571428571\n"
     ]
    }
   ],
   "source": [
    "from xgboost import XGBClassifier\n",
    "\n",
    "# pipeline = make_pipeline(StandardScaler(), DecisionTreeClassifier())\n",
    "pipeline = make_pipeline(StandardScaler(), XGBClassifier(use_label_encoder=False))\n",
    "\n",
    "pipeline.fit(X_train, y_train)\n",
    "y_pred = pipeline.predict(X_test)\n",
    "print(f1_score(y_test, y_pred))"
   ]
  },
  {
   "cell_type": "markdown",
   "metadata": {},
   "source": [
    "Попробуем добавить бустинг"
   ]
  },
  {
   "cell_type": "code",
   "execution_count": 25,
   "metadata": {},
   "outputs": [],
   "source": [
    "# from sklearn.ensemble import GradientBoostingClassifier\n",
    "# gbc = GradientBoostingClassifier(\n",
    "#     # n_estimators = n_estimators\n",
    "#     #, max_depth=max_depth_in\n",
    "#     #, learning_rate = learning_rate\n",
    "#     #, random_state=random_state_in\n",
    "# )\n",
    "# gbc.fit(X_train, y_train)\n",
    "# y_pred = gbc.predict(X_test)\n",
    "\n",
    "# print(f1_score(y_test, y_pred))"
   ]
  },
  {
   "cell_type": "code",
   "execution_count": 26,
   "metadata": {},
   "outputs": [],
   "source": [
    "#предсказание на тестовой выборке\n",
    "X_validation = validation_df.drop('CLIENTNUM', axis=1).to_numpy()\n",
    "y_validation = pipeline.predict(X_validation)"
   ]
  },
  {
   "cell_type": "code",
   "execution_count": 27,
   "metadata": {},
   "outputs": [],
   "source": [
    "# выгрузка результатов в нужном формате\n",
    "prediction_df = pd.DataFrame({'churn': y_validation})"
   ]
  },
  {
   "cell_type": "code",
   "execution_count": 28,
   "metadata": {},
   "outputs": [],
   "source": [
    "attr_flag = {0:'Existing Customer', 1:'Attrited Customer'}\n",
    "def attr(Attrition_Flag):\n",
    "    return attr_flag.get(Attrition_Flag)\n",
    "prediction_df['churn'] = prediction_df['churn'].apply(attr)"
   ]
  },
  {
   "cell_type": "code",
   "execution_count": 29,
   "metadata": {},
   "outputs": [],
   "source": [
    "validation_df = validation_df.merge(prediction_df, how='inner', left_index=True, right_index=True)"
   ]
  },
  {
   "cell_type": "code",
   "execution_count": 30,
   "metadata": {},
   "outputs": [],
   "source": [
    "validation_df.set_index('CLIENTNUM')['churn'].to_csv('./data/hw7/new_7_result_matessovd.csv')"
   ]
  }
 ],
 "metadata": {
  "kernelspec": {
   "display_name": "Python 3.10.6 64-bit",
   "language": "python",
   "name": "python3"
  },
  "language_info": {
   "codemirror_mode": {
    "name": "ipython",
    "version": 3
   },
   "file_extension": ".py",
   "mimetype": "text/x-python",
   "name": "python",
   "nbconvert_exporter": "python",
   "pygments_lexer": "ipython3",
   "version": "3.10.6"
  },
  "orig_nbformat": 4,
  "vscode": {
   "interpreter": {
    "hash": "e7370f93d1d0cde622a1f8e1c04877d8463912d04d973331ad4851f04de6915a"
   }
  }
 },
 "nbformat": 4,
 "nbformat_minor": 2
}
