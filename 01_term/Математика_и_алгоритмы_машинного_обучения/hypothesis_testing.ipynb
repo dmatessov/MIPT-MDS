{
 "cells": [
  {
   "cell_type": "markdown",
   "metadata": {},
   "source": [
    "# Статистическая проверка гипотез"
   ]
  },
  {
   "cell_type": "markdown",
   "metadata": {},
   "source": [
    "Статистическая проверка гипотез состоит из следующих этапов:\n",
    "1. Формулировка основной гипотезы $H_0$ и конкурирующей гипотезы $H_1$. Часто $H_1$ - это гипотеза, противоположная $H_0$\n",
    "2. Задание уровня значимости $\\alpha$ (обычно берут равным 0.05), на основании которого будет сделан вывод о справедливости гипотезы. Он равен вероятности допустить ошибку первого рода, то есть отклонить гипотезу $H_0$, когда на деле она верна\n",
    "3. Расчет статистики $\\phi$ критерия, зависяещей от исходной выборки, то есть, если выборка $X = (X_1, X_2, ..., X_n)$, то $\\phi = \\phi(X_1, X_2, ..., X_n)$. Эта статистика также является случайной величиной, но она уже подчиняется некоторому закону распределения.\n",
    "4. На основе значения статистики $\\phi$ и закона распределения, которому она должна подчиняться, выносится решение о принятии (или отвержении) гипотезы $H_0$\n",
    "\n",
    "Рассмотрим на примерах"
   ]
  },
  {
   "cell_type": "markdown",
   "metadata": {},
   "source": [
    "## Пример 1"
   ]
  },
  {
   "cell_type": "markdown",
   "metadata": {},
   "source": [
    "Попробуем решить простую задачу. Давайте сгенеририруем некоторую выборку размера $n$ из нормального распределения со средним $\\mu$ и дисперсией $\\sigma^2$. Будем на основе полученной выборки проверять гипотезу о том, что среднее генеральной совокупности в действительности равняется $\\mu$.\n",
    "\n",
    "Известно, что случайная величина $\\frac{\\overline{X} - \\mu}{S / \\sqrt{n}}$, где $\\overline{X}$ - выборочное среднее, а $S^2$ - выборочная дисперсия имеет распределение Стьюдента с n - 1 степенью свободы\n",
    "\n",
    "Сгенерируем K = 20000 выборок и построим распределение статистики, описанной выше"
   ]
  },
  {
   "cell_type": "code",
   "execution_count": 1,
   "metadata": {},
   "outputs": [],
   "source": [
    "import numpy as np\n",
    "import scipy.stats as st\n",
    "\n",
    "# for reproducibility\n",
    "np.random.seed(42)\n",
    "\n",
    "mu = -1\n",
    "sigma = 2\n",
    "K = 20000\n",
    "n = 20\n",
    "dist = np.zeros(K)\n",
    "for i in range(K):\n",
    "    x = np.random.normal(loc=mu, scale=sigma, size=n)\n",
    "    dist[i] = (np.mean(x) - mu) / (np.std(x, ddof=1) / np.sqrt(n))"
   ]
  },
  {
   "cell_type": "code",
   "execution_count": 2,
   "metadata": {},
   "outputs": [
    {
     "data": {
      "image/png": "[encoded data removed]",
      "text/plain": [
       "<Figure size 432x288 with 1 Axes>"
      ]
     },
     "metadata": {
      "needs_background": "light"
     },
     "output_type": "display_data"
    }
   ],
   "source": [
    "import matplotlib.pyplot as plt\n",
    "plt.hist(dist, bins=50, density=True)\n",
    "df = n - 1\n",
    "a = np.linspace(st.t.ppf(0.0001, df),\n",
    "                st.t.ppf(0.9999, df), 100)\n",
    "plt.plot(a, st.t.pdf(a, df),\n",
    "       'r-', lw=2, alpha=0.8)\n",
    "plt.show()"
   ]
  },
  {
   "cell_type": "markdown",
   "metadata": {},
   "source": [
    "Как видим, теоретическое распределение и полученное при моделировании совпадают. Что же нам дает знание распределения? С помощью знаний о распределении мы можем оценивать, насколько правдоподобное значение статистики мы получили при условии правильности нулевой гипотезы. Для этих задач используется p-value, которое показывает вероятность получить подобное или еще большее отклонение статистики от ожидаемого значения.\n",
    "\n",
    "Пусть, например, мы получили статистику $\\phi = 2.6$. Нужно как-то понять, это много или мало. Для этого удобно посмотреть на распределение статистики:\n",
    "\n",
    "<img src=\"https://psv4.userapi.com/c237331/u81775619/docs/d3/2a093cea0160/image.png?extra=VuP4QS6imxdh3t_e0WyU0kspuBu6s8vMnrrNN197rH28lMIhi8FQVwa96w3QmtYA1Pb3lLuRAHumCpUfxFyON-i7zi97SshRMefqBRxJ-zuqfP2BxM12xlfXZmY5ay2ghET0NxAAJyT9ZV48SrZ0SQ\" height=400 />\n",
    "\n",
    "(кстати, поиграться с различными распределениями можно на сайте https://gallery.shinyapps.io/dist_calc/)\n",
    "\n",
    "Имея данное распределение статистики, получить значения менее -2.6 или более 2.6 равно 0.0176. То есть чисто случайно, получить значения статистики 2.6 или более аномальные мы можем с вероятностью 0.0176, что меньше порога допустимой вероятности ошибок первого рода, который обычно берется равным $\\alpha = 0.05$. Поэтому нулевую гипотезу можно отклюнить.\n",
    "\n",
    "Кратко: Если p-value меньше $\\alpha$, то нулевую гипотезу отклоняем"
   ]
  },
  {
   "cell_type": "markdown",
   "metadata": {},
   "source": [
    "Теперь давайте сгенерируем выборку из нормального распределения со средним 0 и дисперсией 1, и проверим 2 гипотезы.\n",
    "1. $H_0: \\mu = 0$, $H_1: \\mu \\neq 0$\n",
    "2. $H_0: \\mu = 1.5$, $H_1: \\mu \\neq 1.5$"
   ]
  },
  {
   "cell_type": "code",
   "execution_count": 3,
   "metadata": {},
   "outputs": [],
   "source": [
    "def test_mu(x, mu):\n",
    "    # рассчитаем статистику\n",
    "    n = len(x)\n",
    "    stat = (np.mean(x) - mu) / (np.std(x, ddof=1) / np.sqrt(n))\n",
    "    p = (1 - st.t.cdf(abs(stat), df = n - 1)) + st.t.cdf(-abs(stat), df = n - 1)\n",
    "    return {\"stat\": stat, \"p-value\": p}"
   ]
  },
  {
   "cell_type": "code",
   "execution_count": 4,
   "metadata": {},
   "outputs": [],
   "source": [
    "n = 20\n",
    "x = np.random.normal(size=n)"
   ]
  },
  {
   "cell_type": "markdown",
   "metadata": {},
   "source": [
    "1. $H_0: \\mu = 0$, $H_1: \\mu \\neq 0$"
   ]
  },
  {
   "cell_type": "code",
   "execution_count": 5,
   "metadata": {},
   "outputs": [
    {
     "data": {
      "text/plain": [
       "{'stat': -0.22485624708143953, 'p-value': 0.8244917079577923}"
      ]
     },
     "execution_count": 5,
     "metadata": {},
     "output_type": "execute_result"
    }
   ],
   "source": [
    "test_mu(x, 0)"
   ]
  },
  {
   "cell_type": "markdown",
   "metadata": {},
   "source": [
    "p-value больше 0.05, поэтому нулевую гипотезу не отклоняем"
   ]
  },
  {
   "cell_type": "markdown",
   "metadata": {},
   "source": [
    "2. $H_0: \\mu = 1.5$, $H_1: \\mu \\neq 1.5$"
   ]
  },
  {
   "cell_type": "code",
   "execution_count": 6,
   "metadata": {},
   "outputs": [
    {
     "data": {
      "text/plain": [
       "{'stat': -6.181483993101722, 'p-value': 6.121176466218136e-06}"
      ]
     },
     "execution_count": 6,
     "metadata": {},
     "output_type": "execute_result"
    }
   ],
   "source": [
    "test_mu(x, 1.5)"
   ]
  },
  {
   "cell_type": "markdown",
   "metadata": {},
   "source": [
    "p-value меньше 0.05, поэтому нулевую гипотезу отклоняем"
   ]
  },
  {
   "cell_type": "markdown",
   "metadata": {},
   "source": [
    "На самом деле этот тест уже есть готовый из коробки в библиотеке scipy. Покажем, как им пользоваться"
   ]
  },
  {
   "cell_type": "code",
   "execution_count": 7,
   "metadata": {},
   "outputs": [
    {
     "data": {
      "text/plain": [
       "Ttest_1sampResult(statistic=-6.181483993101722, pvalue=6.1211764662912005e-06)"
      ]
     },
     "execution_count": 7,
     "metadata": {},
     "output_type": "execute_result"
    }
   ],
   "source": [
    "st.ttest_1samp(x, 1.5)"
   ]
  },
  {
   "cell_type": "markdown",
   "metadata": {},
   "source": [
    "## Пример 2. Ttest"
   ]
  },
  {
   "cell_type": "markdown",
   "metadata": {},
   "source": [
    "Ttest или тест Стьюдента используется для сравнения средних двух распределений. Пусть имеются две независимые выборки объемами $n_1, n_2$ нормально распределенных случайных величин $X_1$, $X_2$, с примерно равной дисперсией. Необходимо проверить по выборочным данным нулевую гипотезу равенства математических ожиданий этих случайных величин $H_0: \\mu_0 = \\mu_1$.\n",
    "\n",
    "Пусть s_1^2 и s_2^2 - выборочные дисперсии распределений, $\\overline{X_1}, \\overline{X_2}$ - средние. Тогда статистика теста рассчитывается по формуле:\n",
    "$$\n",
    "t = \\frac{\\overline{X_1} - \\overline{X_2}}{\\sqrt{\\frac{s_1^2}{n_1} + \\frac{s_2^2}{n_2}}}\n",
    "$$\n",
    "\n",
    "Эта статистика будет иметь распределение Стьюдента с числом степеней свободы $df = n_1 + n_2 - 2$"
   ]
  },
  {
   "cell_type": "code",
   "execution_count": 8,
   "metadata": {},
   "outputs": [
    {
     "data": {
      "text/plain": [
       "Ttest_indResult(statistic=0.07451625779568515, pvalue=0.9409092923114994)"
      ]
     },
     "execution_count": 8,
     "metadata": {},
     "output_type": "execute_result"
    }
   ],
   "source": [
    "n1 = 20\n",
    "n2 = 30\n",
    "\n",
    "x1 = np.random.normal(size = n1)\n",
    "x2 = np.random.normal(size = n2)\n",
    "st.ttest_ind(x1, x2)"
   ]
  },
  {
   "cell_type": "markdown",
   "metadata": {},
   "source": [
    "Как видим, должны принять нулевую гипотезу о равенстве средних (неудивительно, ведь генерировали из распределений с одинаковым средним)"
   ]
  },
  {
   "cell_type": "code",
   "execution_count": 9,
   "metadata": {},
   "outputs": [
    {
     "data": {
      "text/plain": [
       "Ttest_indResult(statistic=-3.5054500896438507, pvalue=0.0009988601819338595)"
      ]
     },
     "execution_count": 9,
     "metadata": {},
     "output_type": "execute_result"
    }
   ],
   "source": [
    "n1 = 20\n",
    "n2 = 30\n",
    "\n",
    "x1 = np.random.normal(size = n1)\n",
    "x2 = np.random.normal(loc = 1.25, size = n2)\n",
    "st.ttest_ind(x1, x2)"
   ]
  },
  {
   "cell_type": "markdown",
   "metadata": {},
   "source": [
    "В этом случае должны нулевую гипотезу отклонить"
   ]
  },
  {
   "cell_type": "markdown",
   "metadata": {},
   "source": [
    "## A/B-тестирование"
   ]
  },
  {
   "cell_type": "markdown",
   "metadata": {},
   "source": [
    "A/B-тестирование — это инструмент, который помогает командам проверять гипотезы и принимать решения на основе данных, а не интуиции. Суть метода заключается в том, чтобы разделить аудиторию на части и показать ей разные варианты чего-либо, чтобы понять, какая версия лучше.\n",
    "\n",
    "Для проведения A/B-тестирования нужно определиться с некоторыми моментами:\n",
    "\n",
    "1. Поставить цель исследования, то есть понять, что же мы пытаемся изменить в продукте\n",
    "2. Выбрать метрику или метрики, на которые будем смотреть при определении лучшей версии\n",
    "3. Выбрать гипотезу, которая будет связана с главной метрикой теста\n",
    "4. Подготовить обе версии продукта (текущую и измененную)\n",
    "5. Провести эксперимент и накопить данные\n",
    "6. Проанализировать полученную информацию, принять решение об успешности проведенного теста"
   ]
  }
 ],
 "metadata": {
  "kernelspec": {
   "display_name": "Python 3.8.8 ('base')",
   "language": "python",
   "name": "python3"
  },
  "language_info": {
   "codemirror_mode": {
    "name": "ipython",
    "version": 3
   },
   "file_extension": ".py",
   "mimetype": "text/x-python",
   "name": "python",
   "nbconvert_exporter": "python",
   "pygments_lexer": "ipython3",
   "version": "3.8.8"
  },
  "orig_nbformat": 4,
  "vscode": {
   "interpreter": {
    "hash": "ad2bdc8ecc057115af97d19610ffacc2b4e99fae6737bb82f5d7fb13d2f2c186"
   }
  }
 },
 "nbformat": 4,
 "nbformat_minor": 2
}
