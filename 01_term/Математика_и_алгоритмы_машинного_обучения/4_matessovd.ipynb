{
 "cells": [
  {
   "cell_type": "markdown",
   "metadata": {},
   "source": [
    "## Задание 4\n",
    "\n",
    "Необходимо произвести предобработку данных,\n",
    "обучить модели на алгоритмах, рассмотренных в уроках,\n",
    "оценить модели с помощью рассмотренных метрик и объяснить выбор определенной метрики.\n",
    "\n",
    "Критерий оценки - Балл (max 10)\n",
    "\n",
    "Предобработка данных - 3;\n",
    "\n",
    "Обучение моделей - 4;\n",
    "\n",
    "Выбор метрики и оценка моделей - 3\n"
   ]
  },
  {
   "cell_type": "markdown",
   "metadata": {},
   "source": [
    "## Решение\n",
    "рассмотренные в уроках алгоритмы это: LinearRegression, Ridge, Lasso, HuberRegressor\n",
    "\n",
    "рассмотренные метрики: MSE, MAE, MAPE, R^2"
   ]
  },
  {
   "cell_type": "markdown",
   "metadata": {},
   "source": [
    "### Предобработка данных"
   ]
  },
  {
   "cell_type": "code",
   "execution_count": 145,
   "metadata": {},
   "outputs": [],
   "source": [
    "import pandas as pd\n",
    "import numpy as np\n",
    "import matplotlib.pyplot as plt"
   ]
  },
  {
   "cell_type": "code",
   "execution_count": 146,
   "metadata": {},
   "outputs": [],
   "source": [
    "df = pd.read_csv('./data/house_prices_train.csv')"
   ]
  },
  {
   "cell_type": "markdown",
   "metadata": {},
   "source": [
    "По условиям задачи никакого описания набора данных не дано, поэтому смысловой анализ данных опустим. \n",
    "Для начала нужно избавиться от пропусков и категориальных признаков. Посмотрим на них, и оценим, можно ли их закодировать."
   ]
  },
  {
   "cell_type": "code",
   "execution_count": 147,
   "metadata": {},
   "outputs": [
    {
     "name": "stdout",
     "output_type": "stream",
     "text": [
      "<class 'pandas.core.frame.DataFrame'>\n",
      "RangeIndex: 1460 entries, 0 to 1459\n",
      "Data columns (total 81 columns):\n",
      " #   Column         Non-Null Count  Dtype  \n",
      "---  ------         --------------  -----  \n",
      " 0   Id             1460 non-null   int64  \n",
      " 1   MSSubClass     1460 non-null   int64  \n",
      " 2   MSZoning       1460 non-null   object \n",
      " 3   LotFrontage    1201 non-null   float64\n",
      " 4   LotArea        1460 non-null   int64  \n",
      " 5   Street         1460 non-null   object \n",
      " 6   Alley          91 non-null     object \n",
      " 7   LotShape       1460 non-null   object \n",
      " 8   LandContour    1460 non-null   object \n",
      " 9   Utilities      1460 non-null   object \n",
      " 10  LotConfig      1460 non-null   object \n",
      " 11  LandSlope      1460 non-null   object \n",
      " 12  Neighborhood   1460 non-null   object \n",
      " 13  Condition1     1460 non-null   object \n",
      " 14  Condition2     1460 non-null   object \n",
      " 15  BldgType       1460 non-null   object \n",
      " 16  HouseStyle     1460 non-null   object \n",
      " 17  OverallQual    1460 non-null   int64  \n",
      " 18  OverallCond    1460 non-null   int64  \n",
      " 19  YearBuilt      1460 non-null   int64  \n",
      " 20  YearRemodAdd   1460 non-null   int64  \n",
      " 21  RoofStyle      1460 non-null   object \n",
      " 22  RoofMatl       1460 non-null   object \n",
      " 23  Exterior1st    1460 non-null   object \n",
      " 24  Exterior2nd    1460 non-null   object \n",
      " 25  MasVnrType     1452 non-null   object \n",
      " 26  MasVnrArea     1452 non-null   float64\n",
      " 27  ExterQual      1460 non-null   object \n",
      " 28  ExterCond      1460 non-null   object \n",
      " 29  Foundation     1460 non-null   object \n",
      " 30  BsmtQual       1423 non-null   object \n",
      " 31  BsmtCond       1423 non-null   object \n",
      " 32  BsmtExposure   1422 non-null   object \n",
      " 33  BsmtFinType1   1423 non-null   object \n",
      " 34  BsmtFinSF1     1460 non-null   int64  \n",
      " 35  BsmtFinType2   1422 non-null   object \n",
      " 36  BsmtFinSF2     1460 non-null   int64  \n",
      " 37  BsmtUnfSF      1460 non-null   int64  \n",
      " 38  TotalBsmtSF    1460 non-null   int64  \n",
      " 39  Heating        1460 non-null   object \n",
      " 40  HeatingQC      1460 non-null   object \n",
      " 41  CentralAir     1460 non-null   object \n",
      " 42  Electrical     1459 non-null   object \n",
      " 43  1stFlrSF       1460 non-null   int64  \n",
      " 44  2ndFlrSF       1460 non-null   int64  \n",
      " 45  LowQualFinSF   1460 non-null   int64  \n",
      " 46  GrLivArea      1460 non-null   int64  \n",
      " 47  BsmtFullBath   1460 non-null   int64  \n",
      " 48  BsmtHalfBath   1460 non-null   int64  \n",
      " 49  FullBath       1460 non-null   int64  \n",
      " 50  HalfBath       1460 non-null   int64  \n",
      " 51  BedroomAbvGr   1460 non-null   int64  \n",
      " 52  KitchenAbvGr   1460 non-null   int64  \n",
      " 53  KitchenQual    1460 non-null   object \n",
      " 54  TotRmsAbvGrd   1460 non-null   int64  \n",
      " 55  Functional     1460 non-null   object \n",
      " 56  Fireplaces     1460 non-null   int64  \n",
      " 57  FireplaceQu    770 non-null    object \n",
      " 58  GarageType     1379 non-null   object \n",
      " 59  GarageYrBlt    1379 non-null   float64\n",
      " 60  GarageFinish   1379 non-null   object \n",
      " 61  GarageCars     1460 non-null   int64  \n",
      " 62  GarageArea     1460 non-null   int64  \n",
      " 63  GarageQual     1379 non-null   object \n",
      " 64  GarageCond     1379 non-null   object \n",
      " 65  PavedDrive     1460 non-null   object \n",
      " 66  WoodDeckSF     1460 non-null   int64  \n",
      " 67  OpenPorchSF    1460 non-null   int64  \n",
      " 68  EnclosedPorch  1460 non-null   int64  \n",
      " 69  3SsnPorch      1460 non-null   int64  \n",
      " 70  ScreenPorch    1460 non-null   int64  \n",
      " 71  PoolArea       1460 non-null   int64  \n",
      " 72  PoolQC         7 non-null      object \n",
      " 73  Fence          281 non-null    object \n",
      " 74  MiscFeature    54 non-null     object \n",
      " 75  MiscVal        1460 non-null   int64  \n",
      " 76  MoSold         1460 non-null   int64  \n",
      " 77  YrSold         1460 non-null   int64  \n",
      " 78  SaleType       1460 non-null   object \n",
      " 79  SaleCondition  1460 non-null   object \n",
      " 80  SalePrice      1460 non-null   int64  \n",
      "dtypes: float64(3), int64(35), object(43)\n",
      "memory usage: 924.0+ KB\n"
     ]
    }
   ],
   "source": [
    "df.info()"
   ]
  },
  {
   "cell_type": "code",
   "execution_count": 148,
   "metadata": {},
   "outputs": [],
   "source": [
    "# столбцы с пропусками данных > 20% просто удаляем, для заполнения пропущенных значений нет экспертизы\n",
    "col_to_drop = df.columns[df.isnull().sum() > df.shape[0]*0.2]\n",
    "df.drop(col_to_drop, axis = 1, inplace=True)   \n",
    "\n",
    "df.drop(['Id'], axis = 1, inplace=True) "
   ]
  },
  {
   "cell_type": "code",
   "execution_count": 149,
   "metadata": {},
   "outputs": [],
   "source": [
    "# строки с пропущенными значениями тоже\n",
    "df = df.dropna() \n",
    "df.reset_index(drop=True, inplace=True)"
   ]
  },
  {
   "cell_type": "code",
   "execution_count": 150,
   "metadata": {},
   "outputs": [
    {
     "data": {
      "text/plain": [
       "<AxesSubplot:>"
      ]
     },
     "execution_count": 150,
     "metadata": {},
     "output_type": "execute_result"
    },
    {
     "data": {
      "image/png": "[encoded data removed]",
      "text/plain": [
       "<Figure size 432x288 with 2 Axes>"
      ]
     },
     "metadata": {
      "needs_background": "light"
     },
     "output_type": "display_data"
    }
   ],
   "source": [
    "#теперь проверим взаимную корреляцию\n",
    "import seaborn as sns\n",
    "\n",
    "\n",
    "#plt.figure(figsize=(10, 10))\n",
    "sns.heatmap(df.corr()[df.corr() > 0.8], annot=True)"
   ]
  },
  {
   "cell_type": "markdown",
   "metadata": {},
   "source": [
    "Видно, что есть пары коррелированных между собой переменных"
   ]
  },
  {
   "cell_type": "code",
   "execution_count": 151,
   "metadata": {},
   "outputs": [],
   "source": [
    "corr = df.corr()[df.corr() > 0.8]"
   ]
  },
  {
   "cell_type": "code",
   "execution_count": 152,
   "metadata": {},
   "outputs": [
    {
     "name": "stdout",
     "output_type": "stream",
     "text": [
      "YearBuilt <> GarageYrBlt\n",
      "TotalBsmtSF <> 1stFlrSF\n",
      "1stFlrSF <> TotalBsmtSF\n",
      "GrLivArea <> TotRmsAbvGrd\n",
      "TotRmsAbvGrd <> GrLivArea\n",
      "GarageYrBlt <> YearBuilt\n",
      "GarageCars <> GarageArea\n",
      "GarageArea <> GarageCars\n"
     ]
    }
   ],
   "source": [
    "# выведем их список\n",
    "for index, row in corr.iterrows():\n",
    "    for col in corr.columns:\n",
    "        if not np.isnan(row[col]):\n",
    "            if index != col:\n",
    "                print(index, '<>' ,col)"
   ]
  },
  {
   "cell_type": "code",
   "execution_count": 153,
   "metadata": {},
   "outputs": [],
   "source": [
    "# удалим коррелированные столбцы\n",
    "df.drop(['GarageYrBlt', '1stFlrSF', 'TotRmsAbvGrd', 'GarageCars'], axis = 1, inplace=True) "
   ]
  },
  {
   "cell_type": "code",
   "execution_count": 154,
   "metadata": {},
   "outputs": [
    {
     "data": {
      "text/plain": [
       "<AxesSubplot:>"
      ]
     },
     "execution_count": 154,
     "metadata": {},
     "output_type": "execute_result"
    },
    {
     "data": {
      "image/png": "[encoded data removed]",
      "text/plain": [
       "<Figure size 432x288 with 2 Axes>"
      ]
     },
     "metadata": {
      "needs_background": "light"
     },
     "output_type": "display_data"
    }
   ],
   "source": [
    "sns.heatmap(df.corr()[df.corr() > 0.8], annot=True)"
   ]
  },
  {
   "cell_type": "code",
   "execution_count": 155,
   "metadata": {},
   "outputs": [
    {
     "name": "stdout",
     "output_type": "stream",
     "text": [
      "MSZoning 5\n",
      "Street 2\n",
      "LotShape 4\n",
      "LandContour 4\n",
      "Utilities 1\n",
      "LotConfig 5\n",
      "LandSlope 3\n",
      "Neighborhood 25\n",
      "Condition1 9\n",
      "Condition2 6\n",
      "BldgType 5\n",
      "HouseStyle 8\n",
      "RoofStyle 5\n",
      "RoofMatl 7\n",
      "Exterior1st 14\n",
      "Exterior2nd 16\n",
      "MasVnrType 4\n",
      "ExterQual 4\n",
      "ExterCond 4\n",
      "Foundation 5\n",
      "BsmtQual 4\n",
      "BsmtCond 4\n",
      "BsmtExposure 4\n",
      "BsmtFinType1 6\n",
      "BsmtFinType2 6\n",
      "Heating 4\n",
      "HeatingQC 5\n",
      "CentralAir 2\n",
      "Electrical 5\n",
      "KitchenQual 4\n",
      "Functional 6\n",
      "GarageType 6\n",
      "GarageFinish 3\n",
      "GarageQual 5\n",
      "GarageCond 5\n",
      "PavedDrive 3\n",
      "SaleType 9\n",
      "SaleCondition 6\n"
     ]
    }
   ],
   "source": [
    "# теперь посмотрим на категориальные признаки\n",
    "col_to_transform = []\n",
    "for col in df.columns:\n",
    "    if df[col].dtype == object:\n",
    "        df[col] = df[col].astype('category') # конвертируем в правильный тип данных\n",
    "        col_to_transform.append(col)\n",
    "        print(col, len(df[col].unique()))"
   ]
  },
  {
   "cell_type": "code",
   "execution_count": 156,
   "metadata": {},
   "outputs": [],
   "source": [
    "# большинство категориальных признаков имеют менее 10 уникальных значений, поэтому перекодируем их в отдельные столбцы\n",
    "\n",
    "from sklearn.preprocessing import OneHotEncoder\n",
    "\n",
    "for col in col_to_transform:\n",
    "    enc = OneHotEncoder()\n",
    "    arr = np.array(df[col])\n",
    "    data_new = enc.fit_transform(arr.reshape(-1, 1))\n",
    "    new_df = pd.DataFrame(data_new.toarray(), columns=[col + '-' + cat for cat in enc.categories_])\n",
    "    df = df.join(new_df)\n",
    "\n",
    "df.drop(col_to_transform, axis = 1, inplace=True) \n"
   ]
  },
  {
   "cell_type": "code",
   "execution_count": 157,
   "metadata": {},
   "outputs": [
    {
     "data": {
      "text/plain": [
       "(1094, 256)"
      ]
     },
     "execution_count": 157,
     "metadata": {},
     "output_type": "execute_result"
    }
   ],
   "source": [
    "df.shape\n",
    "    "
   ]
  },
  {
   "cell_type": "markdown",
   "metadata": {},
   "source": [
    "### Обучение моделей"
   ]
  },
  {
   "cell_type": "code",
   "execution_count": 158,
   "metadata": {},
   "outputs": [],
   "source": [
    "from sklearn.linear_model import LinearRegression, Ridge, Lasso, HuberRegressor\n",
    "from sklearn.metrics import mean_squared_error, mean_absolute_error, mean_absolute_percentage_error, r2_score\n",
    "from sklearn.pipeline import make_pipeline\n",
    "from sklearn.preprocessing import StandardScaler\n",
    "\n",
    "\n",
    "models = []\n",
    "mse_scr = []\n",
    "mae_scr = []\n",
    "mape_scr = []\n",
    "r2_scr = []\n",
    "\n",
    "def try_model(model, X_train, y_train, X_test, y_test, model_params=None, add_stat=True):\n",
    "    if model_params is None:\n",
    "        model_params = dict()\n",
    "\n",
    "    pipeline = make_pipeline(StandardScaler(), model(**model_params))\n",
    "    pipeline.fit(X_train, y_train)\n",
    "    y_pred = pipeline.predict(X_test)\n",
    "\n",
    "    model_name = model.__name__\n",
    "    mse = mean_squared_error(y_test, y_pred)\n",
    "    mae = mean_absolute_error(y_test, y_pred)\n",
    "    mape = mean_absolute_percentage_error(y_test, y_pred)\n",
    "    r2 = r2_score(y_test, y_pred)\n",
    "    \n",
    "    print(model_name)\n",
    "    print('mse =', mse)\n",
    "    print('mae =', mae)\n",
    "    print('mape =', mape)\n",
    "    print('R2 =', r2)\n",
    "\n",
    "    if add_stat:\n",
    "        models.append(model_name)\n",
    "        mse_scr.append(mse)\n",
    "        mae_scr.append(mae)\n",
    "        mape_scr.append(mape)\n",
    "        r2_scr.append(r2)\n",
    "\n"
   ]
  },
  {
   "cell_type": "code",
   "execution_count": 159,
   "metadata": {},
   "outputs": [],
   "source": [
    "X = df.drop('SalePrice', axis=1).to_numpy()\n",
    "y = df['SalePrice'].to_numpy()"
   ]
  },
  {
   "cell_type": "code",
   "execution_count": 160,
   "metadata": {},
   "outputs": [],
   "source": [
    "from sklearn.model_selection import train_test_split\n",
    "X_train, X_test, y_train, y_test = train_test_split(X, y, random_state=13)"
   ]
  },
  {
   "cell_type": "code",
   "execution_count": 161,
   "metadata": {},
   "outputs": [
    {
     "name": "stdout",
     "output_type": "stream",
     "text": [
      "LinearRegression\n",
      "mse = 7.254662445937457e+32\n",
      "mae = 3164710248782814.0\n",
      "mape = 16940469742.191435\n",
      "R2 = -1.1574876941147445e+23\n"
     ]
    }
   ],
   "source": [
    "try_model(LinearRegression, X_train, y_train, X_test, y_test, add_stat=False)"
   ]
  },
  {
   "cell_type": "code",
   "execution_count": 162,
   "metadata": {},
   "outputs": [
    {
     "name": "stdout",
     "output_type": "stream",
     "text": [
      "Ridge\n",
      "mse = 604988955.4562668\n",
      "mae = 16667.183244302832\n",
      "mape = 0.0996921320591224\n",
      "R2 = 0.9034734867081093\n"
     ]
    }
   ],
   "source": [
    "try_model(Ridge, X_train, y_train, X_test, y_test)"
   ]
  },
  {
   "cell_type": "code",
   "execution_count": 163,
   "metadata": {},
   "outputs": [
    {
     "name": "stdout",
     "output_type": "stream",
     "text": [
      "Lasso\n",
      "mse = 572374951.0376154\n",
      "mae = 16591.575762066324\n",
      "mape = 0.09953735850912022\n",
      "R2 = 0.908677079439227\n"
     ]
    },
    {
     "name": "stderr",
     "output_type": "stream",
     "text": [
      "/home/danil/.local/lib/python3.10/site-packages/sklearn/linear_model/_coordinate_descent.py:530: ConvergenceWarning: Objective did not converge. You might want to increase the number of iterations. Duality gap: 9369129552.973083, tolerance: 583743228.9053506\n",
      "  model = cd_fast.enet_coordinate_descent(\n"
     ]
    }
   ],
   "source": [
    "try_model(Lasso, X_train, y_train, X_test, y_test)"
   ]
  },
  {
   "cell_type": "code",
   "execution_count": 164,
   "metadata": {},
   "outputs": [
    {
     "name": "stdout",
     "output_type": "stream",
     "text": [
      "HuberRegressor\n",
      "mse = 582388808.9940921\n",
      "mae = 14829.92643646958\n",
      "mape = 0.08601230124493746\n",
      "R2 = 0.9070793597049718\n"
     ]
    },
    {
     "name": "stderr",
     "output_type": "stream",
     "text": [
      "/home/danil/.local/lib/python3.10/site-packages/sklearn/linear_model/_huber.py:296: ConvergenceWarning: lbfgs failed to converge (status=1):\n",
      "STOP: TOTAL NO. of ITERATIONS REACHED LIMIT.\n",
      "\n",
      "Increase the number of iterations (max_iter) or scale the data as shown in:\n",
      "    https://scikit-learn.org/stable/modules/preprocessing.html\n",
      "  self.n_iter_ = _check_optimize_result(\"lbfgs\", opt_res, self.max_iter)\n"
     ]
    }
   ],
   "source": [
    "try_model(HuberRegressor, X_train, y_train, X_test, y_test)"
   ]
  },
  {
   "cell_type": "code",
   "execution_count": 165,
   "metadata": {},
   "outputs": [
    {
     "data": {
      "image/png": "[encoded data removed]",
      "text/plain": [
       "<Figure size 432x288 with 1 Axes>"
      ]
     },
     "metadata": {
      "needs_background": "light"
     },
     "output_type": "display_data"
    }
   ],
   "source": [
    "#Визуализация MSE\n",
    "import matplotlib.pyplot as plt\n",
    "fig = plt.figure()\n",
    "ax = fig.add_axes([0,0,1,1])\n",
    "ax.bar(models,mse_scr)\n",
    "ax.set_ylim(5E+8, 6.25E+8)\n",
    "ax.set_ylabel('Scores')\n",
    "ax.set_title('MSE by model')\n",
    "plt.show()"
   ]
  },
  {
   "cell_type": "code",
   "execution_count": 166,
   "metadata": {},
   "outputs": [
    {
     "data": {
      "image/png": "[encoded data removed]",
      "text/plain": [
       "<Figure size 432x288 with 1 Axes>"
      ]
     },
     "metadata": {
      "needs_background": "light"
     },
     "output_type": "display_data"
    }
   ],
   "source": [
    "#Визуализация MAE\n",
    "import matplotlib.pyplot as plt\n",
    "fig = plt.figure()\n",
    "ax = fig.add_axes([0,0,1,1])\n",
    "ax.bar(models,mae_scr)\n",
    "ax.set_ylim(1.4E+4, 1.7E+4)\n",
    "ax.set_ylabel('Scores')\n",
    "ax.set_title('MAE by model')\n",
    "plt.show()"
   ]
  },
  {
   "cell_type": "code",
   "execution_count": 167,
   "metadata": {},
   "outputs": [
    {
     "data": {
      "image/png": "[encoded data removed]",
      "text/plain": [
       "<Figure size 432x288 with 1 Axes>"
      ]
     },
     "metadata": {
      "needs_background": "light"
     },
     "output_type": "display_data"
    }
   ],
   "source": [
    "#Визуализация MAPE\n",
    "import matplotlib.pyplot as plt\n",
    "fig = plt.figure()\n",
    "ax = fig.add_axes([0,0,1,1])\n",
    "ax.bar(models,mape_scr)\n",
    "ax.set_ylim(0.07, 0.11)\n",
    "ax.set_ylabel('Scores')\n",
    "ax.set_title('MAPE by model')\n",
    "plt.show()"
   ]
  },
  {
   "cell_type": "code",
   "execution_count": 168,
   "metadata": {},
   "outputs": [
    {
     "data": {
      "image/png": "[encoded data removed]",
      "text/plain": [
       "<Figure size 432x288 with 1 Axes>"
      ]
     },
     "metadata": {
      "needs_background": "light"
     },
     "output_type": "display_data"
    }
   ],
   "source": [
    "#Визуализация R2\n",
    "import matplotlib.pyplot as plt\n",
    "fig = plt.figure()\n",
    "ax = fig.add_axes([0,0,1,1])\n",
    "ax.bar(models,r2_scr)\n",
    "ax.set_ylim(0.9, 0.91)\n",
    "ax.set_ylabel('Scores')\n",
    "ax.set_title('R2 by model')\n",
    "plt.show()"
   ]
  },
  {
   "cell_type": "markdown",
   "metadata": {},
   "source": [
    "В метериалах лекции сказано: \"...метрики, как правило, определяются в процессе постановки задачи...\". Т.к. в постановке задачи про метрики ничего не сказано, то мой выбор это R2. Во первых, эта метрика безразмерная, а во вторых именно в данной задаче она позволяет выбрать единственную лучшую модель Lasso, в отличие от MAPE, которая показывает одинаковый результат для Ridge и Lasso.\n",
    "\n",
    "Осталось не понятным, почему модель LinearRegression при конвертировании категориальных признаков в числовые дала такие странные результаты\n",
    "\n",
    "LinearRegression\\\n",
    "mse = 7.254662445937457e+32\\\n",
    "mae = 3164710248782814.0\\\n",
    "mape = 16940469742.191435\\\n",
    "R2 = -1.1574876941147445e+23\\\n",
    "\\\n",
    "без конвертирования значения вполне нормальные\\\n",
    "LinearRegression\\\n",
    "mse = 938591418.3255048\\\n",
    "mae = 20024.650368753482\\\n",
    "mape = 0.11513034826081302\\\n",
    "R2 = 0.8502469240147963\n",
    "\n",
    "Но для других моделей, данная операция поднимает точность R2 на ~5% c ~0.85 до ~0.90\n"
   ]
  }
 ],
 "metadata": {
  "kernelspec": {
   "display_name": "Python 3.10.6 64-bit",
   "language": "python",
   "name": "python3"
  },
  "language_info": {
   "codemirror_mode": {
    "name": "ipython",
    "version": 3
   },
   "file_extension": ".py",
   "mimetype": "text/x-python",
   "name": "python",
   "nbconvert_exporter": "python",
   "pygments_lexer": "ipython3",
   "version": "3.10.6"
  },
  "orig_nbformat": 4,
  "vscode": {
   "interpreter": {
    "hash": "e7370f93d1d0cde622a1f8e1c04877d8463912d04d973331ad4851f04de6915a"
   }
  }
 },
 "nbformat": 4,
 "nbformat_minor": 2
}
