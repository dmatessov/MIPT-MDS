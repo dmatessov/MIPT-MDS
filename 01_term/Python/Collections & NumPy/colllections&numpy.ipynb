{
 "cells": [
  {
   "cell_type": "code",
   "execution_count": 2,
   "metadata": {},
   "outputs": [],
   "source": [
    "from collections import Counter, deque"
   ]
  },
  {
   "cell_type": "code",
   "execution_count": 4,
   "metadata": {},
   "outputs": [
    {
     "name": "stdout",
     "output_type": "stream",
     "text": [
      "OrderedDict([('2020', 1.5), ('2005', -1.6), ('2008', -1.7), ('2007', -2.4), ('2001', -2.5), ('2015', -2.7), ('2018', -2.9), ('2009', -3.5), ('2017', -3.9), ('2000', -4.4), ('2002', -4.4), ('2012', -4.9), ('2011', -5.8), ('2006', -5.9), ('2013', -6.1), ('2019', -6.5), ('2014', -6.9), ('2004', -8.2), ('2003', -9.5), ('2016', -11.2), ('2010', -12.1)])\n"
     ]
    }
   ],
   "source": [
    "from collections import OrderedDict\n",
    "\n",
    "temps = [('2000', -4.4), ('2001', -2.5), ('2002', -4.4), ('2003', -9.5),\n",
    "        ('2004', -8.2), ('2005', -1.6), ('2006', -5.9), ('2007', -2.4),\n",
    "        ('2008', -1.7), ('2009', -3.5), ('2010', -12.1), ('2011', -5.8),\n",
    "        ('2012', -4.9), ('2013', -6.1), ('2014', -6.9), ('2015', -2.7),\n",
    "        ('2016', -11.2), ('2017', -3.9), ('2018', -2.9), ('2019', -6.5),\n",
    "        ('2020', 1.5)]\n",
    "\n",
    "od = OrderedDict(sorted(temps, key=lambda x: -x[1]))\n",
    "print(od)"
   ]
  },
  {
   "cell_type": "code",
   "execution_count": 2,
   "metadata": {},
   "outputs": [
    {
     "data": {
      "text/plain": [
       "-12.1"
      ]
     },
     "execution_count": 2,
     "metadata": {},
     "output_type": "execute_result"
    }
   ],
   "source": [
    "od['2010']"
   ]
  },
  {
   "cell_type": "code",
   "execution_count": 12,
   "metadata": {},
   "outputs": [],
   "source": [
    "queue.appendleft('d')"
   ]
  },
  {
   "cell_type": "code",
   "execution_count": 13,
   "metadata": {},
   "outputs": [
    {
     "data": {
      "text/plain": [
       "deque(['d', 'c', 'a'])"
      ]
     },
     "execution_count": 13,
     "metadata": {},
     "output_type": "execute_result"
    }
   ],
   "source": [
    "queue"
   ]
  }
 ],
 "metadata": {
  "kernelspec": {
   "display_name": "Python 3.10.6 64-bit",
   "language": "python",
   "name": "python3"
  },
  "language_info": {
   "codemirror_mode": {
    "name": "ipython",
    "version": 3
   },
   "file_extension": ".py",
   "mimetype": "text/x-python",
   "name": "python",
   "nbconvert_exporter": "python",
   "pygments_lexer": "ipython3",
   "version": "3.10.6"
  },
  "orig_nbformat": 4,
  "vscode": {
   "interpreter": {
    "hash": "e7370f93d1d0cde622a1f8e1c04877d8463912d04d973331ad4851f04de6915a"
   }
  }
 },
 "nbformat": 4,
 "nbformat_minor": 2
}
