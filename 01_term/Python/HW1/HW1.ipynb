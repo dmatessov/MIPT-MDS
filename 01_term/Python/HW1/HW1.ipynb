{
 "cells": [
  {
   "cell_type": "code",
   "execution_count": 55,
   "metadata": {
    "executionInfo": {
     "elapsed": 4175,
     "status": "ok",
     "timestamp": 1663923366492,
     "user": {
      "displayName": "Danil Matessov",
      "userId": "00353266791666036517"
     },
     "user_tz": -360
    },
    "id": "MXXTuy_o0sjk"
   },
   "outputs": [],
   "source": [
    "!pip install -q -U kaggle_environments"
   ]
  },
  {
   "cell_type": "code",
   "execution_count": 56,
   "metadata": {
    "executionInfo": {
     "elapsed": 284,
     "status": "ok",
     "timestamp": 1663923372593,
     "user": {
      "displayName": "Danil Matessov",
      "userId": "00353266791666036517"
     },
     "user_tz": -360
    },
    "id": "yz23vWHD0wcj"
   },
   "outputs": [],
   "source": [
    "#import numpy as np\n",
    "#import pandas as pd\n",
    "#import random\n",
    "\n",
    "#import matplotlib.pyplot as plt\n",
    "#import seaborn as sns\n",
    "\n",
    "from kaggle_environments import make, evaluate"
   ]
  },
  {
   "cell_type": "markdown",
   "metadata": {
    "id": "0kuo6IOxiRub"
   },
   "source": [
    "**Собственные агенты**"
   ]
  },
  {
   "cell_type": "markdown",
   "metadata": {
    "id": "q8v586cgfV1m"
   },
   "source": [
    "1. Всегда \"бумага\""
   ]
  },
  {
   "cell_type": "code",
   "execution_count": 57,
   "metadata": {
    "colab": {
     "base_uri": "https://localhost:8080/"
    },
    "executionInfo": {
     "elapsed": 324,
     "status": "ok",
     "timestamp": 1663923832128,
     "user": {
      "displayName": "Danil Matessov",
      "userId": "00353266791666036517"
     },
     "user_tz": -360
    },
    "id": "bqTqV7B92rJ6",
    "outputId": "01ef703d-a3c9-4f32-d635-613563141205",
    "scrolled": true
   },
   "outputs": [
    {
     "name": "stdout",
     "output_type": "stream",
     "text": [
      "Overwriting paper_agent.py\n"
     ]
    }
   ],
   "source": [
    "%%writefile paper_agent.py\n",
    "def paper_agent(observation, configuration):\n",
    "    return 1    "
   ]
  },
  {
   "cell_type": "markdown",
   "metadata": {
    "id": "lbgrgRBwl6Sw"
   },
   "source": [
    "2. Всегда \"ножницы\""
   ]
  },
  {
   "cell_type": "code",
   "execution_count": 58,
   "metadata": {
    "colab": {
     "base_uri": "https://localhost:8080/"
    },
    "executionInfo": {
     "elapsed": 289,
     "status": "ok",
     "timestamp": 1663923960447,
     "user": {
      "displayName": "Danil Matessov",
      "userId": "00353266791666036517"
     },
     "user_tz": -360
    },
    "id": "yPv_38LhmBAQ",
    "outputId": "3031c49d-2f5a-4aaa-80f8-141557e709dd"
   },
   "outputs": [
    {
     "name": "stdout",
     "output_type": "stream",
     "text": [
      "Overwriting scissors_agent.py\n"
     ]
    }
   ],
   "source": [
    "%%writefile scissors_agent.py\n",
    "def scissors_agent(observation, configuration):\n",
    "    return 2    "
   ]
  },
  {
   "cell_type": "markdown",
   "metadata": {
    "id": "qEOx2YiUmUY-"
   },
   "source": [
    "3. Случайный выбор"
   ]
  },
  {
   "cell_type": "code",
   "execution_count": 59,
   "metadata": {
    "colab": {
     "base_uri": "https://localhost:8080/"
    },
    "executionInfo": {
     "elapsed": 337,
     "status": "ok",
     "timestamp": 1663924161843,
     "user": {
      "displayName": "Danil Matessov",
      "userId": "00353266791666036517"
     },
     "user_tz": -360
    },
    "id": "sk5UsR0om0eL",
    "outputId": "82129299-80ed-43fd-a86b-86168cc2fc67",
    "scrolled": true
   },
   "outputs": [
    {
     "name": "stdout",
     "output_type": "stream",
     "text": [
      "Overwriting random_agent.py\n"
     ]
    }
   ],
   "source": [
    "%%writefile random_agent.py\n",
    "import random\n",
    "\n",
    "\n",
    "def random_agent(observation, configuration):\n",
    "    return random.randrange(0, configuration.signs)"
   ]
  },
  {
   "cell_type": "markdown",
   "metadata": {
    "id": "t62Yz8wWnRjo"
   },
   "source": [
    "4. перебор всех вариантов по порядку циклом"
   ]
  },
  {
   "cell_type": "code",
   "execution_count": 60,
   "metadata": {
    "colab": {
     "base_uri": "https://localhost:8080/"
    },
    "executionInfo": {
     "elapsed": 410,
     "status": "ok",
     "timestamp": 1663924876951,
     "user": {
      "displayName": "Danil Matessov",
      "userId": "00353266791666036517"
     },
     "user_tz": -360
    },
    "id": "O_geoOX_nezx",
    "outputId": "9f4540dd-10de-4d68-a513-fe5fb49c26b6"
   },
   "outputs": [
    {
     "name": "stdout",
     "output_type": "stream",
     "text": [
      "Overwriting next_agent.py\n"
     ]
    }
   ],
   "source": [
    "%%writefile next_agent.py\n",
    "import random\n",
    "\n",
    "\n",
    "my_last_action = None\n",
    "\n",
    "def next_agent(observation, configuration):\n",
    "    global my_last_action\n",
    "    if observation.step == 0:\n",
    "        action = random.randrange(0, configuration.signs)\n",
    "    else:\n",
    "        action = (my_last_action + 1) % configuration.signs\n",
    "    my_last_action = action\n",
    "    return action"
   ]
  },
  {
   "cell_type": "markdown",
   "metadata": {
    "id": "MXqJxY_Pp49x"
   },
   "source": [
    "5. Смотрим, что чаще всего выбирает оппонент и подстраиваемся"
   ]
  },
  {
   "cell_type": "code",
   "execution_count": 61,
   "metadata": {
    "colab": {
     "base_uri": "https://localhost:8080/"
    },
    "executionInfo": {
     "elapsed": 291,
     "status": "ok",
     "timestamp": 1663927896037,
     "user": {
      "displayName": "Danil Matessov",
      "userId": "00353266791666036517"
     },
     "user_tz": -360
    },
    "id": "nx-EQ008rE20",
    "outputId": "b46a8cff-d980-4142-c2f1-2d8e1007ddcc",
    "scrolled": true
   },
   "outputs": [
    {
     "name": "stdout",
     "output_type": "stream",
     "text": [
      "Overwriting simple_adaptation_agent.py\n"
     ]
    }
   ],
   "source": [
    "%%writefile simple_adaptation_agent.py\n",
    "import random\n",
    "\n",
    "\n",
    "opponent_choices = {}\n",
    "\n",
    "\n",
    "def simple_adaptation_agent(observation, configuration):\n",
    "    global opponent_choices\n",
    "    if observation.step == 0:\n",
    "    # если это первая игра обнуляем статистику и делаем случайный выбор\n",
    "        opponent_choices = {}\n",
    "        action = random.randrange(0, configuration.signs)\n",
    "    else:\n",
    "        last_opponent_action = observation.lastOpponentAction\n",
    "        # если это действие еще не встречалось, добавляем его в статистику\n",
    "        if last_opponent_action not in opponent_choices:\n",
    "            opponent_choices[last_opponent_action] = 0\n",
    "        # обновляем статистику\n",
    "        opponent_choices[last_opponent_action] += 1\n",
    "        # выбираем из статистики наиболее частое действие противника и выбираем\n",
    "        # действие с номером +1 от противника т.е. на 0(камень) реагируем\n",
    "        # 1(бумага)\n",
    "\n",
    "        act = None\n",
    "        act_count = None\n",
    "        for k, v in opponent_choices.items():\n",
    "            if act is None or v > act_count:\n",
    "                act = k\n",
    "                act_count = v\n",
    "                continue\n",
    "        action = (act + 1) % configuration.signs\n",
    "    return action"
   ]
  },
  {
   "cell_type": "markdown",
   "metadata": {
    "id": "_UrvLtuI1gRp"
   },
   "source": [
    "6. Запоминаем последовательность действий противника (0, 2, 1...) и угадываем следующий его шаг, т.е. что он обычно выбирает после последнего действия "
   ]
  },
  {
   "cell_type": "code",
   "execution_count": 62,
   "metadata": {
    "id": "8XdBR7Gn7F0M"
   },
   "outputs": [
    {
     "name": "stdout",
     "output_type": "stream",
     "text": [
      "Overwriting sequence_agent.py\n"
     ]
    }
   ],
   "source": [
    "%%writefile sequence_agent.py\n",
    "import random\n",
    "\n",
    "\n",
    "sequence = [] # Последовательность действий противника\n",
    "statistics = {}\n",
    "# Структура для удобного извлечения наиболее вероятного след. действия\n",
    "#например: {0: {0: 3, 1: 5, 2: 4}} что после 0 (камня) противник 3 раза ходил 0, 5 раз ходил 1\n",
    "#и 4 раза ходил 2. При старте партии заполняется нулями\n",
    "# {0: {0: 0, 1: 0, 2: 0}, 1: {0: 0, 1: 0, 2: 0}, 2: {0: 0, 1: 0, 2: 0}} \"\"\"\n",
    "\n",
    "\n",
    "def sequence_agent(observation, configuration):\n",
    "    def reset_stat():\n",
    "        # процедура обнуляет статистику\n",
    "        global sequence\n",
    "        global statistics\n",
    "        sequence = []\n",
    "        statistics = {}\n",
    "        for i in range(0, configuration.signs):\n",
    "            k = {}\n",
    "            for j in range(0, configuration.signs):\n",
    "                k[j] = 0\n",
    "            statistics[i] = k\n",
    "\n",
    "    def get_most_probable_next_action(last_action):\n",
    "        # функция получает последнее действие оппонента,\n",
    "        # и возвращает наиболее вероятное следующее\n",
    "        # если статистика пустая, выбираем действие случайно\n",
    "        \n",
    "        d = statistics[last_action]\n",
    "        act = None\n",
    "        act_count = 0\n",
    "        for k, v in d.items():\n",
    "            if v > act_count:\n",
    "                act = k\n",
    "                act_count = v\n",
    "                continue\n",
    "        if act is None: act = random.randrange(0, configuration.signs)\n",
    "        return act\n",
    "\n",
    "    global sequence\n",
    "    global statistics\n",
    "    if observation.step == 0:\n",
    "        reset_stat()\n",
    "    # добавляем последнее действие в историю\n",
    "    if observation.step > 0: sequence.append(observation.lastOpponentAction)\n",
    "    \n",
    "    if len(sequence) >= 2:\n",
    "        # обновляем статистику и получаем наиболее подходящее действие\n",
    "        statistics[sequence[-2]][sequence[-1]] += 1\n",
    "        action = (get_most_probable_next_action(observation.lastOpponentAction) + 1) % configuration.signs\n",
    "    else:\n",
    "        action = random.randrange(0, configuration.signs)\n",
    "    return action\n"
   ]
  },
  {
   "cell_type": "markdown",
   "metadata": {
    "id": "ExgIpXUVjbjN"
   },
   "source": [
    "После описания поведения агентов запустить турнир между ними и проверить, какая стратегия показывает себя лучше всех. Соревнование будем проводить по круговой системе (https://ru.wikipedia.org/wiki/%D0%9A%D1%80%D1%83%D0%B3%D0%BE%D0%B2%D0%B0%D1%8F_%D1%81%D0%B8%D1%81%D1%82%D0%B5%D0%BC%D0%B0)"
   ]
  },
  {
   "cell_type": "code",
   "execution_count": 63,
   "metadata": {},
   "outputs": [],
   "source": [
    "agents = ['paper_agent.py',\n",
    "          'scissors_agent.py',\n",
    "          'random_agent.py',\n",
    "          'next_agent.py',\n",
    "          'simple_adaptation_agent.py',\n",
    "          'sequence_agent.py'\n",
    "         ]\n",
    "\n",
    "agent_score = {'paper_agent.py': 0,\n",
    "              'scissors_agent.py': 0,\n",
    "              'random_agent.py': 0,\n",
    "              'next_agent.py': 0,\n",
    "              'simple_adaptation_agent.py': 0,\n",
    "              'sequence_agent.py': 0\n",
    "              }"
   ]
  },
  {
   "cell_type": "code",
   "execution_count": 66,
   "metadata": {},
   "outputs": [
    {
     "name": "stdout",
     "output_type": "stream",
     "text": [
      "sequence_agent.py 1025.0\n",
      "simple_adaptation_agent.py 415.0\n",
      "random_agent.py 18.0\n",
      "scissors_agent.py -269.0\n",
      "next_agent.py -296.0\n",
      "paper_agent.py -893.0\n"
     ]
    }
   ],
   "source": [
    "for i in range(len(agents)):\n",
    "    for j in range(i + 1, len(agents)):\n",
    "        player_1, player_2 = agents[i], agents[j]\n",
    "        res = evaluate(\n",
    "            \"rps\", #environment to use - no need to change\n",
    "            [player_1, player_2], #agents to evaluate\n",
    "            configuration={\"episodeSteps\": 100, \"tieRewardThreshold\":1 } #number of episodes\n",
    "        )\n",
    "        agent_score[player_1] += res[0][0]\n",
    "        agent_score[player_2] += res[0][1]\n",
    "\n",
    "raiting = {k: v for k, v in sorted(agent_score.items(), key=lambda item: item[1], reverse=True)}\n",
    "for k, v in raiting.items():\n",
    "    print(k, v)\n",
    "        "
   ]
  },
  {
   "cell_type": "markdown",
   "metadata": {},
   "source": [
    "как и следовало ижидать, победил самый умный"
   ]
  },
  {
   "cell_type": "code",
   "execution_count": 54,
   "metadata": {
    "colab": {
     "base_uri": "https://localhost:8080/"
    },
    "executionInfo": {
     "elapsed": 304,
     "status": "ok",
     "timestamp": 1663921716031,
     "user": {
      "displayName": "Danil Matessov",
      "userId": "00353266791666036517"
     },
     "user_tz": -360
    },
    "id": "wv6Ip6M004xa",
    "outputId": "7280fc96-6fce-4121-c213-b576d690f8c2"
   },
   "outputs": [],
   "source": [
    "#evaluate(\n",
    "#    \"rps\", #environment to use - no need to change\n",
    "#    [player_1, player_2], #agents to evaluate\n",
    "#    configuration={\"episodeSteps\": 100} #number of episodes \n",
    "#)"
   ]
  },
  {
   "cell_type": "code",
   "execution_count": 41,
   "metadata": {
    "executionInfo": {
     "elapsed": 298,
     "status": "ok",
     "timestamp": 1663927713111,
     "user": {
      "displayName": "Danil Matessov",
      "userId": "00353266791666036517"
     },
     "user_tz": -360
    },
    "id": "yymWDM5Lb1UL"
   },
   "outputs": [],
   "source": [
    "#env = make(\n",
    "#    \"rps\",\n",
    "#    configuration={\n",
    "#        \"episodeSteps\": 50,\n",
    "#        \"tieRewardThreshold\":1 \n",
    "#    }\n",
    "#)"
   ]
  },
  {
   "cell_type": "code",
   "execution_count": 53,
   "metadata": {
    "colab": {
     "base_uri": "https://localhost:8080/",
     "height": 438
    },
    "executionInfo": {
     "elapsed": 14,
     "status": "ok",
     "timestamp": 1663927715523,
     "user": {
      "displayName": "Danil Matessov",
      "userId": "00353266791666036517"
     },
     "user_tz": -360
    },
    "id": "Vdg3cebPb7Sl",
    "outputId": "fd92f6e6-cc63-4aa7-b416-05c2af4ab939"
   },
   "outputs": [],
   "source": [
    "#env.run(\n",
    "#    ['paper_agent.py', 'random_agent.py']\n",
    "#)\n",
    "#env.render(mode=\"ipython\", width=500, height=400)\n",
    "#env.run\n",
    "#env.render"
   ]
  },
  {
   "cell_type": "code",
   "execution_count": null,
   "metadata": {},
   "outputs": [],
   "source": []
  },
  {
   "cell_type": "code",
   "execution_count": null,
   "metadata": {},
   "outputs": [],
   "source": []
  }
 ],
 "metadata": {
  "colab": {
   "collapsed_sections": [],
   "provenance": [
    {
     "file_id": "1XP0dsb-T3ORPYv4YQFV5j23PknFH06O6",
     "timestamp": 1663921772123
    }
   ]
  },
  "kernelspec": {
   "display_name": "Python 3 (ipykernel)",
   "language": "python",
   "name": "python3"
  },
  "language_info": {
   "codemirror_mode": {
    "name": "ipython",
    "version": 3
   },
   "file_extension": ".py",
   "mimetype": "text/x-python",
   "name": "python",
   "nbconvert_exporter": "python",
   "pygments_lexer": "ipython3",
   "version": "3.10.6"
  }
 },
 "nbformat": 4,
 "nbformat_minor": 1
}
