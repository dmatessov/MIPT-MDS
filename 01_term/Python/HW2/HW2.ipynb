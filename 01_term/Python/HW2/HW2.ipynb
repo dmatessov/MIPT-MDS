{
 "cells": [
  {
   "cell_type": "code",
   "execution_count": 2,
   "metadata": {},
   "outputs": [],
   "source": [
    "import pandas as pd"
   ]
  },
  {
   "cell_type": "markdown",
   "metadata": {},
   "source": [
    "Из train.csv читаем только первые 1e6 строк, т.к. весь файл не помещается в RAM. Т.к. по заданию необходимо тольлько \"проанализировать как можно больше характеристик, влияющих на успеваемость студентов\" а не тренировать модель, то этого количества думаю будет достаточно."
   ]
  },
  {
   "cell_type": "code",
   "execution_count": 91,
   "metadata": {},
   "outputs": [],
   "source": [
    "path_to_data = '/home/danil/Downloads/data/' # put your data location here\n",
    "n_rows = 1_000_000\n",
    "\n",
    "train_df = pd.read_csv(path_to_data + 'train.csv', sep=',', nrows=n_rows)\n",
    "question_df = pd.read_csv(path_to_data + 'questions.csv', sep=',')\n",
    "lectures_df = pd.read_csv(path_to_data + 'lectures.csv', sep=',')"
   ]
  },
  {
   "cell_type": "code",
   "execution_count": 93,
   "metadata": {},
   "outputs": [
    {
     "data": {
      "text/plain": [
       "True"
      ]
     },
     "execution_count": 93,
     "metadata": {},
     "output_type": "execute_result"
    }
   ],
   "source": [
    "len(train_df['row_id'].unique()) == n_rows #убедимся что нет дубликатов"
   ]
  },
  {
   "cell_type": "markdown",
   "metadata": {},
   "source": [
    "Целевой переменной показывающей успеваемость студентов будем считать train_df.answered_correctly. Т.е. если студент правильно отвечает на вопросы, то он успевает"
   ]
  },
  {
   "cell_type": "code",
   "execution_count": 94,
   "metadata": {},
   "outputs": [],
   "source": [
    "train_df_copy = train_df.copy() # делаем копию чтобы не повредить оригинальные данные"
   ]
  },
  {
   "cell_type": "code",
   "execution_count": 95,
   "metadata": {},
   "outputs": [
    {
     "name": "stdout",
     "output_type": "stream",
     "text": [
      "<class 'pandas.core.frame.DataFrame'>\n",
      "RangeIndex: 1000000 entries, 0 to 999999\n",
      "Data columns (total 10 columns):\n",
      " #   Column                          Non-Null Count    Dtype  \n",
      "---  ------                          --------------    -----  \n",
      " 0   row_id                          1000000 non-null  int64  \n",
      " 1   timestamp                       1000000 non-null  int64  \n",
      " 2   user_id                         1000000 non-null  int64  \n",
      " 3   content_id                      1000000 non-null  int64  \n",
      " 4   content_type_id                 1000000 non-null  int64  \n",
      " 5   task_container_id               1000000 non-null  int64  \n",
      " 6   user_answer                     1000000 non-null  int64  \n",
      " 7   answered_correctly              1000000 non-null  int64  \n",
      " 8   prior_question_elapsed_time     976277 non-null   float64\n",
      " 9   prior_question_had_explanation  996184 non-null   object \n",
      "dtypes: float64(1), int64(8), object(1)\n",
      "memory usage: 76.3+ MB\n"
     ]
    }
   ],
   "source": [
    "train_df_copy.info()"
   ]
  },
  {
   "cell_type": "markdown",
   "metadata": {},
   "source": [
    "Для начала откорректируем типы данных к оригинальным, согласно описанию:"
   ]
  },
  {
   "cell_type": "code",
   "execution_count": 96,
   "metadata": {},
   "outputs": [],
   "source": [
    "conv = {'user_id': 'int32',\n",
    "        'content_id': 'int16',\n",
    "        'content_type_id': 'int8',\n",
    "        'task_container_id': 'int16',\n",
    "        'user_answer': 'int8',\n",
    "        'answered_correctly': 'int8',\n",
    "        'prior_question_elapsed_time': 'float32',\n",
    "        'prior_question_had_explanation': 'bool'\n",
    "        }\n",
    "train_df_copy = train_df_copy.astype(conv)"
   ]
  },
  {
   "cell_type": "markdown",
   "metadata": {},
   "source": [
    "Далее, удалим столбец, который дублирует индекс. Это row_id"
   ]
  },
  {
   "cell_type": "code",
   "execution_count": 97,
   "metadata": {},
   "outputs": [],
   "source": [
    "train_df_copy.drop('row_id', axis=1, inplace=True)"
   ]
  },
  {
   "cell_type": "code",
   "execution_count": 98,
   "metadata": {},
   "outputs": [
    {
     "name": "stdout",
     "output_type": "stream",
     "text": [
      "<class 'pandas.core.frame.DataFrame'>\n",
      "RangeIndex: 1000000 entries, 0 to 999999\n",
      "Data columns (total 9 columns):\n",
      " #   Column                          Non-Null Count    Dtype  \n",
      "---  ------                          --------------    -----  \n",
      " 0   timestamp                       1000000 non-null  int64  \n",
      " 1   user_id                         1000000 non-null  int32  \n",
      " 2   content_id                      1000000 non-null  int16  \n",
      " 3   content_type_id                 1000000 non-null  int8   \n",
      " 4   task_container_id               1000000 non-null  int16  \n",
      " 5   user_answer                     1000000 non-null  int8   \n",
      " 6   answered_correctly              1000000 non-null  int8   \n",
      " 7   prior_question_elapsed_time     976277 non-null   float32\n",
      " 8   prior_question_had_explanation  1000000 non-null  bool   \n",
      "dtypes: bool(1), float32(1), int16(2), int32(1), int64(1), int8(3)\n",
      "memory usage: 22.9 MB\n"
     ]
    }
   ],
   "source": [
    "train_df_copy.info()"
   ]
  },
  {
   "cell_type": "markdown",
   "metadata": {},
   "source": [
    "В результате такого преобразования получили экономию памяти более чем в 3 раза: 76.3 => 22.9 MB.\n",
    "! Отметим, что при конвертации столбца prior_question_had_explanation пустые значения заполнились True. (не уверен, что это корректно, но это стандартное поведение функции astype)"
   ]
  },
  {
   "cell_type": "markdown",
   "metadata": {},
   "source": [
    "Выделим, по описанию, те характиристики, которые прямо могут влиять на успеваемость:\n",
    "1. timestamp - да (время взаимодействия пользователя с контентом) ;\n",
    "2. user_id - нет, но это поле может быть использовано для агрегации данных;\n",
    "3. content_id - нет, это просто ссылка на вопрос или лекцию, но может быть использовано для конструирования признака сложности вопроса. Т.е. если на вопрос часто отвечают правильно, то можно считать его более легким, и наоборот;\n",
    "4. content_type_id (0-вопрос, 1-лекция) - да, просмотр лекций, очевидно должен влиять на резултаты ответов\n",
    "5. task_container_id - нет, но может быть использован для создания других полезных признаков. Например, количества вопросов в одном контейнере. Возможно, если контейнер слишком большой, пользователь просто устает, и начинает чаще ошибаться. Похожее поле bundle_id есть в таблице question, но в чем отличие пока не ясно \n",
    "6. user_answer - нет, разве что для оценки количества вариантов ответа на отдельный вопрос\n",
    "7. prior_question_elapsed_time - пока не ясно как можно использовать\n",
    "8. prior_question_had_explanation - да, это может указывать, что пользователь сомневался в ответе на предыдущий вопрос"
   ]
  },
  {
   "cell_type": "markdown",
   "metadata": {},
   "source": [
    "# Анализ таблиц по отдельности"
   ]
  },
  {
   "cell_type": "markdown",
   "metadata": {},
   "source": [
    "Логично разделить данные по лекциям и по вопросам. Эта операция не приведет к потере каких либо данных т.к. строки таблицы train никак не связаны между собой, и невозможно сказать в какой последовательности пользователь изучал лекции и/или отвечал на вопросы."
   ]
  },
  {
   "cell_type": "code",
   "execution_count": 127,
   "metadata": {},
   "outputs": [
    {
     "data": {
      "text/html": [
       "<div>\n",
       "<style scoped>\n",
       "    .dataframe tbody tr th:only-of-type {\n",
       "        vertical-align: middle;\n",
       "    }\n",
       "\n",
       "    .dataframe tbody tr th {\n",
       "        vertical-align: top;\n",
       "    }\n",
       "\n",
       "    .dataframe thead th {\n",
       "        text-align: right;\n",
       "    }\n",
       "</style>\n",
       "<table border=\"1\" class=\"dataframe\">\n",
       "  <thead>\n",
       "    <tr style=\"text-align: right;\">\n",
       "      <th></th>\n",
       "      <th>timestamp</th>\n",
       "      <th>user_id</th>\n",
       "      <th>content_id</th>\n",
       "      <th>content_type_id</th>\n",
       "      <th>task_container_id</th>\n",
       "      <th>user_answer</th>\n",
       "      <th>answered_correctly</th>\n",
       "      <th>prior_question_elapsed_time</th>\n",
       "    </tr>\n",
       "  </thead>\n",
       "  <tbody>\n",
       "    <tr>\n",
       "      <th>count</th>\n",
       "      <td>1.990700e+04</td>\n",
       "      <td>1.990700e+04</td>\n",
       "      <td>19907.000000</td>\n",
       "      <td>19907.0</td>\n",
       "      <td>19907.000000</td>\n",
       "      <td>19907.0</td>\n",
       "      <td>19907.0</td>\n",
       "      <td>0.0</td>\n",
       "    </tr>\n",
       "    <tr>\n",
       "      <th>mean</th>\n",
       "      <td>7.897040e+09</td>\n",
       "      <td>1.034608e+07</td>\n",
       "      <td>16677.181243</td>\n",
       "      <td>1.0</td>\n",
       "      <td>712.355704</td>\n",
       "      <td>-1.0</td>\n",
       "      <td>-1.0</td>\n",
       "      <td>NaN</td>\n",
       "    </tr>\n",
       "    <tr>\n",
       "      <th>std</th>\n",
       "      <td>1.127003e+10</td>\n",
       "      <td>5.987159e+06</td>\n",
       "      <td>9565.767222</td>\n",
       "      <td>0.0</td>\n",
       "      <td>792.733475</td>\n",
       "      <td>0.0</td>\n",
       "      <td>0.0</td>\n",
       "      <td>NaN</td>\n",
       "    </tr>\n",
       "    <tr>\n",
       "      <th>min</th>\n",
       "      <td>2.416820e+05</td>\n",
       "      <td>2.746000e+03</td>\n",
       "      <td>89.000000</td>\n",
       "      <td>1.0</td>\n",
       "      <td>2.000000</td>\n",
       "      <td>-1.0</td>\n",
       "      <td>-1.0</td>\n",
       "      <td>NaN</td>\n",
       "    </tr>\n",
       "    <tr>\n",
       "      <th>25%</th>\n",
       "      <td>9.761835e+08</td>\n",
       "      <td>4.980312e+06</td>\n",
       "      <td>8411.000000</td>\n",
       "      <td>1.0</td>\n",
       "      <td>171.000000</td>\n",
       "      <td>-1.0</td>\n",
       "      <td>-1.0</td>\n",
       "      <td>NaN</td>\n",
       "    </tr>\n",
       "    <tr>\n",
       "      <th>50%</th>\n",
       "      <td>3.618622e+09</td>\n",
       "      <td>9.793549e+06</td>\n",
       "      <td>16363.000000</td>\n",
       "      <td>1.0</td>\n",
       "      <td>412.000000</td>\n",
       "      <td>-1.0</td>\n",
       "      <td>-1.0</td>\n",
       "      <td>NaN</td>\n",
       "    </tr>\n",
       "    <tr>\n",
       "      <th>75%</th>\n",
       "      <td>9.914121e+09</td>\n",
       "      <td>1.556872e+07</td>\n",
       "      <td>24985.000000</td>\n",
       "      <td>1.0</td>\n",
       "      <td>960.000000</td>\n",
       "      <td>-1.0</td>\n",
       "      <td>-1.0</td>\n",
       "      <td>NaN</td>\n",
       "    </tr>\n",
       "    <tr>\n",
       "      <th>max</th>\n",
       "      <td>7.680911e+10</td>\n",
       "      <td>2.093825e+07</td>\n",
       "      <td>32736.000000</td>\n",
       "      <td>1.0</td>\n",
       "      <td>5033.000000</td>\n",
       "      <td>-1.0</td>\n",
       "      <td>-1.0</td>\n",
       "      <td>NaN</td>\n",
       "    </tr>\n",
       "  </tbody>\n",
       "</table>\n",
       "</div>"
      ],
      "text/plain": [
       "          timestamp       user_id    content_id  content_type_id  \\\n",
       "count  1.990700e+04  1.990700e+04  19907.000000          19907.0   \n",
       "mean   7.897040e+09  1.034608e+07  16677.181243              1.0   \n",
       "std    1.127003e+10  5.987159e+06   9565.767222              0.0   \n",
       "min    2.416820e+05  2.746000e+03     89.000000              1.0   \n",
       "25%    9.761835e+08  4.980312e+06   8411.000000              1.0   \n",
       "50%    3.618622e+09  9.793549e+06  16363.000000              1.0   \n",
       "75%    9.914121e+09  1.556872e+07  24985.000000              1.0   \n",
       "max    7.680911e+10  2.093825e+07  32736.000000              1.0   \n",
       "\n",
       "       task_container_id  user_answer  answered_correctly  \\\n",
       "count       19907.000000      19907.0             19907.0   \n",
       "mean          712.355704         -1.0                -1.0   \n",
       "std           792.733475          0.0                 0.0   \n",
       "min             2.000000         -1.0                -1.0   \n",
       "25%           171.000000         -1.0                -1.0   \n",
       "50%           412.000000         -1.0                -1.0   \n",
       "75%           960.000000         -1.0                -1.0   \n",
       "max          5033.000000         -1.0                -1.0   \n",
       "\n",
       "       prior_question_elapsed_time  \n",
       "count                          0.0  \n",
       "mean                           NaN  \n",
       "std                            NaN  \n",
       "min                            NaN  \n",
       "25%                            NaN  \n",
       "50%                            NaN  \n",
       "75%                            NaN  \n",
       "max                            NaN  "
      ]
     },
     "execution_count": 127,
     "metadata": {},
     "output_type": "execute_result"
    }
   ],
   "source": [
    "# Лекции\n",
    "train_df_copy_lec = train_df_copy[train_df_copy['content_type_id'] == 1].copy()\n",
    "train_df_copy_lec.describe()"
   ]
  },
  {
   "cell_type": "markdown",
   "metadata": {},
   "source": [
    "Наблюдения\n",
    "- время в милисекундах неудобно для чтения человеком, возмможно, потом лучше сконвертировать в timedelta\n",
    "- время изучения лекций лежит в пределах от 4-х минут до ~21 часа. В среднем на лекцию пользователь тратит ~2.2 часа"
   ]
  },
  {
   "cell_type": "code",
   "execution_count": 100,
   "metadata": {},
   "outputs": [
    {
     "name": "stdout",
     "output_type": "stream",
     "text": [
      "<class 'pandas.core.frame.DataFrame'>\n",
      "RangeIndex: 418 entries, 0 to 417\n",
      "Data columns (total 4 columns):\n",
      " #   Column      Non-Null Count  Dtype \n",
      "---  ------      --------------  ----- \n",
      " 0   lecture_id  418 non-null    int64 \n",
      " 1   tag         418 non-null    int64 \n",
      " 2   part        418 non-null    int64 \n",
      " 3   type_of     418 non-null    object\n",
      "dtypes: int64(3), object(1)\n",
      "memory usage: 13.2+ KB\n"
     ]
    }
   ],
   "source": [
    "lectures_df.info()"
   ]
  },
  {
   "cell_type": "markdown",
   "metadata": {},
   "source": [
    "Справочник лекций состоит из 418 записей, и имеет 3 категориальных признака, два из которых выражены как int64, и один object. Пропусков данных нет. Посмотрим, какие категории представлены в признаках"
   ]
  },
  {
   "cell_type": "code",
   "execution_count": 101,
   "metadata": {},
   "outputs": [
    {
     "data": {
      "text/plain": [
       "151"
      ]
     },
     "execution_count": 101,
     "metadata": {},
     "output_type": "execute_result"
    }
   ],
   "source": [
    "len(lectures_df['tag'].unique()) # количество тегов"
   ]
  },
  {
   "cell_type": "code",
   "execution_count": 102,
   "metadata": {},
   "outputs": [
    {
     "data": {
      "text/plain": [
       "7"
      ]
     },
     "execution_count": 102,
     "metadata": {},
     "output_type": "execute_result"
    }
   ],
   "source": [
    "len(lectures_df['part'].unique()) # количество частей (top level category code for the lecture)"
   ]
  },
  {
   "cell_type": "code",
   "execution_count": 103,
   "metadata": {},
   "outputs": [
    {
     "data": {
      "text/plain": [
       "concept             0.531100\n",
       "solving question    0.444976\n",
       "intention           0.016746\n",
       "starter             0.007177\n",
       "Name: type_of, dtype: float64"
      ]
     },
     "execution_count": 103,
     "metadata": {},
     "output_type": "execute_result"
    }
   ],
   "source": [
    "lectures_df['type_of'].value_counts(normalize=True)"
   ]
  },
  {
   "cell_type": "markdown",
   "metadata": {},
   "source": [
    "Всего есть четыре типа лекций, на первые два (concept и solving question) приходится более 98% записей справочникаю."
   ]
  },
  {
   "cell_type": "code",
   "execution_count": 136,
   "metadata": {},
   "outputs": [
    {
     "data": {
      "text/html": [
       "<div>\n",
       "<style scoped>\n",
       "    .dataframe tbody tr th:only-of-type {\n",
       "        vertical-align: middle;\n",
       "    }\n",
       "\n",
       "    .dataframe tbody tr th {\n",
       "        vertical-align: top;\n",
       "    }\n",
       "\n",
       "    .dataframe thead th {\n",
       "        text-align: right;\n",
       "    }\n",
       "</style>\n",
       "<table border=\"1\" class=\"dataframe\">\n",
       "  <thead>\n",
       "    <tr style=\"text-align: right;\">\n",
       "      <th></th>\n",
       "      <th>timestamp</th>\n",
       "      <th>user_id</th>\n",
       "      <th>content_id</th>\n",
       "      <th>content_type_id</th>\n",
       "      <th>task_container_id</th>\n",
       "      <th>user_answer</th>\n",
       "      <th>answered_correctly</th>\n",
       "      <th>prior_question_elapsed_time</th>\n",
       "    </tr>\n",
       "  </thead>\n",
       "  <tbody>\n",
       "    <tr>\n",
       "      <th>count</th>\n",
       "      <td>9.800930e+05</td>\n",
       "      <td>9.800930e+05</td>\n",
       "      <td>980093.000000</td>\n",
       "      <td>980093.0</td>\n",
       "      <td>980093.000000</td>\n",
       "      <td>980093.000000</td>\n",
       "      <td>980093.000000</td>\n",
       "      <td>976277.000000</td>\n",
       "    </tr>\n",
       "    <tr>\n",
       "      <th>mean</th>\n",
       "      <td>7.333085e+09</td>\n",
       "      <td>1.016903e+07</td>\n",
       "      <td>5000.238626</td>\n",
       "      <td>0.0</td>\n",
       "      <td>808.009877</td>\n",
       "      <td>1.423019</td>\n",
       "      <td>0.650358</td>\n",
       "      <td>25319.472656</td>\n",
       "    </tr>\n",
       "    <tr>\n",
       "      <th>std</th>\n",
       "      <td>1.057230e+10</td>\n",
       "      <td>6.030037e+06</td>\n",
       "      <td>3287.211531</td>\n",
       "      <td>0.0</td>\n",
       "      <td>1029.988408</td>\n",
       "      <td>1.156775</td>\n",
       "      <td>0.476857</td>\n",
       "      <td>19707.429688</td>\n",
       "    </tr>\n",
       "    <tr>\n",
       "      <th>min</th>\n",
       "      <td>0.000000e+00</td>\n",
       "      <td>1.150000e+02</td>\n",
       "      <td>0.000000</td>\n",
       "      <td>0.0</td>\n",
       "      <td>0.000000</td>\n",
       "      <td>0.000000</td>\n",
       "      <td>0.000000</td>\n",
       "      <td>0.000000</td>\n",
       "    </tr>\n",
       "    <tr>\n",
       "      <th>25%</th>\n",
       "      <td>5.169283e+08</td>\n",
       "      <td>4.700718e+06</td>\n",
       "      <td>1999.000000</td>\n",
       "      <td>0.0</td>\n",
       "      <td>107.000000</td>\n",
       "      <td>0.000000</td>\n",
       "      <td>0.000000</td>\n",
       "      <td>16000.000000</td>\n",
       "    </tr>\n",
       "    <tr>\n",
       "      <th>50%</th>\n",
       "      <td>2.805786e+09</td>\n",
       "      <td>9.678259e+06</td>\n",
       "      <td>4996.000000</td>\n",
       "      <td>0.0</td>\n",
       "      <td>390.000000</td>\n",
       "      <td>1.000000</td>\n",
       "      <td>1.000000</td>\n",
       "      <td>21000.000000</td>\n",
       "    </tr>\n",
       "    <tr>\n",
       "      <th>75%</th>\n",
       "      <td>1.010340e+10</td>\n",
       "      <td>1.556872e+07</td>\n",
       "      <td>7218.000000</td>\n",
       "      <td>0.0</td>\n",
       "      <td>1115.000000</td>\n",
       "      <td>3.000000</td>\n",
       "      <td>1.000000</td>\n",
       "      <td>29666.000000</td>\n",
       "    </tr>\n",
       "    <tr>\n",
       "      <th>max</th>\n",
       "      <td>7.809200e+10</td>\n",
       "      <td>2.094902e+07</td>\n",
       "      <td>13522.000000</td>\n",
       "      <td>0.0</td>\n",
       "      <td>7739.000000</td>\n",
       "      <td>3.000000</td>\n",
       "      <td>1.000000</td>\n",
       "      <td>300000.000000</td>\n",
       "    </tr>\n",
       "  </tbody>\n",
       "</table>\n",
       "</div>"
      ],
      "text/plain": [
       "          timestamp       user_id     content_id  content_type_id  \\\n",
       "count  9.800930e+05  9.800930e+05  980093.000000         980093.0   \n",
       "mean   7.333085e+09  1.016903e+07    5000.238626              0.0   \n",
       "std    1.057230e+10  6.030037e+06    3287.211531              0.0   \n",
       "min    0.000000e+00  1.150000e+02       0.000000              0.0   \n",
       "25%    5.169283e+08  4.700718e+06    1999.000000              0.0   \n",
       "50%    2.805786e+09  9.678259e+06    4996.000000              0.0   \n",
       "75%    1.010340e+10  1.556872e+07    7218.000000              0.0   \n",
       "max    7.809200e+10  2.094902e+07   13522.000000              0.0   \n",
       "\n",
       "       task_container_id    user_answer  answered_correctly  \\\n",
       "count      980093.000000  980093.000000       980093.000000   \n",
       "mean          808.009877       1.423019            0.650358   \n",
       "std          1029.988408       1.156775            0.476857   \n",
       "min             0.000000       0.000000            0.000000   \n",
       "25%           107.000000       0.000000            0.000000   \n",
       "50%           390.000000       1.000000            1.000000   \n",
       "75%          1115.000000       3.000000            1.000000   \n",
       "max          7739.000000       3.000000            1.000000   \n",
       "\n",
       "       prior_question_elapsed_time  \n",
       "count                976277.000000  \n",
       "mean                  25319.472656  \n",
       "std                   19707.429688  \n",
       "min                       0.000000  \n",
       "25%                   16000.000000  \n",
       "50%                   21000.000000  \n",
       "75%                   29666.000000  \n",
       "max                  300000.000000  "
      ]
     },
     "execution_count": 136,
     "metadata": {},
     "output_type": "execute_result"
    }
   ],
   "source": [
    "# Вопросы\n",
    "train_df_copy_ques = train_df_copy[train_df_copy['content_type_id'] == 0].copy()\n",
    "train_df_copy_ques.describe()"
   ]
  },
  {
   "cell_type": "markdown",
   "metadata": {},
   "source": [
    "Наблюдения\n",
    "- есть как минимум один вопрос с временем ответа 0 милисекунд. Скорее всего это ошибка, и нужно рассматривать такие данные как выбросы\n",
    "- среднее время на обдумывание ответа составляет 2 часа, что довольно много, и практически совпадает в временем изучения лекций\n",
    "- максимальное время 21.7 часа, даже больше чем для лекций\n",
    "- 65% ответов правильные"
   ]
  },
  {
   "cell_type": "code",
   "execution_count": 119,
   "metadata": {},
   "outputs": [
    {
     "data": {
      "text/plain": [
       "3847"
      ]
     },
     "execution_count": 119,
     "metadata": {},
     "output_type": "execute_result"
    }
   ],
   "source": [
    "#проверим, сколько строк с нулевыми значениями в timestsmp\n",
    "train_df_copy_ques[train_df_copy_ques['timestamp'] == 0].shape[0]"
   ]
  },
  {
   "cell_type": "code",
   "execution_count": 105,
   "metadata": {},
   "outputs": [
    {
     "name": "stdout",
     "output_type": "stream",
     "text": [
      "<class 'pandas.core.frame.DataFrame'>\n",
      "RangeIndex: 13523 entries, 0 to 13522\n",
      "Data columns (total 5 columns):\n",
      " #   Column          Non-Null Count  Dtype \n",
      "---  ------          --------------  ----- \n",
      " 0   question_id     13523 non-null  int64 \n",
      " 1   bundle_id       13523 non-null  int64 \n",
      " 2   correct_answer  13523 non-null  int64 \n",
      " 3   part            13523 non-null  int64 \n",
      " 4   tags            13522 non-null  object\n",
      "dtypes: int64(4), object(1)\n",
      "memory usage: 528.4+ KB\n"
     ]
    }
   ],
   "source": [
    "question_df.info()"
   ]
  },
  {
   "cell_type": "markdown",
   "metadata": {},
   "source": [
    "В справочнике вопросов 13523 записей, и 4 категориальных признака, 3 из которых выражены числами, один строкой"
   ]
  },
  {
   "cell_type": "code",
   "execution_count": 108,
   "metadata": {},
   "outputs": [
    {
     "data": {
      "text/html": [
       "<div>\n",
       "<style scoped>\n",
       "    .dataframe tbody tr th:only-of-type {\n",
       "        vertical-align: middle;\n",
       "    }\n",
       "\n",
       "    .dataframe tbody tr th {\n",
       "        vertical-align: top;\n",
       "    }\n",
       "\n",
       "    .dataframe thead th {\n",
       "        text-align: right;\n",
       "    }\n",
       "</style>\n",
       "<table border=\"1\" class=\"dataframe\">\n",
       "  <thead>\n",
       "    <tr style=\"text-align: right;\">\n",
       "      <th></th>\n",
       "      <th>question_id</th>\n",
       "      <th>bundle_id</th>\n",
       "      <th>correct_answer</th>\n",
       "      <th>part</th>\n",
       "      <th>tags</th>\n",
       "    </tr>\n",
       "  </thead>\n",
       "  <tbody>\n",
       "    <tr>\n",
       "      <th>0</th>\n",
       "      <td>0</td>\n",
       "      <td>0</td>\n",
       "      <td>0</td>\n",
       "      <td>1</td>\n",
       "      <td>51 131 162 38</td>\n",
       "    </tr>\n",
       "    <tr>\n",
       "      <th>1</th>\n",
       "      <td>1</td>\n",
       "      <td>1</td>\n",
       "      <td>1</td>\n",
       "      <td>1</td>\n",
       "      <td>131 36 81</td>\n",
       "    </tr>\n",
       "    <tr>\n",
       "      <th>2</th>\n",
       "      <td>2</td>\n",
       "      <td>2</td>\n",
       "      <td>0</td>\n",
       "      <td>1</td>\n",
       "      <td>131 101 162 92</td>\n",
       "    </tr>\n",
       "    <tr>\n",
       "      <th>3</th>\n",
       "      <td>3</td>\n",
       "      <td>3</td>\n",
       "      <td>0</td>\n",
       "      <td>1</td>\n",
       "      <td>131 149 162 29</td>\n",
       "    </tr>\n",
       "    <tr>\n",
       "      <th>4</th>\n",
       "      <td>4</td>\n",
       "      <td>4</td>\n",
       "      <td>3</td>\n",
       "      <td>1</td>\n",
       "      <td>131 5 162 38</td>\n",
       "    </tr>\n",
       "  </tbody>\n",
       "</table>\n",
       "</div>"
      ],
      "text/plain": [
       "   question_id  bundle_id  correct_answer  part            tags\n",
       "0            0          0               0     1   51 131 162 38\n",
       "1            1          1               1     1       131 36 81\n",
       "2            2          2               0     1  131 101 162 92\n",
       "3            3          3               0     1  131 149 162 29\n",
       "4            4          4               3     1    131 5 162 38"
      ]
     },
     "execution_count": 108,
     "metadata": {},
     "output_type": "execute_result"
    }
   ],
   "source": [
    "question_df.head()"
   ]
  },
  {
   "cell_type": "markdown",
   "metadata": {},
   "source": [
    "Заметим, что поле tags (в отличие от справочника лекций) является строкой с числами, разделенными пробелами"
   ]
  },
  {
   "cell_type": "code",
   "execution_count": 109,
   "metadata": {},
   "outputs": [
    {
     "data": {
      "text/plain": [
       "array([1, 2, 3, 4, 5, 6, 7])"
      ]
     },
     "execution_count": 109,
     "metadata": {},
     "output_type": "execute_result"
    }
   ],
   "source": [
    "question_df['part'].unique() #количество частей (the relevant section of the TOEIC test)"
   ]
  },
  {
   "cell_type": "code",
   "execution_count": 113,
   "metadata": {},
   "outputs": [
    {
     "data": {
      "text/plain": [
       "9765"
      ]
     },
     "execution_count": 113,
     "metadata": {},
     "output_type": "execute_result"
    }
   ],
   "source": [
    "len(question_df['bundle_id'].unique())"
   ]
  },
  {
   "cell_type": "code",
   "execution_count": 115,
   "metadata": {},
   "outputs": [
    {
     "data": {
      "text/plain": [
       "8034     5\n",
       "7790     5\n",
       "7260     5\n",
       "7195     5\n",
       "7190     5\n",
       "        ..\n",
       "5058     1\n",
       "5057     1\n",
       "5056     1\n",
       "5055     1\n",
       "13522    1\n",
       "Name: bundle_id, Length: 9765, dtype: int64"
      ]
     },
     "execution_count": 115,
     "metadata": {},
     "output_type": "execute_result"
    }
   ],
   "source": [
    "question_df['bundle_id'].value_counts()"
   ]
  },
  {
   "cell_type": "markdown",
   "metadata": {},
   "source": [
    "Вопросы соединяются в 9765 групп, от 1 до 5 в каждой группе (bundle_id)"
   ]
  },
  {
   "cell_type": "markdown",
   "metadata": {},
   "source": [
    "# Теперь присоединим справочники к основной таблице"
   ]
  },
  {
   "cell_type": "code",
   "execution_count": 140,
   "metadata": {},
   "outputs": [],
   "source": [
    "train_df_copy_lec_mer = train_df_copy_lec.merge(lectures_df, how='left', left_on='content_id', right_on='lecture_id')"
   ]
  },
  {
   "cell_type": "code",
   "execution_count": 141,
   "metadata": {},
   "outputs": [
    {
     "name": "stdout",
     "output_type": "stream",
     "text": [
      "<class 'pandas.core.frame.DataFrame'>\n",
      "Int64Index: 19907 entries, 0 to 19906\n",
      "Data columns (total 13 columns):\n",
      " #   Column                          Non-Null Count  Dtype  \n",
      "---  ------                          --------------  -----  \n",
      " 0   timestamp                       19907 non-null  int64  \n",
      " 1   user_id                         19907 non-null  int32  \n",
      " 2   content_id                      19907 non-null  int16  \n",
      " 3   content_type_id                 19907 non-null  int8   \n",
      " 4   task_container_id               19907 non-null  int16  \n",
      " 5   user_answer                     19907 non-null  int8   \n",
      " 6   answered_correctly              19907 non-null  int8   \n",
      " 7   prior_question_elapsed_time     0 non-null      float32\n",
      " 8   prior_question_had_explanation  19907 non-null  bool   \n",
      " 9   lecture_id                      19907 non-null  int64  \n",
      " 10  tag                             19907 non-null  int64  \n",
      " 11  part                            19907 non-null  int64  \n",
      " 12  type_of                         19907 non-null  object \n",
      "dtypes: bool(1), float32(1), int16(2), int32(1), int64(4), int8(3), object(1)\n",
      "memory usage: 1.2+ MB\n"
     ]
    }
   ],
   "source": [
    "train_df_copy_lec_mer.info()"
   ]
  },
  {
   "cell_type": "markdown",
   "metadata": {},
   "source": [
    "Пропусков данных в присоединенных столбцах из lecture нет, значит некорректных ссылок на лекции в train нет"
   ]
  },
  {
   "cell_type": "markdown",
   "metadata": {},
   "source": [
    "Теперь посмотрим какой типы лекций студенты изучают чаще других"
   ]
  },
  {
   "cell_type": "code",
   "execution_count": 134,
   "metadata": {},
   "outputs": [
    {
     "data": {
      "text/html": [
       "<div>\n",
       "<style scoped>\n",
       "    .dataframe tbody tr th:only-of-type {\n",
       "        vertical-align: middle;\n",
       "    }\n",
       "\n",
       "    .dataframe tbody tr th {\n",
       "        vertical-align: top;\n",
       "    }\n",
       "\n",
       "    .dataframe thead th {\n",
       "        text-align: right;\n",
       "    }\n",
       "</style>\n",
       "<table border=\"1\" class=\"dataframe\">\n",
       "  <thead>\n",
       "    <tr style=\"text-align: right;\">\n",
       "      <th></th>\n",
       "      <th>type_of</th>\n",
       "    </tr>\n",
       "  </thead>\n",
       "  <tbody>\n",
       "    <tr>\n",
       "      <th>count</th>\n",
       "      <td>19907</td>\n",
       "    </tr>\n",
       "    <tr>\n",
       "      <th>unique</th>\n",
       "      <td>3</td>\n",
       "    </tr>\n",
       "    <tr>\n",
       "      <th>top</th>\n",
       "      <td>concept</td>\n",
       "    </tr>\n",
       "    <tr>\n",
       "      <th>freq</th>\n",
       "      <td>14326</td>\n",
       "    </tr>\n",
       "  </tbody>\n",
       "</table>\n",
       "</div>"
      ],
      "text/plain": [
       "        type_of\n",
       "count     19907\n",
       "unique        3\n",
       "top     concept\n",
       "freq      14326"
      ]
     },
     "execution_count": 134,
     "metadata": {},
     "output_type": "execute_result"
    }
   ],
   "source": [
    "train_df_copy_lec_mer.describe(include='object')"
   ]
  },
  {
   "cell_type": "markdown",
   "metadata": {},
   "source": [
    "это тип concept"
   ]
  },
  {
   "cell_type": "markdown",
   "metadata": {},
   "source": [
    "Теперь присоединим справочник вопросов question_df к основной таблице train_df_copy_ques"
   ]
  },
  {
   "cell_type": "code",
   "execution_count": 137,
   "metadata": {},
   "outputs": [],
   "source": [
    "train_df_copy_ques_mer = train_df_copy_ques.merge(question_df, how='left', left_on='content_id', right_on='question_id')"
   ]
  },
  {
   "cell_type": "code",
   "execution_count": 142,
   "metadata": {},
   "outputs": [
    {
     "name": "stdout",
     "output_type": "stream",
     "text": [
      "<class 'pandas.core.frame.DataFrame'>\n",
      "Int64Index: 980093 entries, 0 to 980092\n",
      "Data columns (total 14 columns):\n",
      " #   Column                          Non-Null Count   Dtype  \n",
      "---  ------                          --------------   -----  \n",
      " 0   timestamp                       980093 non-null  int64  \n",
      " 1   user_id                         980093 non-null  int32  \n",
      " 2   content_id                      980093 non-null  int16  \n",
      " 3   content_type_id                 980093 non-null  int8   \n",
      " 4   task_container_id               980093 non-null  int16  \n",
      " 5   user_answer                     980093 non-null  int8   \n",
      " 6   answered_correctly              980093 non-null  int8   \n",
      " 7   prior_question_elapsed_time     976277 non-null  float32\n",
      " 8   prior_question_had_explanation  980093 non-null  bool   \n",
      " 9   question_id                     980093 non-null  int64  \n",
      " 10  bundle_id                       980093 non-null  int64  \n",
      " 11  correct_answer                  980093 non-null  int64  \n",
      " 12  part                            980093 non-null  int64  \n",
      " 13  tags                            980093 non-null  object \n",
      "dtypes: bool(1), float32(1), int16(2), int32(1), int64(5), int8(3), object(1)\n",
      "memory usage: 67.3+ MB\n"
     ]
    }
   ],
   "source": [
    "train_df_copy_ques_mer.info()"
   ]
  },
  {
   "cell_type": "code",
   "execution_count": 147,
   "metadata": {},
   "outputs": [
    {
     "data": {
      "text/plain": [
       "part\n",
       "1    6.228541e+09\n",
       "2    7.499765e+09\n",
       "3    8.591294e+09\n",
       "4    7.625731e+09\n",
       "5    6.928887e+09\n",
       "6    7.938026e+09\n",
       "7    7.664366e+09\n",
       "Name: timestamp, dtype: float64"
      ]
     },
     "execution_count": 147,
     "metadata": {},
     "output_type": "execute_result"
    }
   ],
   "source": [
    "# после соединения, можно вывести агрегированные данные по новым столбцам. Например среднее время с гуппировкой по \"part\"\n",
    "train_df_copy_ques_mer.groupby('part').mean()['timestamp']"
   ]
  },
  {
   "cell_type": "markdown",
   "metadata": {},
   "source": [
    "Далее, я бы сконвертировал котегориальные признаки, выраженные числами в тип данных category, и создал несколько новых признаков на основе имеющихся. Но это выходит за рамки задания."
   ]
  }
 ],
 "metadata": {
  "kernelspec": {
   "display_name": "Python 3 (ipykernel)",
   "language": "python",
   "name": "python3"
  },
  "language_info": {
   "codemirror_mode": {
    "name": "ipython",
    "version": 3
   },
   "file_extension": ".py",
   "mimetype": "text/x-python",
   "name": "python",
   "nbconvert_exporter": "python",
   "pygments_lexer": "ipython3",
   "version": "3.10.6"
  },
  "vscode": {
   "interpreter": {
    "hash": "e7370f93d1d0cde622a1f8e1c04877d8463912d04d973331ad4851f04de6915a"
   }
  }
 },
 "nbformat": 4,
 "nbformat_minor": 2
}
