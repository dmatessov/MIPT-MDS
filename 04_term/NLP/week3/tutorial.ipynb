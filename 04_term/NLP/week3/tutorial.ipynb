{
 "cells": [
  {
   "cell_type": "code",
   "execution_count": 3,
   "id": "815d92a9-e038-4f73-bf06-2d38ec715c19",
   "metadata": {},
   "outputs": [],
   "source": [
    "import numpy as np\n",
    "import torch"
   ]
  },
  {
   "cell_type": "code",
   "execution_count": 2,
   "id": "78dd8a4a-6059-453b-9d90-eecfeddf6ac0",
   "metadata": {},
   "outputs": [
    {
     "data": {
      "text/plain": [
       "(array([0.24377056, 0.78883806, 0.34124049, 0.76696955, 0.1153437 ]),\n",
       " array([0.78536606, 0.84660922, 0.20517733]))"
      ]
     },
     "execution_count": 2,
     "metadata": {},
     "output_type": "execute_result"
    }
   ],
   "source": [
    "a = np.random.rand(5)\n",
    "b = np.random.rand(3)\n",
    "a, b"
   ]
  },
  {
   "cell_type": "code",
   "execution_count": 6,
   "id": "ca1dda75-5340-4d42-9cc1-50bd3062aa72",
   "metadata": {},
   "outputs": [
    {
     "data": {
      "text/plain": [
       "tensor([[ 0,  1,  2,  3,  4,  5,  6,  7,  8,  9, 10, 11, 12, 13, 14, 15],\n",
       "        [ 0,  1,  2,  3,  4,  5,  6,  7,  8,  9, 10, 11, 12, 13, 14, 15],\n",
       "        [ 0,  1,  2,  3,  4,  5,  6,  7,  8,  9, 10, 11, 12, 13, 14, 15]])"
      ]
     },
     "execution_count": 6,
     "metadata": {},
     "output_type": "execute_result"
    }
   ],
   "source": [
    "torch.arange(0, 16).expand(3, 16)"
   ]
  },
  {
   "cell_type": "code",
   "execution_count": 9,
   "id": "88564ece-a6ca-485b-8277-8146b4d1be7e",
   "metadata": {},
   "outputs": [
    {
     "data": {
      "text/plain": [
       "tensor([[1., 0., 0., 0., 0., 0., 0., 0., 0., 0.],\n",
       "        [1., 1., 0., 0., 0., 0., 0., 0., 0., 0.],\n",
       "        [1., 1., 1., 0., 0., 0., 0., 0., 0., 0.],\n",
       "        [1., 1., 1., 1., 0., 0., 0., 0., 0., 0.],\n",
       "        [1., 1., 1., 1., 1., 0., 0., 0., 0., 0.],\n",
       "        [1., 1., 1., 1., 1., 1., 0., 0., 0., 0.],\n",
       "        [1., 1., 1., 1., 1., 1., 1., 0., 0., 0.],\n",
       "        [1., 1., 1., 1., 1., 1., 1., 1., 0., 0.],\n",
       "        [1., 1., 1., 1., 1., 1., 1., 1., 1., 0.],\n",
       "        [1., 1., 1., 1., 1., 1., 1., 1., 1., 1.]])"
      ]
     },
     "execution_count": 9,
     "metadata": {},
     "output_type": "execute_result"
    }
   ],
   "source": [
    "trg_len = 10\n",
    "N = 3\n",
    "\n",
    "torch.tril(torch.ones((trg_len, trg_len)))"
   ]
  },
  {
   "cell_type": "code",
   "execution_count": null,
   "id": "5551cc9d-7c01-4b83-82f9-c5b7f0eb843a",
   "metadata": {},
   "outputs": [],
   "source": []
  },
  {
   "cell_type": "markdown",
   "id": "406b9703-742f-4bff-88ca-25dde4d97986",
   "metadata": {},
   "source": [
    "# simple sum"
   ]
  },
  {
   "cell_type": "code",
   "execution_count": 13,
   "id": "0cbb0b14-383a-497b-a42f-c79590d4e9e9",
   "metadata": {},
   "outputs": [
    {
     "data": {
      "text/plain": [
       "array([1., 1., 1.])"
      ]
     },
     "execution_count": 13,
     "metadata": {},
     "output_type": "execute_result"
    }
   ],
   "source": [
    "x = np.ones(3)\n",
    "x"
   ]
  },
  {
   "cell_type": "code",
   "execution_count": 15,
   "id": "bd584418-aa12-477c-8fb8-e87037217ed7",
   "metadata": {},
   "outputs": [
    {
     "data": {
      "text/plain": [
       "3.0"
      ]
     },
     "execution_count": 15,
     "metadata": {},
     "output_type": "execute_result"
    }
   ],
   "source": [
    "np.einsum('i->', x)  # ommiting letters means this axis will be summed"
   ]
  },
  {
   "cell_type": "markdown",
   "id": "9256c2ff-dcdd-4e66-b386-c73882423228",
   "metadata": {},
   "source": [
    "# dot-wise multiplication"
   ]
  },
  {
   "cell_type": "code",
   "execution_count": 6,
   "id": "9bede2ec-fb63-4a6b-8c87-9852cbb42f5a",
   "metadata": {},
   "outputs": [
    {
     "data": {
      "text/plain": [
       "array([[0.21234012, 0.04469296, 0.03669775],\n",
       "       [0.09074073, 0.01909894, 0.01568229],\n",
       "       [0.39080151, 0.08225519, 0.06754039],\n",
       "       [0.22209056, 0.04674522, 0.03838287],\n",
       "       [0.24626812, 0.05183406, 0.04256136]])"
      ]
     },
     "execution_count": 6,
     "metadata": {},
     "output_type": "execute_result"
    }
   ],
   "source": [
    "outer = np.einsum('i,j->ij', a, b)\n",
    "outer"
   ]
  },
  {
   "cell_type": "code",
   "execution_count": 11,
   "id": "1ddaf4e2-87df-4044-a7ee-148afea9c224",
   "metadata": {},
   "outputs": [
    {
     "data": {
      "text/plain": [
       "array([[0.21234012, 0.04469296, 0.03669775],\n",
       "       [0.09074073, 0.01909894, 0.01568229],\n",
       "       [0.39080151, 0.08225519, 0.06754039],\n",
       "       [0.22209056, 0.04674522, 0.03838287],\n",
       "       [0.24626812, 0.05183406, 0.04256136]])"
      ]
     },
     "execution_count": 11,
     "metadata": {},
     "output_type": "execute_result"
    }
   ],
   "source": [
    "# equivalent to above\n",
    "outer_loop = np.zeros((a.shape[0], b.shape[0]))\n",
    "for i in range(a.shape[0]):\n",
    "    for j in range(b.shape[0]):\n",
    "        total = a[i] * b[j]\n",
    "        outer[i, j] = total\n",
    "outer"
   ]
  },
  {
   "cell_type": "markdown",
   "id": "6327de55-65f2-4553-8f5c-80e500798b99",
   "metadata": {},
   "source": [
    "# matrix multiplication"
   ]
  },
  {
   "cell_type": "code",
   "execution_count": 22,
   "id": "33cc449e-1b80-4c32-9c3e-fd62f7493957",
   "metadata": {},
   "outputs": [
    {
     "data": {
      "text/plain": [
       "(array([[7, 6, 8, 4],\n",
       "        [1, 1, 7, 8],\n",
       "        [6, 1, 6, 2]]),\n",
       " array([[2, 7],\n",
       "        [5, 1],\n",
       "        [8, 5],\n",
       "        [3, 4]]))"
      ]
     },
     "execution_count": 22,
     "metadata": {},
     "output_type": "execute_result"
    }
   ],
   "source": [
    "m, k, n = 3, 4, 2\n",
    "A = np.random.randint(1, 10, (m,k))\n",
    "B = np.random.randint(1, 10, (k,n))\n",
    "A, B"
   ]
  },
  {
   "cell_type": "code",
   "execution_count": 26,
   "id": "07e5076e-6c3d-4d07-8ce0-a069e5741880",
   "metadata": {},
   "outputs": [
    {
     "data": {
      "text/plain": [
       "array([[120, 111],\n",
       "       [ 87,  75],\n",
       "       [ 71,  81]])"
      ]
     },
     "execution_count": 26,
     "metadata": {},
     "output_type": "execute_result"
    }
   ],
   "source": [
    "np.einsum('ik,kj->ij', A, B)  \n",
    "# repeating letters in differnt inputs means this values will be multiplied and those products will be the output"
   ]
  },
  {
   "cell_type": "code",
   "execution_count": 25,
   "id": "f3cb731b-4341-4d96-aff9-9aacd25d8146",
   "metadata": {},
   "outputs": [
    {
     "data": {
      "text/plain": [
       "array([[120., 111.],\n",
       "       [ 87.,  75.],\n",
       "       [ 71.,  81.]])"
      ]
     },
     "execution_count": 25,
     "metadata": {},
     "output_type": "execute_result"
    }
   ],
   "source": [
    "result = np.zeros((m, n))\n",
    "for i in range(m):\n",
    "    for j in range(n):\n",
    "        total = 0\n",
    "        for tmp in range(k):\n",
    "            total += A[i, tmp] * B[tmp, j]\n",
    "        result[i, j] = total\n",
    "result"
   ]
  },
  {
   "cell_type": "markdown",
   "id": "5492f45e-346c-41a5-9319-7cb6e31148a5",
   "metadata": {},
   "source": [
    "# reshape"
   ]
  },
  {
   "cell_type": "code",
   "execution_count": 27,
   "id": "d200527a-8aea-4d8f-9276-c244c3e0d71c",
   "metadata": {},
   "outputs": [
    {
     "data": {
      "text/plain": [
       "(5, 4, 3)"
      ]
     },
     "execution_count": 27,
     "metadata": {},
     "output_type": "execute_result"
    }
   ],
   "source": [
    "X = np.ones((5, 4, 3))\n",
    "X.shape"
   ]
  },
  {
   "cell_type": "code",
   "execution_count": 29,
   "id": "5406133e-f48f-4715-b4af-67c3fbb24302",
   "metadata": {},
   "outputs": [
    {
     "data": {
      "text/plain": [
       "(3, 4, 5)"
      ]
     },
     "execution_count": 29,
     "metadata": {},
     "output_type": "execute_result"
    }
   ],
   "source": [
    "np.einsum('ikj->jki', X).shape  # we can return the unsummed axes in any order"
   ]
  },
  {
   "cell_type": "markdown",
   "id": "14810a6c-f3a2-4273-aae1-8a11438c9712",
   "metadata": {},
   "source": [
    "# common operations"
   ]
  },
  {
   "cell_type": "code",
   "execution_count": 30,
   "id": "8ecc8468-578e-4d13-80fe-71dd64d1cf3a",
   "metadata": {},
   "outputs": [],
   "source": [
    "import torch"
   ]
  },
  {
   "cell_type": "code",
   "execution_count": 31,
   "id": "992fb69a-8151-41c7-abcd-d72523b85c7c",
   "metadata": {},
   "outputs": [
    {
     "data": {
      "text/plain": [
       "tensor([[0.8764, 0.5553, 0.9295],\n",
       "        [0.4870, 0.3339, 0.5460]])"
      ]
     },
     "execution_count": 31,
     "metadata": {},
     "output_type": "execute_result"
    }
   ],
   "source": [
    "x = torch.rand((2, 3))\n",
    "x"
   ]
  },
  {
   "cell_type": "markdown",
   "id": "84d8b739-4dc7-4f6d-af38-bd9d32049731",
   "metadata": {
    "jp-MarkdownHeadingCollapsed": true
   },
   "source": [
    "## permutation"
   ]
  },
  {
   "cell_type": "code",
   "execution_count": 33,
   "id": "3010d606-c283-45a1-a810-29dc3b6290dc",
   "metadata": {},
   "outputs": [
    {
     "data": {
      "text/plain": [
       "tensor([[0.8764, 0.4870],\n",
       "        [0.5553, 0.3339],\n",
       "        [0.9295, 0.5460]])"
      ]
     },
     "execution_count": 33,
     "metadata": {},
     "output_type": "execute_result"
    }
   ],
   "source": [
    "torch.einsum('ij->ji', x)"
   ]
  },
  {
   "cell_type": "markdown",
   "id": "001f2688-5dc9-4d43-937a-c59caf1de472",
   "metadata": {},
   "source": [
    "## summation"
   ]
  },
  {
   "cell_type": "code",
   "execution_count": 40,
   "id": "bcf5e125-26ac-4dad-a21f-eaff6922634b",
   "metadata": {},
   "outputs": [
    {
     "data": {
      "text/plain": [
       "(tensor([2.3612, 1.3669]), tensor([2.3612, 1.3669]))"
      ]
     },
     "execution_count": 40,
     "metadata": {},
     "output_type": "execute_result"
    }
   ],
   "source": [
    "torch.einsum('ij->i', x), x.sum(axis=1)"
   ]
  },
  {
   "cell_type": "code",
   "execution_count": 41,
   "id": "5482401b-4e43-4b4c-9e15-513d363ca3f2",
   "metadata": {},
   "outputs": [
    {
     "data": {
      "text/plain": [
       "(tensor([1.3634, 0.8892, 1.4755]), tensor([1.3634, 0.8892, 1.4755]))"
      ]
     },
     "execution_count": 41,
     "metadata": {},
     "output_type": "execute_result"
    }
   ],
   "source": [
    "torch.einsum('ij->j', x),  x.sum(axis=0)"
   ]
  },
  {
   "cell_type": "code",
   "execution_count": 43,
   "id": "9b168c03-454b-44a3-b9f4-d4d10b637a11",
   "metadata": {},
   "outputs": [
    {
     "data": {
      "text/plain": [
       "(tensor(3.7281), tensor(3.7281))"
      ]
     },
     "execution_count": 43,
     "metadata": {},
     "output_type": "execute_result"
    }
   ],
   "source": [
    "torch.einsum('ij->', x),  x.sum()"
   ]
  },
  {
   "cell_type": "markdown",
   "id": "3830ebd5-ae60-4f0c-b111-fc0b5f698785",
   "metadata": {},
   "source": [
    "## matrix-vector multiplication"
   ]
  },
  {
   "cell_type": "code",
   "execution_count": 45,
   "id": "1ea05086-bc24-4376-b54a-5cd06f95cbcf",
   "metadata": {},
   "outputs": [
    {
     "data": {
      "text/plain": [
       "tensor([[0.9789, 0.5452, 0.3378]])"
      ]
     },
     "execution_count": 45,
     "metadata": {},
     "output_type": "execute_result"
    }
   ],
   "source": [
    "v = torch.rand((1, 3))\n",
    "v"
   ]
  },
  {
   "cell_type": "code",
   "execution_count": 60,
   "id": "4f0be73b-eba9-4e5c-8881-efc8ea4f870e",
   "metadata": {},
   "outputs": [
    {
     "data": {
      "text/plain": [
       "(tensor([[1.4747],\n",
       "         [0.8432]]),\n",
       " tensor([[1.4747],\n",
       "         [0.8432]]))"
      ]
     },
     "execution_count": 60,
     "metadata": {},
     "output_type": "execute_result"
    }
   ],
   "source": [
    "torch.einsum('ij,kj->ik', x, v), x.mm(v.transpose(1, 0))"
   ]
  },
  {
   "cell_type": "markdown",
   "id": "dae06816-4e2f-4554-914f-44c5a8331ade",
   "metadata": {},
   "source": [
    "## matrix-matrix multiplication"
   ]
  },
  {
   "cell_type": "code",
   "execution_count": 64,
   "id": "f39d711a-dae8-431b-8541-4076696912e5",
   "metadata": {},
   "outputs": [
    {
     "data": {
      "text/plain": [
       "(tensor([[1.9404, 1.1197],\n",
       "         [1.1197, 0.6468]]),\n",
       " tensor([[1.9404, 1.1197],\n",
       "         [1.1197, 0.6468]]))"
      ]
     },
     "execution_count": 64,
     "metadata": {},
     "output_type": "execute_result"
    }
   ],
   "source": [
    "torch.einsum('ij,kj->ik', x, x), x.mm(x.T)"
   ]
  },
  {
   "cell_type": "markdown",
   "id": "cba229b1-af52-49e7-b41e-9e3d05f9abef",
   "metadata": {},
   "source": [
    "## dot product of first row and first row "
   ]
  },
  {
   "cell_type": "code",
   "execution_count": 67,
   "id": "d20195a4-d103-4a0b-9bbb-f774786416b3",
   "metadata": {},
   "outputs": [
    {
     "data": {
      "text/plain": [
       "(tensor(1.9404), tensor(1.9404))"
      ]
     },
     "execution_count": 67,
     "metadata": {},
     "output_type": "execute_result"
    }
   ],
   "source": [
    "torch.einsum('i,i->', x[0], x[0]), x[0].dot(x[0])"
   ]
  },
  {
   "cell_type": "markdown",
   "id": "eb887f3a-3805-423b-9150-fa6ee22f95cc",
   "metadata": {},
   "source": [
    "## dot product with matrix"
   ]
  },
  {
   "cell_type": "code",
   "execution_count": 69,
   "id": "2dc0b5a5-237e-4a81-8400-22cc76d86ed6",
   "metadata": {},
   "outputs": [
    {
     "data": {
      "text/plain": [
       "tensor(2.5872)"
      ]
     },
     "execution_count": 69,
     "metadata": {},
     "output_type": "execute_result"
    }
   ],
   "source": [
    "torch.einsum('ij,ij->', x, x)"
   ]
  },
  {
   "cell_type": "markdown",
   "id": "0260ec39-a2f6-46dd-975a-4dc0047d90d6",
   "metadata": {},
   "source": [
    "## hadamard product (element-wise multiplication)"
   ]
  },
  {
   "cell_type": "code",
   "execution_count": 72,
   "id": "23d57590-3f5a-48a6-bed8-d89eb1a91306",
   "metadata": {},
   "outputs": [
    {
     "data": {
      "text/plain": [
       "(tensor([[0.7681, 0.3084, 0.8640],\n",
       "         [0.2371, 0.1115, 0.2981]]),\n",
       " tensor([[0.7681, 0.3084, 0.8640],\n",
       "         [0.2371, 0.1115, 0.2981]]))"
      ]
     },
     "execution_count": 72,
     "metadata": {},
     "output_type": "execute_result"
    }
   ],
   "source": [
    "torch.einsum('ij,ij->ij', x, x), x*x"
   ]
  },
  {
   "cell_type": "markdown",
   "id": "d1eb0fb4-699e-4383-8c54-1fb5eeb3caa1",
   "metadata": {},
   "source": [
    "## outer product"
   ]
  },
  {
   "cell_type": "code",
   "execution_count": 89,
   "id": "a2c537fb-d5a2-41fb-99e7-685dfd3acfdc",
   "metadata": {},
   "outputs": [
    {
     "name": "stdout",
     "output_type": "stream",
     "text": [
      "tensor([0.3465, 0.8491, 0.5803])\n",
      "tensor([0.5775, 0.2495, 0.4535, 0.3741, 0.5205])\n"
     ]
    },
    {
     "data": {
      "text/plain": [
       "(tensor([[0.2001, 0.0864, 0.1571, 0.1296, 0.1804],\n",
       "         [0.4904, 0.2118, 0.3850, 0.3176, 0.4419],\n",
       "         [0.3352, 0.1448, 0.2631, 0.2171, 0.3020]]),\n",
       " tensor([[0.2001, 0.0864, 0.1571, 0.1296, 0.1804],\n",
       "         [0.4904, 0.2118, 0.3850, 0.3176, 0.4419],\n",
       "         [0.3352, 0.1448, 0.2631, 0.2171, 0.3020]]))"
      ]
     },
     "execution_count": 89,
     "metadata": {},
     "output_type": "execute_result"
    }
   ],
   "source": [
    "a = torch.rand((3))\n",
    "b = torch.rand((5))\n",
    "print(a)\n",
    "print(b)\n",
    "torch.einsum('i,j->ij', a, b), a.reshape(-1, 1) * b.reshape(1, -1)"
   ]
  },
  {
   "cell_type": "markdown",
   "id": "9dec7ab6-277e-4c1d-8d08-57d8fdfe0617",
   "metadata": {},
   "source": [
    "# batch matrix multiplication"
   ]
  },
  {
   "cell_type": "code",
   "execution_count": 92,
   "id": "5efc623d-d3be-4a48-9833-5a94be772deb",
   "metadata": {},
   "outputs": [
    {
     "data": {
      "text/plain": [
       "tensor([[[0.9942, 0.6516, 0.8219],\n",
       "         [0.6527, 1.1958, 1.1434]],\n",
       "\n",
       "        [[0.9767, 1.9323, 0.8628],\n",
       "         [1.2479, 1.2842, 0.7486]],\n",
       "\n",
       "        [[1.0666, 1.3559, 1.7117],\n",
       "         [1.0376, 1.1039, 1.3428]]])"
      ]
     },
     "execution_count": 92,
     "metadata": {},
     "output_type": "execute_result"
    }
   ],
   "source": [
    "a = torch.rand((3, 2, 5))\n",
    "b = torch.rand((3, 5, 3))\n",
    "torch.einsum('bnk,bkm->bnm', a, b)"
   ]
  },
  {
   "cell_type": "markdown",
   "id": "d3c3c2ea-718d-47e4-b7d3-242ce2bfc5cf",
   "metadata": {},
   "source": [
    "## matrix diagonal"
   ]
  },
  {
   "cell_type": "code",
   "execution_count": 94,
   "id": "e284315d-f0e6-4890-afff-03a25a2e1ba3",
   "metadata": {},
   "outputs": [
    {
     "name": "stdout",
     "output_type": "stream",
     "text": [
      "tensor([[0.0993, 0.5145, 0.7707],\n",
      "        [0.4078, 0.5921, 0.2573],\n",
      "        [0.1353, 0.0312, 0.1516]])\n"
     ]
    },
    {
     "data": {
      "text/plain": [
       "tensor([0.0993, 0.5921, 0.1516])"
      ]
     },
     "execution_count": 94,
     "metadata": {},
     "output_type": "execute_result"
    }
   ],
   "source": [
    "x = torch.rand((3,3))\n",
    "print(x)\n",
    "torch.einsum('ii->i', x)"
   ]
  },
  {
   "cell_type": "markdown",
   "id": "3d330b65-9e89-4dd3-a092-f5526e5caad7",
   "metadata": {},
   "source": [
    "## matrix trace (sum of main diagonal)"
   ]
  },
  {
   "cell_type": "code",
   "execution_count": 95,
   "id": "0166e181-35e8-4276-a29d-0364ff798415",
   "metadata": {},
   "outputs": [
    {
     "data": {
      "text/plain": [
       "tensor(0.8430)"
      ]
     },
     "execution_count": 95,
     "metadata": {},
     "output_type": "execute_result"
    }
   ],
   "source": [
    "torch.einsum('ii->', x)"
   ]
  },
  {
   "cell_type": "code",
   "execution_count": null,
   "id": "c40ee51d-9889-4a0c-b42f-c5728eb590de",
   "metadata": {},
   "outputs": [],
   "source": []
  }
 ],
 "metadata": {
  "kernelspec": {
   "display_name": "Python 3 (ipykernel)",
   "language": "python",
   "name": "python3"
  },
  "language_info": {
   "codemirror_mode": {
    "name": "ipython",
    "version": 3
   },
   "file_extension": ".py",
   "mimetype": "text/x-python",
   "name": "python",
   "nbconvert_exporter": "python",
   "pygments_lexer": "ipython3",
   "version": "3.10.12"
  }
 },
 "nbformat": 4,
 "nbformat_minor": 5
}
