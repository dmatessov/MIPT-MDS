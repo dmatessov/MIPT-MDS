{
 "cells": [
  {
   "cell_type": "markdown",
   "metadata": {
    "id": "NS2Vw_ed01KB"
   },
   "source": [
    "# Динамическое программирование, метод итерации по стратегии"
   ]
  },
  {
   "cell_type": "markdown",
   "metadata": {
    "id": "2z0OLBer1CYv"
   },
   "source": [
    "#### Задача: Найти стратегию передвижения для агента из точки поля (7,7) к поставленной цели.\n",
    "\n",
    "За передвижение агент получает штраф -1;\n",
    "За достижение цели награду - +10;"
   ]
  },
  {
   "cell_type": "markdown",
   "metadata": {
    "id": "vKeqGlS143Jo"
   },
   "source": [
    "* State - ?\n",
    "\n",
    "* Actions - ?\n",
    "\n",
    "* Reward - ?"
   ]
  },
  {
   "cell_type": "code",
   "execution_count": 13,
   "metadata": {
    "id": "WkE_KvfoFO1l"
   },
   "outputs": [],
   "source": [
    "import numpy as np\n",
    "import matplotlib.pyplot as plt\n",
    "import matplotlib.patches as mpatches"
   ]
  },
  {
   "cell_type": "code",
   "execution_count": 14,
   "metadata": {
    "id": "3Ax0bmH61Ppf"
   },
   "outputs": [],
   "source": [
    "field_size = (7, 7)\n",
    "\n",
    "passenger = np.random.randint(0, 7, size=2)\n",
    "\n",
    "car = np.random.randint(0, 7, size=2)\n",
    "target = np.random.randint(0, 7, size=2)\n",
    "\n"
   ]
  },
  {
   "cell_type": "markdown",
   "metadata": {
    "id": "QtLZxRwP2WpG"
   },
   "source": [
    "## Детерминированная итерация по стратегии"
   ]
  },
  {
   "cell_type": "markdown",
   "metadata": {
    "id": "Ut2U_SE05V85"
   },
   "source": [
    "1. Инициализировать стратегию произвольно.\n",
    "2. Повторять до сходимости {\n",
    "    2.1 Оценка стратегии:\n",
    "        Для каждого состояния s во множестве всех состояний S:\n",
    "            Вычислить V(s) как ожидаемую сумму дисконтированных вознаграждений, следуя текущей стратегии.\n",
    "    2.2 Улучшение стратегии:\n",
    "        Для каждого состояния s в S:\n",
    "            Выбрать действие a, максимизирующее ожидаемую сумму дисконтированных вознаграждений.\n",
    "            Обновить стратегию для состояния s с выбранным действием a.\n",
    "}\n"
   ]
  },
  {
   "cell_type": "code",
   "execution_count": 15,
   "metadata": {
    "id": "-pxvkVI_FTn_"
   },
   "outputs": [],
   "source": [
    "# Действия: вверх, вниз, влево, вправо\n",
    "actions = [(0, -1), (0, 1), (-1, 0), (1, 0)]\n",
    "\n",
    "def step(state, action):\n",
    "    next_state = (state[0] + action[0], state[1] + action[1])\n",
    "    if next_state[0] < 0 or next_state[0] >= field_size[0] or next_state[1] < 0 or next_state[1] >= field_size[1]:\n",
    "        return state # Столкновение со стеной\n",
    "    else:\n",
    "        return next_state\n",
    "\n",
    "def in_boundaries(state):\n",
    "  return state[0] < 0 or state[0]>=7 or state[1] < 0 or state[1]>=7\n",
    "\n",
    "def reward(state):\n",
    "    if state == tuple(target):\n",
    "        return 10\n",
    "    elif in_boundaries(state):\n",
    "        return -1000\n",
    "    else:\n",
    "        return -1\n",
    "\n",
    "\n",
    "def policy_iteration():\n",
    "    policy = np.zeros(field_size, dtype=(int, 2))\n",
    "    V = np.zeros(field_size)\n",
    "    gamma = 0.99\n",
    "    is_policy_stable = False\n",
    "    threshold = 0.001\n",
    "\n",
    "    while not is_policy_stable:\n",
    "        # Оценка стратегии\n",
    "        while True:\n",
    "          delta = 0\n",
    "          for x in range(field_size[0]):\n",
    "              for y in range(field_size[1]):\n",
    "                  v = V[x, y]\n",
    "                  V[x, y] = max([reward((x, y)) + gamma * V[step((x, y), a)] for a in actions])\n",
    "                  delta = max(delta, abs(v - V[x, y]))\n",
    "          if delta < threshold:\n",
    "              break\n",
    "        # Улучшение стратегии\n",
    "        is_policy_stable = True\n",
    "        for x in range(field_size[0]):\n",
    "            for y in range(field_size[1]):\n",
    "                old_action = policy[x, y]\n",
    "                policy[x, y] = actions[np.argmax([reward((x, y)) + gamma * V[step((x, y), a)] for a in actions])]\n",
    "                if tuple(old_action) != tuple(policy[x, y]):\n",
    "                    is_policy_stable = False\n",
    "    return policy"
   ]
  },
  {
   "cell_type": "code",
   "execution_count": 16,
   "metadata": {
    "colab": {
     "base_uri": "https://localhost:8080/"
    },
    "id": "cvmNaW7vZ8Zm",
    "outputId": "15a6ad0f-9a11-4265-958d-ee432fea971f"
   },
   "outputs": [
    {
     "data": {
      "text/plain": [
       "array([[[ 0,  1],\n",
       "        [ 0,  1],\n",
       "        [ 0,  1],\n",
       "        [ 1,  0],\n",
       "        [ 1,  0],\n",
       "        [ 1,  0],\n",
       "        [ 1,  0]],\n",
       "\n",
       "       [[ 0,  1],\n",
       "        [ 0,  1],\n",
       "        [ 0,  1],\n",
       "        [ 1,  0],\n",
       "        [ 1,  0],\n",
       "        [ 1,  0],\n",
       "        [ 1,  0]],\n",
       "\n",
       "       [[ 0,  1],\n",
       "        [ 0,  1],\n",
       "        [ 0,  1],\n",
       "        [ 1,  0],\n",
       "        [ 1,  0],\n",
       "        [ 1,  0],\n",
       "        [ 1,  0]],\n",
       "\n",
       "       [[ 0,  1],\n",
       "        [ 0,  1],\n",
       "        [ 0,  1],\n",
       "        [ 1,  0],\n",
       "        [ 1,  0],\n",
       "        [ 1,  0],\n",
       "        [ 1,  0]],\n",
       "\n",
       "       [[ 0,  1],\n",
       "        [ 0,  1],\n",
       "        [ 0,  1],\n",
       "        [ 1,  0],\n",
       "        [ 1,  0],\n",
       "        [ 1,  0],\n",
       "        [ 1,  0]],\n",
       "\n",
       "       [[ 0,  1],\n",
       "        [ 0,  1],\n",
       "        [ 0,  1],\n",
       "        [ 0,  1],\n",
       "        [ 0, -1],\n",
       "        [ 0, -1],\n",
       "        [ 0, -1]],\n",
       "\n",
       "       [[ 0,  1],\n",
       "        [ 0,  1],\n",
       "        [ 0,  1],\n",
       "        [-1,  0],\n",
       "        [ 0, -1],\n",
       "        [ 0, -1],\n",
       "        [ 0, -1]]])"
      ]
     },
     "execution_count": 16,
     "metadata": {},
     "output_type": "execute_result"
    }
   ],
   "source": [
    "policy_iteration()"
   ]
  },
  {
   "cell_type": "code",
   "execution_count": 17,
   "metadata": {
    "id": "tuMaFXYRFyfI"
   },
   "outputs": [],
   "source": [
    "\n",
    "\n",
    "\n",
    "# Действия: вверх, вниз, влево, вправо\n",
    "actions = [(0, -1), (0, 1), (-1, 0), (1, 0)]\n",
    "\n",
    "def draw_policy(policy, passenger, car, target, field_size=(7, 7)):\n",
    "    fig, ax = plt.subplots()\n",
    "    # Отрисовка сетки\n",
    "    ax.set_xlim(0, field_size[0])\n",
    "    ax.set_ylim(0, field_size[1])\n",
    "    plt.grid(True)\n",
    "    plt.xticks(np.arange(0, field_size[0], 1))\n",
    "    plt.yticks(np.arange(0, field_size[1], 1))\n",
    "\n",
    "    # Настройка внешнего вида стрелок\n",
    "    arrow_properties = dict(facecolor=\"black\", width=0.2, head_width=0.4, head_length=0.1)\n",
    "\n",
    "    # Отрисовка стратегии\n",
    "    for x in range(field_size[0]):\n",
    "        for y in range(field_size[1]):\n",
    "            dy,dx = policy[x, y]\n",
    "            dx/=2\n",
    "            dy/=2\n",
    "            ax.arrow(y+0.5-dx, x+0.5-dy, dx, dy, **arrow_properties)\n",
    "\n",
    "    td = 0.5\n",
    "    markersize = 15\n",
    "\n",
    "    ax.plot(car[1]+td, car[0]+td, 'ro', markersize=markersize)  # C - красный\n",
    "    ax.text(car[1]+td, car[0]+td, 'C', ha='center', va='center', color='white')\n",
    "\n",
    "    ax.plot(target[1]+td, target[0]+td, 'bo', markersize=markersize)  # T - синий\n",
    "    ax.text(target[1]+td, target[0]+td, 'T', ha='center', va='center', color='white')\n",
    "\n",
    "    plt.gca().invert_yaxis()  # Инвертирование оси Y для соответствия обычным координатам\n",
    "    plt.axis('off')  # Скрытие осей\n",
    "    plt.show()"
   ]
  },
  {
   "cell_type": "code",
   "execution_count": 5,
   "metadata": {
    "colab": {
     "base_uri": "https://localhost:8080/",
     "height": 406
    },
    "id": "7nLH38dUNkOy",
    "outputId": "10b19c1e-dfa2-4816-b93a-0cac5d521834"
   },
   "outputs": [
    {
     "data": {
      "image/png": "[encoded data removed]",
      "text/plain": [
       "<Figure size 640x480 with 1 Axes>"
      ]
     },
     "metadata": {},
     "output_type": "display_data"
    }
   ],
   "source": [
    "\n",
    "draw_policy(policy_iteration(), passenger, car, target, field_size=(7, 7))"
   ]
  },
  {
   "cell_type": "markdown",
   "metadata": {
    "id": "gJ2baTQU2gZY"
   },
   "source": [
    "## Стохастическая итерация по стратегии"
   ]
  },
  {
   "cell_type": "markdown",
   "metadata": {
    "id": "-3EZFJMc66gG"
   },
   "source": [
    "1. Инициализировать стохастическую стратегию для каждого состояния (например, равномерно распределенную вероятность выбора любого действия).\n",
    "2. Повторять до сходимости:\n",
    "    2.1 Оценка стратегии:\n",
    "        а. Инициализировать V(s) для всех s в S произвольно (кроме терминальных состояний, если таковые имеются).\n",
    "        б. Повторять до сходимости для каждого состояния s в S:\n",
    "            i. Вычислить V(s) используя текущую стратегию и ожидаемую сумму дисконтированных вознаграждений, учитывая стохастичность выбора действий.\n",
    "    2.2 Улучшение стратегии:\n",
    "        а. Для каждого состояния s в S:\n",
    "            i. Для каждого возможного действия a в A:\n",
    "                - Вычислить ожидаемую полезность действия a, используя V(s).\n",
    "            ii. Обновить вероятности выбора действий в соответствии с вычисленными ожидаемыми полезностями (например, пропорционально экспонентам ожидаемых полезностей или выбрать действие с максимальной ожидаемой полезностью с определенной вероятностью).\n"
   ]
  },
  {
   "cell_type": "code",
   "execution_count": 6,
   "metadata": {
    "id": "loPFLkPxXzE2"
   },
   "outputs": [],
   "source": [
    "def reward(state):\n",
    "    if state == tuple(target):\n",
    "        return 10\n",
    "    elif state == tuple(passenger):\n",
    "        return 10\n",
    "    elif in_boundaries(state):\n",
    "        return -1000\n",
    "    else:\n",
    "        return -1\n",
    "\n",
    "def softmax(x):\n",
    "    \"\"\"Вычисление softmax для списка значений.\"\"\"\n",
    "    e_x = np.exp(x - np.max(x))\n",
    "    return e_x / e_x.sum()\n",
    "\n",
    "def stochastic_policy_improvement(V, gamma=0.99):\n",
    "    policy = np.zeros(field_size, dtype=object)  # Используем dtype=object для хранения массивов вероятностей\n",
    "    for x in range(field_size[0]):\n",
    "        for y in range(field_size[1]):\n",
    "            action_values = np.array([reward((x, y)) + gamma * V[step((x, y), a)] for a in actions])\n",
    "            action_probabilities = softmax(action_values)\n",
    "            policy[x, y] = action_probabilities  # Теперь policy[x, y] хранит массив вероятностей\n",
    "    return policy\n",
    "\n",
    "\n",
    "def stochastic_policy_iteration():\n",
    "    policy = np.full(field_size, None, dtype=object)  # Инициализируем policy как массив None для сохранения массивов вероятностей\n",
    "    V = np.zeros(field_size)\n",
    "    gamma = 0.99\n",
    "    is_policy_stable = False\n",
    "    threshold = 0.001\n",
    "    for i in range(50):\n",
    "        # Оценка стратегии с учетом стохастичности\n",
    "        while True:\n",
    "            delta = 0\n",
    "            for x in range(field_size[0]):\n",
    "                for y in range(field_size[1]):\n",
    "                    v = V[x, y]\n",
    "                    # Гарантируем, что action_probabilities всегда итерируем\n",
    "                    action_probabilities = policy[x, y] if policy[x, y] is not None else np.ones(len(actions)) / len(actions)\n",
    "                    # Важно: используем zip(actions, action_probabilities) корректно\n",
    "                    V[x, y] = sum([p * (reward(step((x, y), a)) + gamma * V[step((x, y), a)]) for a, p in zip(actions, action_probabilities)])\n",
    "                    delta = max(delta, abs(v - V[x, y]))\n",
    "            if delta < threshold:\n",
    "                break\n",
    "        # Улучшение стратегии\n",
    "        new_policy = stochastic_policy_improvement(V, gamma)\n",
    "        # Проверяем, изменилась ли стратегия\n",
    "        is_policy_stable = all(np.array_equal(policy[x, y], new_policy[x, y]) for x in range(field_size[0]) for y in range(field_size[1]))\n",
    "        policy = new_policy\n",
    "    return policy\n"
   ]
  },
  {
   "cell_type": "code",
   "execution_count": 11,
   "metadata": {
    "id": "z1OxUXp2ipxv"
   },
   "outputs": [],
   "source": [
    "import numpy as np\n",
    "import matplotlib.pyplot as plt\n",
    "import matplotlib.patches as mpatches\n",
    "\n",
    "# Действия: вверх, вниз, влево, вправо\n",
    "actions = [(0, -1), (0, 1), (-1, 0), (1, 0)]\n",
    "action_labels = ['↑', '↓', '←', '→']\n",
    "\n",
    "def draw_stochastic_policy(policy, passenger, car, target, field_size=(7, 7)):\n",
    "    fig, ax = plt.subplots()\n",
    "    # Отрисовка сетки\n",
    "    ax.set_xlim(0, field_size[0])\n",
    "    ax.set_ylim(0, field_size[1])\n",
    "    plt.grid(True)\n",
    "    plt.xticks(np.arange(0, field_size[0], 1))\n",
    "    plt.yticks(np.arange(0, field_size[1], 1))\n",
    "\n",
    "    for x in range(field_size[0]):\n",
    "        for y in range(field_size[1]):\n",
    "            for action_index, (dy, dx) in enumerate(actions):\n",
    "                action_prob = policy[x, y][action_index]\n",
    "                # Настройка внешнего вида стрелок на основе вероятности действия\n",
    "                arrow_width = 0.01 + 0.2 * action_prob  # Жирность стрелки коррелирует с вероятностью\n",
    "                arrow_head_width = 0.2 + 0.4 * action_prob\n",
    "                arrow_head_length = 0.1 + 0.2 * action_prob\n",
    "                arrow_properties = dict(facecolor=\"black\", width=arrow_width, head_width=arrow_head_width, head_length=arrow_head_length)\n",
    "\n",
    "                ax.arrow(y + 0.5, x + 0.5, dx * 0.3, dy * 0.3, **arrow_properties)\n",
    "\n",
    "    # Размещение символов для автомобиля и цели\n",
    "    td = 0.5\n",
    "    markersize = 15\n",
    "\n",
    "    #  # Размещение символов для пассажира, автомобиля и цели\n",
    "    ax.plot(passenger[1]+td, passenger[0]+td, 'go', markersize=markersize)  # P - зеленый\n",
    "    ax.text(passenger[1]+td, passenger[0]+td, 'P', ha='center', va='center', color='white')\n",
    "\n",
    "    ax.plot(car[1]+td, car[0]+td, 'ro', markersize=markersize)  # C - красный\n",
    "    ax.text(car[1]+td, car[0]+td, 'C', ha='center', va='center', color='white')\n",
    "\n",
    "    ax.plot(target[1]+td, target[0]+td, 'bo', markersize=markersize)  # T - синий\n",
    "    ax.text(target[1]+td, target[0]+td, 'T', ha='center', va='center', color='white')\n",
    "\n",
    "    plt.gca().invert_yaxis()  # Инвертирование оси Y для соответствия обычным координатам\n",
    "    plt.axis('off')  # Скрытие осей\n",
    "    plt.show()"
   ]
  },
  {
   "cell_type": "code",
   "execution_count": 12,
   "metadata": {
    "colab": {
     "base_uri": "https://localhost:8080/",
     "height": 406
    },
    "id": "JyHmerOXkiQX",
    "outputId": "146080e0-83fb-4044-ce95-5e7be4eefcba"
   },
   "outputs": [
    {
     "data": {
      "image/png": "[encoded data removed]",
      "text/plain": [
       "<Figure size 640x480 with 1 Axes>"
      ]
     },
     "metadata": {},
     "output_type": "display_data"
    }
   ],
   "source": [
    "policy = stochastic_policy_iteration()\n",
    "draw_stochastic_policy(policy, passenger, car, target, field_size=(7, 7))"
   ]
  },
  {
   "cell_type": "markdown",
   "metadata": {
    "id": "DHnXvtLH3Mr0"
   },
   "source": [
    "## Добашняя работа"
   ]
  },
  {
   "cell_type": "markdown",
   "metadata": {
    "id": "lXxCqxPD3FE0"
   },
   "source": [
    "\n",
    "Задача: Найти оптимальную стратегию перемещения таксиста по городу Новинск, используя марковский процесс принятия решений.\n",
    "\n",
    "Описание:\n",
    "В городе Новинск таксист ездит по решётчатому участку, состоящему из 5x5 ячеек. Он может перемещаться на одну ячейку вверх, вниз, влево или вправо (если не находится на границе). В определённых ячейках находятся пассажиры, а в других ячейках — места назначения.\n",
    "\n",
    "Детали:\n",
    "Всего 4 возможных места, где может находиться пассажир (A, B, C, D).\n",
    "Есть 4 соответствующих места назначения (a, b, c, d).\n",
    "Пассажир может находиться в любом из четырех мест (A, B, C, D) и желать доехать до любого из четырёх мест назначения.\n",
    "Таксист получает +10 очков за каждого успешно доставленного пассажира до его пункта назначения и -1 за каждое движение. Если таксист приезжает на ячейку с пассажиром, он автоматически забирает его.\n",
    "\n",
    "\n",
    "**По сути необходимо найти наилучшей порядок развозки пассажиров!**\n",
    "\n",
    "\n",
    "Что нужно сдать:\n",
    "Описание задачи как марковского процесса принятия решений (МППР), включая состояния, действия, награды и переходы между состояниями.\n",
    "Код, включающий:\n",
    "Код процесса обучения, реализующего выбранный итеративный метод (например, итерацию по значению или итерацию по стратегии), пример запуска кода обучения (чтобы легко можно было запустить)\n",
    "Код инференса, демонстрирующий работу обученной стратегии на разных вариантах поля.\n",
    "\n",
    "Критерии оценивания:\n",
    "Корректность описания МППР (учтены все комбинации состояний,\n",
    "для каждого состояния определены возможные действия, вероятности переходов корректно установлены, награды за действия и переходы четко определены)\n",
    "\n",
    "Код обучения запускается без ошибок.\n",
    "Код инференса запускается без ошибок.\n",
    "Решение должно набирать больше очков, чем бейзлайн решение на 5 вариантах поля (скрипт для проверки будет выдан).\n",
    "\n",
    "\n",
    "Подсказка:\n",
    "Рассмотрите каждую возможную комбинацию местоположения такси, местоположения пассажира и пункта назначения пассажира как отдельное состояние. Например, если таксист находится на ячейке (2, 2), пассажир находится в месте B и желает доехать до места c, это одно из возможных состояний.\n"
   ]
  },
  {
   "cell_type": "markdown",
   "metadata": {
    "id": "Kn6ycEfo3Sdv"
   },
   "source": [
    "*Hints*\n",
    "\n",
    "\n",
    "Пусть есть случайный запрос по транспортировке - Ab Bc Cd Da (т.е. пассажиры (A, B, C, D) хотят добраться до мест(b, c, d, a) соответсвенно. Тогда возможные состояния можно записать так:\n",
    "\n",
    "\n",
    "```\n",
    "\n",
    "states = [0 - start_position [0, 0, 0, 0],\n",
    "         1 - [1, 0, 0, 0],\n",
    "         2 - [0, 1, 0, 0],\n",
    "         3 - [0, 0, 0, 1],\n",
    "         4 - [1, 0, 0, 2],\n",
    "         5 - [2, 0, 0, 1]\n",
    "         ...\n",
    "         ]\n",
    "```\n",
    "\n",
    "\n",
    "Действия в задаче - заказы, которые можно взять\n",
    "\n",
    "\n",
    "```\n",
    "actions = [1, 2, 3, 4]\n",
    "\n",
    "```\n",
    "\n",
    "Вознаграждение - штраф, звычисляемый как расстояние до точки где находится пассажи + расстояние до точки направления:\n",
    "\n",
    "\n",
    "```\n",
    "reward =  - dist(previos_place, pessanger) + dist(pessanger, new_place)\n",
    "\n",
    "```\n"
   ]
  },
  {
   "cell_type": "markdown",
   "metadata": {
    "id": "mxZjEhS75lXd"
   },
   "source": [
    "* Какую стратегию лучше использовать?"
   ]
  },
  {
   "cell_type": "code",
   "execution_count": null,
   "metadata": {
    "id": "whjayYYF3spX"
   },
   "outputs": [],
   "source": []
  },
  {
   "cell_type": "code",
   "execution_count": null,
   "metadata": {},
   "outputs": [],
   "source": []
  },
  {
   "cell_type": "code",
   "execution_count": null,
   "metadata": {},
   "outputs": [],
   "source": []
  },
  {
   "cell_type": "code",
   "execution_count": null,
   "metadata": {},
   "outputs": [],
   "source": []
  },
  {
   "cell_type": "code",
   "execution_count": null,
   "metadata": {},
   "outputs": [],
   "source": []
  }
 ],
 "metadata": {
  "colab": {
   "provenance": []
  },
  "kernelspec": {
   "display_name": "Python 3 (ipykernel)",
   "language": "python",
   "name": "python3"
  },
  "language_info": {
   "codemirror_mode": {
    "name": "ipython",
    "version": 3
   },
   "file_extension": ".py",
   "mimetype": "text/x-python",
   "name": "python",
   "nbconvert_exporter": "python",
   "pygments_lexer": "ipython3",
   "version": "3.10.12"
  }
 },
 "nbformat": 4,
 "nbformat_minor": 4
}
